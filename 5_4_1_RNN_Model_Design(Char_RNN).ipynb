{
  "cells": [
    {
      "cell_type": "markdown",
      "metadata": {
        "id": "view-in-github",
        "colab_type": "text"
      },
      "source": [
        "<a href=\"https://colab.research.google.com/github/dyna-bytes/PyTorchIntensive/blob/main/5_4_1_RNN_Model_Design(Char_RNN).ipynb\" target=\"_parent\"><img src=\"https://colab.research.google.com/assets/colab-badge.svg\" alt=\"Open In Colab\"/></a>"
      ]
    },
    {
      "cell_type": "code",
      "execution_count": null,
      "metadata": {
        "id": "OdsDHim_Fi6t"
      },
      "outputs": [],
      "source": [
        "# 변수의 shape, type, value 확인\n",
        "def p(var,_str='') :\n",
        "    if _str=='\\n' or _str=='cr' :\n",
        "        _str = '\\n'\n",
        "    else :\n",
        "        print(f'[{_str}]:')\n",
        "        _str = ''\n",
        "    if type(var)!=type([]):\n",
        "        try:\n",
        "            print(f'Shape:{var.shape}')\n",
        "        except :\n",
        "            pass\n",
        "    print(f'Type: {type(var)}')\n",
        "    print(f'Values: {var}'+_str)\n",
        "\n",
        "def pst(_x,_name=\"\"):\n",
        "    print(f'[{_name}] Shape{_x.shape}, {type(_x)}')\n",
        "def ps(_x,_name=\"\"):\n",
        "    print(f'[{_name}] Shape{_x.shape}')"
      ]
    },
    {
      "cell_type": "code",
      "execution_count": null,
      "metadata": {
        "id": "SzeZ7KCOFjZD"
      },
      "outputs": [],
      "source": [
        "%%capture\n",
        "!pip install pytorch_lightning torchinfo torchmetrics pandas torchviz"
      ]
    },
    {
      "cell_type": "markdown",
      "metadata": {
        "id": "B3oFZBrIZ8ar"
      },
      "source": [
        "# RNN Model Design (Char-RNN)"
      ]
    },
    {
      "cell_type": "markdown",
      "metadata": {
        "id": "ZQKizrb-Y1er"
      },
      "source": [
        "## **Import Module**"
      ]
    },
    {
      "cell_type": "code",
      "execution_count": null,
      "metadata": {
        "colab": {
          "base_uri": "https://localhost:8080/"
        },
        "id": "xs8MKR6oYOWE",
        "outputId": "e4b7ea07-aeb1-4108-eba6-4efb65cf9f26"
      },
      "outputs": [
        {
          "output_type": "execute_result",
          "data": {
            "text/plain": [
              "('2.0.1+cu118', '2.0.3')"
            ]
          },
          "metadata": {},
          "execution_count": 3
        }
      ],
      "source": [
        "import torch\n",
        "from torch import nn\n",
        "from torch.nn import functional as F\n",
        "from torch.utils.data import DataLoader, random_split\n",
        "import pytorch_lightning as pl\n",
        "from pytorch_lightning import Trainer\n",
        "from pytorch_lightning.callbacks import ModelCheckpoint\n",
        "from torchmetrics import functional as FM\n",
        "from torchinfo import summary\n",
        "from torch.utils.data import Dataset, DataLoader\n",
        "from tensorboard.backend.event_processing.event_accumulator import EventAccumulator\n",
        "\n",
        "import numpy as np\n",
        "import matplotlib.pyplot as plt\n",
        "import pandas as pd\n",
        "plt.rcParams['figure.figsize'] = [5, 3.5]\n",
        "\n",
        "device = 'cuda:0'\n",
        "torch.__version__, pl.__version__"
      ]
    },
    {
      "cell_type": "markdown",
      "metadata": {
        "id": "bopseuhzYOWI"
      },
      "source": [
        "## **DataSet**"
      ]
    },
    {
      "cell_type": "markdown",
      "metadata": {
        "id": "vBEut7IrYOWI"
      },
      "source": [
        "### 학습할 문장 만들기"
      ]
    },
    {
      "cell_type": "code",
      "execution_count": null,
      "metadata": {
        "colab": {
          "base_uri": "https://localhost:8080/"
        },
        "id": "cC8AS287Hz-9",
        "outputId": "e041631f-c321-4317-cc5b-8031f1f04c57"
      },
      "outputs": [
        {
          "output_type": "stream",
          "name": "stdout",
          "text": [
            "FOLLOWING IS OUR TRAINING SEQUENCE:\n",
            "if you want to build a ship, don't drum up people together to collect wood and don't assign them tasks and work, but rather teach them to long for the endless immensity of the sea.\n",
            "Length of 'test sentence' is 180\n"
          ]
        }
      ],
      "source": [
        "# 학습할 문장\n",
        "sentence = (\"if you want to build a ship, don't drum up people together to \"\n",
        "            \"collect wood and don't assign them tasks and work, but rather \"\n",
        "            \"teach them to long for the endless immensity of the sea.\")\n",
        "print (\"FOLLOWING IS OUR TRAINING SEQUENCE:\")\n",
        "print (sentence)\n",
        "print (\"Length of 'test sentence' is %s\" %len(sentence))"
      ]
    },
    {
      "cell_type": "markdown",
      "metadata": {
        "id": "xDf-ptDWYOWM"
      },
      "source": [
        "### 입력 문자열과 타겟 문자 준비"
      ]
    },
    {
      "cell_type": "code",
      "execution_count": null,
      "metadata": {
        "colab": {
          "base_uri": "https://localhost:8080/"
        },
        "id": "R7d2RtBMDI6a",
        "outputId": "a5d5efde-abbd-47b4-ad0b-21043c50cd8f"
      },
      "outputs": [
        {
          "output_type": "stream",
          "name": "stdout",
          "text": [
            "CHARACTERS: \n",
            "25\n",
            "['c', 'r', \"'\", 'k', 'i', ' ', 'g', 't', 'n', 'p', 'b', 'm', 'o', '.', 'w', 'u', 's', 'd', 'h', 'f', ',', 'e', 'y', 'a', 'l']\n",
            "DICTIONARY: \n",
            "25\n",
            "{'c': 0, 'r': 1, \"'\": 2, 'k': 3, 'i': 4, ' ': 5, 'g': 6, 't': 7, 'n': 8, 'p': 9, 'b': 10, 'm': 11, 'o': 12, '.': 13, 'w': 14, 'u': 15, 's': 16, 'd': 17, 'h': 18, 'f': 19, ',': 20, 'e': 21, 'y': 22, 'a': 23, 'l': 24}\n"
          ]
        }
      ],
      "source": [
        "# make charater dictionary\n",
        "char_set = list(set(sentence)) # char set 생성\n",
        "char_dic = {w: i for i, w in enumerate(char_set)}\n",
        "print (\"CHARACTERS: \")\n",
        "print (len(char_set))\n",
        "print (char_set)\n",
        "print (\"DICTIONARY: \")\n",
        "print (len(char_dic))\n",
        "print (char_dic)"
      ]
    },
    {
      "cell_type": "code",
      "execution_count": null,
      "metadata": {
        "colab": {
          "base_uri": "https://localhost:8080/"
        },
        "id": "KHae1jJRYOWP",
        "outputId": "7718d950-5fb4-4a39-9a93-a85fc6cf5584"
      },
      "outputs": [
        {
          "output_type": "stream",
          "name": "stdout",
          "text": [
            "data_dim : 25\n",
            "num_classes : 25\n"
          ]
        }
      ],
      "source": [
        "data_dim    = len(char_set) # train data X:input\n",
        "num_classes = len(char_set) # trian data Y:target\n",
        "sequence_length = 10        # any arbitrary number\n",
        "features = 1                # X,Y index\n",
        "print ('data_dim : %d' %data_dim)\n",
        "print ('num_classes : %d' %num_classes)"
      ]
    },
    {
      "cell_type": "code",
      "execution_count": null,
      "metadata": {
        "colab": {
          "base_uri": "https://localhost:8080/"
        },
        "id": "jNzpUnKwYOWR",
        "outputId": "0a6efec2-da9b-4a9a-f072-1aaed16146b4"
      },
      "outputs": [
        {
          "output_type": "stream",
          "name": "stdout",
          "text": [
            "[  0/180] [if you wan]=>[f you want]\n",
            "          [4, 19, 5, 22, 12, 15, 5, 14, 23, 8]=>[19, 5, 22, 12, 15, 5, 14, 23, 8, 7]\n",
            "[  1/180] [f you want]=>[ you want ]\n",
            "          [19, 5, 22, 12, 15, 5, 14, 23, 8, 7]=>[5, 22, 12, 15, 5, 14, 23, 8, 7, 5]\n",
            "[  2/180] [ you want ]=>[you want t]\n",
            "          [5, 22, 12, 15, 5, 14, 23, 8, 7, 5]=>[22, 12, 15, 5, 14, 23, 8, 7, 5, 7]\n",
            "[  3/180] [you want t]=>[ou want to]\n",
            "          [22, 12, 15, 5, 14, 23, 8, 7, 5, 7]=>[12, 15, 5, 14, 23, 8, 7, 5, 7, 12]\n",
            "[  4/180] [ou want to]=>[u want to ]\n",
            "          [12, 15, 5, 14, 23, 8, 7, 5, 7, 12]=>[15, 5, 14, 23, 8, 7, 5, 7, 12, 5]\n"
          ]
        }
      ],
      "source": [
        "dataX = []  # input sequence list\n",
        "dataY = []  # target sequence list\n",
        "\n",
        "# we will make 170 sequences\n",
        "for i in range(0, len(sentence) - sequence_length):\n",
        "    # 10 characters = 1 training sequence\n",
        "    x_str = sentence[i : i+sequence_length]\n",
        "    y_str = sentence[i+1 : i+sequence_length+1]\n",
        "    # convert x, y str to index(int)\n",
        "    x_idx = [char_dic[c] for c in x_str]\n",
        "    y_idx = [char_dic[c] for c in y_str]\n",
        "    # append to dataset list\n",
        "    dataX.append(x_idx)\n",
        "    dataY.append(y_idx)\n",
        "\n",
        "    # monitoring\n",
        "    if i<5:\n",
        "        print (\"[%3d/%3d] [%s]=>[%s]\" % (i, len(sentence), x_str, y_str))\n",
        "        print (\"%s%s=>%s\" % (' '*10, x_idx, y_idx))"
      ]
    },
    {
      "cell_type": "markdown",
      "metadata": {
        "id": "59y_7OfhvMpY"
      },
      "source": [
        "**입력문자 index의 list를 ndarrary로 변환**"
      ]
    },
    {
      "cell_type": "code",
      "execution_count": null,
      "metadata": {
        "colab": {
          "base_uri": "https://localhost:8080/"
        },
        "id": "w8vT8VgJR0Ct",
        "outputId": "8c034612-fa82-4c12-ebe2-e36f29f31cc4"
      },
      "outputs": [
        {
          "output_type": "stream",
          "name": "stdout",
          "text": [
            "[X] Shape(170, 10, 1)\n",
            "[Y] Shape(170, 10, 1)\n",
            "[Y1] Shape(170, 1)\n"
          ]
        }
      ],
      "source": [
        "X = np.array(dataX)   # ndarray(170,10)<-[170,10]\n",
        "X = np.reshape(X,(X.shape[0],X.shape[1],features))\n",
        "ps(X,'X') # (170,10,1)\n",
        "\n",
        "# Target tensor 생성 # ndarray(170,10,1)<-[170,10]\n",
        "Y = np.array(dataY)   # (170,10)<-[170,10]\n",
        "Y = Y= np.reshape(Y,(Y.shape[0],Y.shape[1],features))\n",
        "ps(Y,'Y') # (170,10,1)\n",
        "\n",
        "Y1 = np.array(dataY)[:,-1]  # 마지막 문자만, (170,)<-[170,10]\n",
        "Y1= np.reshape(Y1,(Y1.shape[0],features)) # (170,1)\n",
        "ps(Y1,'Y1') # (170,1)"
      ]
    },
    {
      "cell_type": "markdown",
      "metadata": {
        "id": "9fXYpDlpR0Cs"
      },
      "source": [
        "#### 참고자료\n",
        "**** Shape 살펴보기 ****\n",
        "- shape은 np.array(ndarray)가 갖은 n-dim 행렬의 shape을 보이는 것"
      ]
    },
    {
      "cell_type": "code",
      "execution_count": null,
      "metadata": {
        "id": "7AMV0_IHR0Ct"
      },
      "outputs": [],
      "source": [
        "list_ = [1,2,3,4,5]\n",
        "print(list_)\n",
        "list_"
      ]
    },
    {
      "cell_type": "markdown",
      "metadata": {
        "id": "0lCB1GEER0Cu"
      },
      "source": [
        "* 행렬: [ 1 2 3 ]\n",
        "* 벡터: (1,2,3)\n",
        "* list:[1,2,3]\n",
        "* ndarray : arrary(list) (= n-dim 행렬)"
      ]
    },
    {
      "cell_type": "code",
      "execution_count": null,
      "metadata": {
        "id": "raVMdCAlR0Cu",
        "colab": {
          "base_uri": "https://localhost:8080/"
        },
        "outputId": "87cf66a9-bb04-4548-c985-0b9d29fcbfa8"
      },
      "outputs": [
        {
          "output_type": "stream",
          "name": "stdout",
          "text": [
            "[1 2 3 4 5]\n"
          ]
        },
        {
          "output_type": "execute_result",
          "data": {
            "text/plain": [
              "array([1, 2, 3, 4, 5])"
            ]
          },
          "metadata": {},
          "execution_count": 24
        }
      ],
      "source": [
        "na = np.array([1,2,3,4,5])\n",
        "print(na)                   # value를 print\n",
        "na                          # 무엇인지 보여줌(contents)"
      ]
    },
    {
      "cell_type": "code",
      "execution_count": null,
      "metadata": {
        "id": "JuzRtGRmR0Cu"
      },
      "outputs": [],
      "source": [
        "list_ = [1,2,3,4,5]\n",
        "# list는 shape을 표현할 수 없음(행렬이 아님)\n",
        "p(list_)                   # [1,2,3,4,5]         shape(x)\n",
        "na = np.array(list_)\n",
        "p(na)                      # [1 2 3 4 5]         (5,)\n",
        "p(np.reshape(na,(5,1)))    # [[1][2][3][4][5]]   (5,1)\n",
        "p(np.reshape(na,(1,5)))    # [[1 2 3 4 5]]       (1,5)\n",
        "p(np.reshape(na,(1,5,1)))  # [[[1][2][3][4][5]]] (1,5,1)\n",
        "p(np.reshape(na,(1,5,1,1)))# [[[[1]][[2]][[3]][[4]][[5]]]]\n",
        "p(np.reshape(na,(1,1,5,1)))# [[[[1][2][3][4][5]]]]\n",
        "p(np.squeeze(np.reshape(na,(1,5,1))))# [1 2 3 4 5] (5,)"
      ]
    },
    {
      "cell_type": "markdown",
      "metadata": {
        "id": "CphtKlplkz1c"
      },
      "source": [
        "### Define CustormDataset"
      ]
    },
    {
      "cell_type": "code",
      "execution_count": null,
      "metadata": {
        "id": "8tJlK4RLR0Cu"
      },
      "outputs": [],
      "source": [
        "class CustomDataset(Dataset):\n",
        "    def __init__(self, x, y):\n",
        "        super().__init__()\n",
        "        self.x = x\n",
        "        self.y = y\n",
        "    def __len__(self):\n",
        "        return len(self.x)\n",
        "    def __getitem__(self, idx):\n",
        "        return torch.Tensor(self.x[idx]), torch.LongTensor(self.y[idx]).to(device)\n",
        "\n",
        "trainDataset = CustomDataset(X, Y1)\n",
        "trainDataLoader = DataLoader(trainDataset, shuffle=True,\n",
        "                             drop_last=False, batch_size=2)\n",
        "\n",
        "trainDataset_many = CustomDataset(X, Y)\n",
        "trainDataLoader_many = DataLoader(trainDataset_many, shuffle=True,\n",
        "                                  drop_last=False, batch_size=1)"
      ]
    },
    {
      "cell_type": "markdown",
      "metadata": {
        "id": "qA4eG-KvYOWY"
      },
      "source": [
        "## **Model-1** : many to one model"
      ]
    },
    {
      "cell_type": "markdown",
      "metadata": {
        "id": "eG2Ht5x3YOWY"
      },
      "source": [
        "### Define"
      ]
    },
    {
      "cell_type": "markdown",
      "metadata": {
        "id": "UaVlbG21R0Cv"
      },
      "source": [
        "**주의 사항**\n",
        "* model에 softmax가 없는 이유는 torch의 cross_entropy 함수에서 자체적으로 softmax를 한 후 loss를 계산하기 때문이다."
      ]
    },
    {
      "cell_type": "code",
      "execution_count": null,
      "metadata": {
        "colab": {
          "base_uri": "https://localhost:8080/"
        },
        "id": "2mOn2LCDR0Cv",
        "outputId": "850e6dde-2dca-4719-ceb6-7a5e7f9c3422"
      },
      "outputs": [
        {
          "output_type": "stream",
          "name": "stdout",
          "text": [
            "[] Shapetorch.Size([2, 25])\n"
          ]
        },
        {
          "output_type": "execute_result",
          "data": {
            "text/plain": [
              "==========================================================================================\n",
              "Layer (type:depth-idx)                   Output Shape              Param #\n",
              "==========================================================================================\n",
              "ManyToOneLSTM                            [2, 25]                   --\n",
              "├─LSTM: 1-1                              [2, 10, 75]               23,400\n",
              "├─Linear: 1-2                            [2, 25]                   1,900\n",
              "==========================================================================================\n",
              "Total params: 25,300\n",
              "Trainable params: 25,300\n",
              "Non-trainable params: 0\n",
              "Total mult-adds (M): 0.47\n",
              "==========================================================================================\n",
              "Input size (MB): 0.00\n",
              "Forward/backward pass size (MB): 0.01\n",
              "Params size (MB): 0.10\n",
              "Estimated Total Size (MB): 0.11\n",
              "=========================================================================================="
            ]
          },
          "metadata": {},
          "execution_count": 18
        }
      ],
      "source": [
        "hidden_dim = 75 #150\n",
        "class ManyToOneLSTM(pl.LightningModule):\n",
        "    def __init__(self, features, units, num_classes, batch_first=True):\n",
        "        super(ManyToOneLSTM, self).__init__()\n",
        "        self.lstm = nn.LSTM(input_size=features, hidden_size=units,\n",
        "                            batch_first=batch_first)\n",
        "        self.linear = nn.Linear(units, num_classes)\n",
        "    def forward(self, x):\n",
        "        out, (hn, cn) = self.lstm(x) #(bs,timesteps,units)\n",
        "        out = self.linear(out[:, -1, :]) #(bs,1)<-(bs,units)\n",
        "        return out\n",
        "\n",
        "    def training_step(self, batch, batch_idx):\n",
        "        x, y = batch\n",
        "        y_hat = self(x)       #(bs, num_classes)\n",
        "        y = y.squeeze(dim=-1) #(bs,)<-(bs,1)\n",
        "        loss = F.cross_entropy(y_hat, y)\n",
        "        acc = FM.accuracy(y_hat, y, task='multiclass', num_classes=25 )\n",
        "        metrics = {'loss':loss, 'acc':acc}\n",
        "        self.log_dict(metrics,on_step=False,on_epoch=True)\n",
        "        return loss\n",
        "\n",
        "    def configure_optimizers(self):\n",
        "        return torch.optim.Adam(self.parameters())\n",
        "\n",
        "model = ManyToOneLSTM(features, hidden_dim, num_classes)\n",
        "\n",
        "inputs = torch.zeros(2,sequence_length,features)\n",
        "output = model(inputs) #(2,25)\n",
        "ps(output)\n",
        "summary(model, input_size=(2, sequence_length, features)) #(4,10,1)"
      ]
    },
    {
      "cell_type": "code",
      "execution_count": null,
      "metadata": {
        "id": "VEbuC_2rR0Cw"
      },
      "outputs": [],
      "source": [
        "#torch.onnx.export(model.cpu(), inputs, 'CharRNN-1.onnx')"
      ]
    },
    {
      "cell_type": "markdown",
      "metadata": {
        "id": "KT0mSK5_YOWk"
      },
      "source": [
        "### Fit"
      ]
    },
    {
      "cell_type": "code",
      "execution_count": null,
      "metadata": {
        "colab": {
          "base_uri": "https://localhost:8080/",
          "height": 361,
          "referenced_widgets": [
            "d69eba2d83ac43e9938b2583aba2b8a6",
            "5ef7f2c40ca840c793b329bff9aa2265",
            "db577d95698348868344a0d6f3ccbead",
            "60056c2fcdc64e4b821a900b827e3802",
            "ade927a15fee4c0db56656e81ce627d5",
            "23e128853f3d455c9e575ae818337c56",
            "04beac2c18924df99ec48dd35ca6b271",
            "c22ccaa186094194a0f44e6b95161fd6",
            "b6bce1d19d6e49aca5cc5a0e0d5c050c",
            "6d5f0e21cc8a41fdaf0501518b4a1528",
            "b41d86d1476f4db7bb8ed0c2ede35292"
          ]
        },
        "id": "tK65ByefR0Cw",
        "outputId": "4be7c3c4-f91b-4a51-9c8b-c6421df4b7d1"
      },
      "outputs": [
        {
          "output_type": "stream",
          "name": "stderr",
          "text": [
            "INFO:pytorch_lightning.utilities.rank_zero:GPU available: True (cuda), used: True\n",
            "INFO:pytorch_lightning.utilities.rank_zero:TPU available: False, using: 0 TPU cores\n",
            "INFO:pytorch_lightning.utilities.rank_zero:IPU available: False, using: 0 IPUs\n",
            "INFO:pytorch_lightning.utilities.rank_zero:HPU available: False, using: 0 HPUs\n",
            "INFO:pytorch_lightning.accelerators.cuda:LOCAL_RANK: 0 - CUDA_VISIBLE_DEVICES: [0]\n",
            "INFO:pytorch_lightning.callbacks.model_summary:\n",
            "  | Name   | Type   | Params\n",
            "----------------------------------\n",
            "0 | lstm   | LSTM   | 23.4 K\n",
            "1 | linear | Linear | 1.9 K \n",
            "----------------------------------\n",
            "25.3 K    Trainable params\n",
            "0         Non-trainable params\n",
            "25.3 K    Total params\n",
            "0.101     Total estimated model params size (MB)\n"
          ]
        },
        {
          "output_type": "display_data",
          "data": {
            "text/plain": [
              "Training: 0it [00:00, ?it/s]"
            ],
            "application/vnd.jupyter.widget-view+json": {
              "version_major": 2,
              "version_minor": 0,
              "model_id": "d69eba2d83ac43e9938b2583aba2b8a6"
            }
          },
          "metadata": {}
        },
        {
          "output_type": "stream",
          "name": "stderr",
          "text": [
            "INFO:pytorch_lightning.utilities.rank_zero:`Trainer.fit` stopped: `max_epochs=200` reached.\n"
          ]
        },
        {
          "output_type": "stream",
          "name": "stdout",
          "text": [
            "CPU times: user 1min 7s, sys: 1.49 s, total: 1min 8s\n",
            "Wall time: 1min 8s\n"
          ]
        }
      ],
      "source": [
        "%%time\n",
        "trainer = Trainer(max_epochs=200, accelerator='auto')\n",
        "trainer.fit(model, trainDataLoader)"
      ]
    },
    {
      "cell_type": "code",
      "execution_count": null,
      "metadata": {
        "colab": {
          "base_uri": "https://localhost:8080/"
        },
        "id": "Xiiz3Ok-R0Cx",
        "outputId": "f1c5b6fd-0fbc-4b9e-f692-4a04f6088172"
      },
      "outputs": [
        {
          "output_type": "execute_result",
          "data": {
            "text/plain": [
              "<tensorboard.backend.event_processing.event_accumulator.EventAccumulator at 0x7f0df0cc0580>"
            ]
          },
          "metadata": {},
          "execution_count": 21
        }
      ],
      "source": [
        "log = {}\n",
        "# model train_logdir 확인\n",
        "v_num = model.logger.version\n",
        "log_dir = f'lightning_logs/version_{v_num}'\n",
        "\n",
        "event_accumulator = EventAccumulator(log_dir)\n",
        "event_accumulator.Reload()"
      ]
    },
    {
      "cell_type": "code",
      "execution_count": null,
      "metadata": {
        "id": "Nfni7IZkZY_g"
      },
      "outputs": [],
      "source": [
        "#pd.DataFrame(event_accumulator.Scalars(\"epoch\"))"
      ]
    },
    {
      "cell_type": "code",
      "execution_count": null,
      "metadata": {
        "id": "r_KxLC7AZwvt"
      },
      "outputs": [],
      "source": [
        "#pd.DataFrame(event_accumulator.Scalars(\"acc\"))"
      ]
    },
    {
      "cell_type": "code",
      "execution_count": null,
      "metadata": {
        "id": "y663YfEUaE6w"
      },
      "outputs": [],
      "source": [
        "#pd.DataFrame(event_accumulator.Scalars(\"loss\"))"
      ]
    },
    {
      "cell_type": "code",
      "execution_count": null,
      "metadata": {
        "id": "kiruY_2wZWhi"
      },
      "outputs": [],
      "source": [
        "loss = [x.value for x in event_accumulator.Scalars('loss')]\n",
        "acc = [x.value for x in event_accumulator.Scalars('acc')]\n",
        "print(f'Max Acc:{max(acc)}')\n",
        "print(f'Min Loss:{max(loss)}')\n",
        "\n",
        "log['ManyToOneLSTM'] = [loss, acc]\n",
        "\n",
        "plt.plot(log['ManyToOneLSTM'][0], linestyle='--', label=\"train_loss\")\n",
        "plt.plot(log['ManyToOneLSTM'][1], linestyle='--', label=\"train_acc\")\n",
        "\n",
        "#plt.ylim(0.1, 1)\n",
        "plt.semilogy()\n",
        "plt.legend()\n",
        "plt.grid()\n",
        "plt.show()"
      ]
    },
    {
      "cell_type": "markdown",
      "source": [
        "![image.png](data:image/png;base64,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)"
      ],
      "metadata": {
        "id": "h2vxZvzpW_iM"
      }
    },
    {
      "cell_type": "markdown",
      "metadata": {
        "id": "RDO_9HMSsRe_"
      },
      "source": [
        "![image.png](data:image/png;base64,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) ![image.png](data:image/png;base64,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)"
      ]
    },
    {
      "cell_type": "markdown",
      "metadata": {
        "id": "P2m42OJAYOWn"
      },
      "source": [
        "### **Generate Text:** analysis"
      ]
    },
    {
      "cell_type": "markdown",
      "metadata": {
        "id": "6uBnrJJe0fgz"
      },
      "source": [
        "#### Define generate_seq function"
      ]
    },
    {
      "cell_type": "code",
      "execution_count": null,
      "metadata": {
        "id": "OFq9I4aCDI6k"
      },
      "outputs": [],
      "source": [
        "# 문자열 생성하기\n",
        "def generate_seq(model, char_dic, seq_length, seed_text, n_chars):\n",
        "    in_text = seed_text    # seed 문자열 + 생성 문자\n",
        "    # 생성할 문자열의 수 = n_chars\n",
        "    for i in range(n_chars):\n",
        "        # 문자 encode : 문자 -> int\n",
        "        encoded = [char_dic[char] for char in in_text]\n",
        "        # 뒷부분 10자만 사용\n",
        "        encoded = encoded[-sequence_length:]\n",
        "        encoded = np.array(encoded)\n",
        "        # Tensor(1,10,1) <- np(1,10)\n",
        "        encoded = torch.FloatTensor(np.reshape(encoded,(1,seq_length,1)))\n",
        "        # 다음문자 추론\n",
        "        model.eval()\n",
        "        yhat = model(encoded)  # yhat.shape=(1,25): class 확률\n",
        "        yhat = np.argmax(yhat.detach().numpy(), axis=1) # index <- pb.\n",
        "        # 문자 디코딩 : integer -> character\n",
        "        for char, index in char_dic.items():\n",
        "            if index == yhat:\n",
        "                break\n",
        "        in_text += char    # 문자열에 추가\n",
        "    return in_text"
      ]
    },
    {
      "cell_type": "markdown",
      "metadata": {
        "id": "2_tIRa7h1PUA"
      },
      "source": [
        "#### Generate a sequence of characters"
      ]
    },
    {
      "cell_type": "markdown",
      "metadata": {
        "id": "hhgIpBwG06uc"
      },
      "source": [
        "학습문장: if you want to build a ship, don't drum up people together to collect wood and don't assign them tasks and work, but rather teach them to long for the endseed_textnsity of the sea."
      ]
    },
    {
      "cell_type": "code",
      "execution_count": null,
      "metadata": {
        "colab": {
          "base_uri": "https://localhost:8080/"
        },
        "id": "xC3D8JPW1O0Y",
        "outputId": "112e7fe7-c0f3-4eef-a8cf-a3a6685f02e4"
      },
      "outputs": [
        {
          "output_type": "stream",
          "name": "stdout",
          "text": [
            "Trigger characters: \"want to bu \"\n",
            "Result: \n",
            "\"want to build a ship, don't drum up people together to collect wood and don't assign them tasks and work, but rather teach them to long for the endless immensity of the sea.s immensity of the sea.s immensity of\"\n",
            "\n",
            "Trigger characters: \"collect wo\"\n",
            "Result: \n",
            "\"collect wood and don't assign them tasks and work, but rather teach them to long for the endless immensity of the sea.s immensity of the sea.s immensity of the sea.s immensity of the sea.s immensity of the sea.\"\n",
            "\n",
            "Trigger characters: \"abbcr than\"\n",
            "Result: \"abbcr thanitaacs and work, but rather teach them to long for the endless immensity of the sea.s immensity of the sea.s immensity of the sea.s immensity of the sea.s immensity of the sea.s immensity of the sea.s\"\n"
          ]
        }
      ],
      "source": [
        "# test start of rhyme\n",
        "print('Trigger characters: \"want to bu \"\\nResult: \\n\"{}\"'.format(\n",
        "      generate_seq(model, char_dic, sequence_length, 'want to bu', 200)))\n",
        "# test mid-line\n",
        "print('\\nTrigger characters: \"collect wo\"\\nResult: \\n\"{}\"'.format(\n",
        "      generate_seq(model, char_dic, sequence_length, 'collect wo', 200)))\n",
        "# test not in original\n",
        "print('\\nTrigger characters: \"abbcr than\"\\nResult: \"{}\"'.format(\n",
        "      generate_seq(model, char_dic, sequence_length, 'abbcr than', 200)))"
      ]
    },
    {
      "cell_type": "markdown",
      "metadata": {
        "id": "9uORYOjFoN9X"
      },
      "source": [
        "- **epoch 200**\n",
        "\n",
        "Trigger characters: \"want to bu \"\n",
        "Result:\n",
        "\"want to build a ship, don't drum up people together to collect wood and don't assign them tasks and work, but rather teach them to long for the endless immensity of the sea. eon wood and don't assign them tasks\"\n",
        "\n",
        "Trigger characters: \"collect wo\"\n",
        "Result:\n",
        "\"collect wood and don't assign them tasks and work, but rather teach them to long for the endless immensity of the sea. eon wood and don't assign them tasks and work, but rather teach them to long for the endles\"\n",
        "\n",
        "Trigger characters: \"abbcr than\"\n",
        "Result: \"abbcr thanhimttaagh them to long for the endless immensity of the sea. eon wood and don't assign them tasks and work, but rather teach them to long for the endless immensity of the sea. eon wood and don't assig\"\n",
        "\n",
        "=====\n",
        "\n",
        "\n",
        "- **epoch 50**\n",
        "\n",
        "Trigger characters: \"want to bu \"\n",
        "Result:  \"want to build a ship, don't dr't assign them tosss and work, but r ather  teoohimm for the tearp,\n",
        "ton ther te chlthem tosss and work, but rather\n",
        "teoohimm   for the tearp, ton ther te chlthem tosss and work, but rat\"\n",
        "\n",
        "Trigger characters: \"collect wo\"\n",
        "Result:\n",
        "\"collect wood and dossig butpo pe to build a ship, don't dr't assign them\n",
        "tosss and work, but rather\n",
        "teoohimm for the tearp, ton ther te chlthem tosss and work, but rather teoohimm for the tearp, ton ther te chl\"\n",
        "\n",
        "Trigger characters: \"aabbcr than\"\n",
        "Result: \"abbcr than'thossign them tosss and work, but rather teoohimm for the\n",
        " tearp, ton ther te chlthem\n",
        " tosss and work, but rather teoohimm for the tearp, ton ther te chlthem tosss and work, but rather teoohimm for the\"\n"
      ]
    },
    {
      "cell_type": "markdown",
      "metadata": {
        "id": "vcdf4_71-Q6D"
      },
      "source": [
        "## **Model-2** : many to many model"
      ]
    },
    {
      "cell_type": "markdown",
      "metadata": {
        "id": "c4Pz1Xs3-Q6F"
      },
      "source": [
        "### Define"
      ]
    },
    {
      "cell_type": "code",
      "execution_count": null,
      "metadata": {
        "colab": {
          "base_uri": "https://localhost:8080/"
        },
        "id": "l0L592YwR0C0",
        "outputId": "ca45beb5-834c-423d-e2fa-54d97bd93954"
      },
      "outputs": [
        {
          "output_type": "execute_result",
          "data": {
            "text/plain": [
              "==========================================================================================\n",
              "Layer (type:depth-idx)                   Output Shape              Param #\n",
              "==========================================================================================\n",
              "ManyToManyLSTM                           [2, 10, 25]               --\n",
              "├─LSTM: 1-1                              [2, 10, 75]               23,400\n",
              "├─Linear: 1-2                            [2, 10, 25]               1,900\n",
              "==========================================================================================\n",
              "Total params: 25,300\n",
              "Trainable params: 25,300\n",
              "Non-trainable params: 0\n",
              "Total mult-adds (M): 0.47\n",
              "==========================================================================================\n",
              "Input size (MB): 0.00\n",
              "Forward/backward pass size (MB): 0.02\n",
              "Params size (MB): 0.10\n",
              "Estimated Total Size (MB): 0.12\n",
              "=========================================================================================="
            ]
          },
          "metadata": {},
          "execution_count": 25
        }
      ],
      "source": [
        "hidden_dim = 75 #150\n",
        "class ManyToManyLSTM(pl.LightningModule):\n",
        "    def __init__(self, features, units, num_classes, batch_first=True):\n",
        "        super(ManyToManyLSTM, self).__init__()\n",
        "        self.lstm = nn.LSTM(features, units, batch_first=batch_first)\n",
        "        self.linear = nn.Linear(units, num_classes) #(bs,10,25)\n",
        "    def forward(self, x):\n",
        "        out, (hn, cn) = self.lstm(x)\n",
        "        out = self.linear(out)\n",
        "        return out #(bs,10,25)\n",
        "\n",
        "    def training_step(self, batch, batch_idx):\n",
        "        x, y = batch    # y:(bs,10,1)\n",
        "        y_hat = self(x) # (bs,10,25)\n",
        "        y = y.squeeze(dim=-1) #(bs,10)\n",
        "        loss = acc = 0.0\n",
        "        for i in range(x.shape[1]): # seq.에 대한 평균 구하기\n",
        "            loss += F.cross_entropy(y_hat[:, i, :], y[:, i])\n",
        "            acc += FM.accuracy(y_hat[:, i, :], y[:, i],task='multiclass', num_classes=25 )\n",
        "\n",
        "        loss /= sequence_length\n",
        "        acc /= sequence_length\n",
        "        metrics={'loss':loss, 'acc':acc}\n",
        "        self.log_dict(metrics,on_step=False,on_epoch=True)\n",
        "        return loss\n",
        "\n",
        "    def configure_optimizers(self):\n",
        "        return torch.optim.Adam(self.parameters())\n",
        "\n",
        "model = ManyToManyLSTM(features, hidden_dim, num_classes)\n",
        "summary(model, input_size=(2, sequence_length, features))"
      ]
    },
    {
      "cell_type": "markdown",
      "metadata": {
        "id": "Yqw5FYtM-Q6L"
      },
      "source": [
        "### Fit"
      ]
    },
    {
      "cell_type": "code",
      "execution_count": null,
      "metadata": {
        "colab": {
          "base_uri": "https://localhost:8080/",
          "height": 361,
          "referenced_widgets": [
            "fb0fcc2d32f54b30aa92abc8378f78d9",
            "e03f38e947d9496da8dcd9bdfefe20b0",
            "817a4499ed964a3790c824035e637d92",
            "f1fc22d4076f413c9ffe484b116153e6",
            "3239988e8e244c04a44b6e9031aa88b2",
            "5dcd5b37105c4bf99e4567764635280e",
            "a14d7fb916264c018bfe473cf2e63d1e",
            "3d47f441221744f392cd8e09e71e3511",
            "5a05eb36fe8541ffba48b5f404f8ed44",
            "f84b096c1ae546c8afded95b38e06b2b",
            "93c8eeda450340779a14aa957d5c0806"
          ]
        },
        "id": "fxUYTcIbR0C1",
        "outputId": "e60d8a83-cb81-4c0a-c7ad-6acfbd008a5b"
      },
      "outputs": [
        {
          "output_type": "stream",
          "name": "stderr",
          "text": [
            "INFO:pytorch_lightning.utilities.rank_zero:GPU available: True (cuda), used: True\n",
            "INFO:pytorch_lightning.utilities.rank_zero:TPU available: False, using: 0 TPU cores\n",
            "INFO:pytorch_lightning.utilities.rank_zero:IPU available: False, using: 0 IPUs\n",
            "INFO:pytorch_lightning.utilities.rank_zero:HPU available: False, using: 0 HPUs\n",
            "INFO:pytorch_lightning.accelerators.cuda:LOCAL_RANK: 0 - CUDA_VISIBLE_DEVICES: [0]\n",
            "INFO:pytorch_lightning.callbacks.model_summary:\n",
            "  | Name   | Type   | Params\n",
            "----------------------------------\n",
            "0 | lstm   | LSTM   | 23.4 K\n",
            "1 | linear | Linear | 1.9 K \n",
            "----------------------------------\n",
            "25.3 K    Trainable params\n",
            "0         Non-trainable params\n",
            "25.3 K    Total params\n",
            "0.101     Total estimated model params size (MB)\n"
          ]
        },
        {
          "output_type": "display_data",
          "data": {
            "text/plain": [
              "Training: 0it [00:00, ?it/s]"
            ],
            "application/vnd.jupyter.widget-view+json": {
              "version_major": 2,
              "version_minor": 0,
              "model_id": "fb0fcc2d32f54b30aa92abc8378f78d9"
            }
          },
          "metadata": {}
        },
        {
          "output_type": "stream",
          "name": "stderr",
          "text": [
            "INFO:pytorch_lightning.utilities.rank_zero:`Trainer.fit` stopped: `max_epochs=200` reached.\n"
          ]
        },
        {
          "output_type": "stream",
          "name": "stdout",
          "text": [
            "CPU times: user 5min 44s, sys: 2.88 s, total: 5min 46s\n",
            "Wall time: 5min 47s\n"
          ]
        }
      ],
      "source": [
        "%%time\n",
        "trainer = Trainer(max_epochs=200, accelerator='auto')\n",
        "trainer.fit(model, trainDataLoader_many)"
      ]
    },
    {
      "cell_type": "markdown",
      "source": [
        "Wall time: 5min 47s"
      ],
      "metadata": {
        "id": "aKxGZ9NZZEA0"
      }
    },
    {
      "cell_type": "code",
      "execution_count": null,
      "metadata": {
        "colab": {
          "base_uri": "https://localhost:8080/"
        },
        "id": "ohfxBVQJCMW2",
        "outputId": "36f4166b-3be6-4fb4-e12e-28293eeef700"
      },
      "outputs": [
        {
          "output_type": "execute_result",
          "data": {
            "text/plain": [
              "<tensorboard.backend.event_processing.event_accumulator.EventAccumulator at 0x7f0df0c35570>"
            ]
          },
          "metadata": {},
          "execution_count": 27
        }
      ],
      "source": [
        "log = {}\n",
        "# model train_logdir 확인\n",
        "v_num = model.logger.version\n",
        "log_dir = f'lightning_logs/version_{v_num}'\n",
        "\n",
        "event_accumulator = EventAccumulator(log_dir)\n",
        "event_accumulator.Reload()"
      ]
    },
    {
      "cell_type": "code",
      "execution_count": null,
      "metadata": {
        "id": "pzj9dwYyR0C1"
      },
      "outputs": [],
      "source": [
        "loss = [x.value for x in event_accumulator.Scalars('loss')]\n",
        "acc = [x.value for x in event_accumulator.Scalars('acc')]\n",
        "print(f'Max Acc:{max(acc)}')\n",
        "print(f'Min Loss:{max(loss)}')\n",
        "\n",
        "log['ManyToManyLSTM'] = [loss, acc]\n",
        "\n",
        "plt.plot(log['ManyToManyLSTM'][0], linestyle='--', label=\"train_loss\")\n",
        "plt.plot(log['ManyToManyLSTM'][1], linestyle='--', label=\"train_acc\")\n",
        "\n",
        "plt.ylim(0.1, 1.)\n",
        "#plt.semilogy()\n",
        "plt.legend()\n",
        "plt.grid()\n",
        "plt.show()"
      ]
    },
    {
      "cell_type": "markdown",
      "source": [
        "![image.png](data:image/png;base64,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)"
      ],
      "metadata": {
        "id": "L8X6LR1zZG4o"
      }
    },
    {
      "cell_type": "markdown",
      "metadata": {
        "id": "NYd1ili8-Q6g"
      },
      "source": [
        "### **Generate Text:** analysis"
      ]
    },
    {
      "cell_type": "markdown",
      "metadata": {
        "id": "_mDoE4MR-Q6h"
      },
      "source": [
        "##### Define generate_seq function"
      ]
    },
    {
      "cell_type": "markdown",
      "metadata": {
        "id": "vomGvawue27v"
      },
      "source": [
        "- 10개의 출력 시퀀스를 받으므로 수정 필요"
      ]
    },
    {
      "cell_type": "code",
      "execution_count": null,
      "metadata": {
        "id": "8UReeRTkbFMP"
      },
      "outputs": [],
      "source": [
        "# 문자열 생성하기\n",
        "def generate_seq2(model, char_dic, seq_length, seed_text, n_chars):\n",
        "    in_text = seed_text\t\t\t\t\t\t\t\t\t# seed 문자열 + 생성 문자\n",
        "    # 생성할 문자열의 수 = n_chars\n",
        "    for i in range(n_chars):\n",
        "        # 문자 encode : 문자 -> int\n",
        "        encoded = [char_dic[char] for char in in_text]\n",
        "        # 문자열 크기 조정 : max보다 크면 앞부분 제거\n",
        "        encoded = encoded[-sequence_length:]\n",
        "        encoded = np.array(encoded)\n",
        "        # Tensor(1,10,1) <- np(1,10)\n",
        "        encoded = torch.FloatTensor(np.reshape(encoded,(1,seq_length,1)))\n",
        "        # 다음문자 추론\n",
        "        yhat = model(torch.FloatTensor(encoded))  ## yhat.shape=(1,10,25):확률 시퀀스\n",
        "        yhat = np.argmax(yhat.cpu().detach().numpy(), axis=2) # 확률 중에서 가장 큰 값의 위치 (1,10,1)<(1,10,25)\n",
        "        yhat = np.squeeze(yhat)        # (10,) <- (1,10,1)\n",
        "        # 문자 디코딩 : integer -> character\n",
        "        for char, index in char_dic.items():\n",
        "            if index == yhat[9]:         # 시퀀스에서 마지막 값을 사용\n",
        "                break\n",
        "        in_text += char    # 문자열에 추가\n",
        "    return in_text"
      ]
    },
    {
      "cell_type": "markdown",
      "metadata": {
        "id": "1udz6WbD-Q6m"
      },
      "source": [
        "##### Generate a sequence of characters"
      ]
    },
    {
      "cell_type": "markdown",
      "metadata": {
        "id": "aEt6NJxZ-Q6m"
      },
      "source": [
        "학습문장: if you want to build a ship, don't drum up people together to collect wood and don't assign them tasks and work, but rather teach them to long for the endless immensity of the sea."
      ]
    },
    {
      "cell_type": "code",
      "execution_count": null,
      "metadata": {
        "colab": {
          "base_uri": "https://localhost:8080/"
        },
        "id": "SPmPEG1X-Q6n",
        "outputId": "627af5a2-1f58-498a-8448-873a8353273d"
      },
      "outputs": [
        {
          "output_type": "stream",
          "name": "stdout",
          "text": [
            "Trigger characters: \"want to bu \"\n",
            "Result: \n",
            "\"want to build a ship, don't drum up people together to collect wood and don't assign them tasks and work, but rather teach them to long for the endless immensity of the sea.s immensity of the sea.s immensity of\"\n",
            "\n",
            "Trigger characters: \"collect wo\"\n",
            "Result: \n",
            "\"collect wood and don't assign them tasks and work, but rather teach them to long for the endless immensity of the sea.s immensity of the sea.s immensity of the sea.s immensity of the sea.s immensity of the sea.\"\n",
            "\n",
            "Trigger characters: \"aabbcr than\"\n",
            "Result: \"abbcr thaneituem tasks and work, but rather teach them to long for the endless immensity of the sea.s immensity of the sea.s immensity of the sea.s immensity of the sea.s immensity of the sea.s immensity of the\"\n"
          ]
        }
      ],
      "source": [
        "# test start of rhyme\n",
        "print('Trigger characters: \"want to bu \"\\nResult: \\n\"{}\"'.format(\n",
        "      generate_seq2(model, char_dic, sequence_length, 'want to bu', 200)))\n",
        "# test mid-line\n",
        "print('\\nTrigger characters: \"collect wo\"\\nResult: \\n\"{}\"'.format(\n",
        "      generate_seq2(model, char_dic, sequence_length, 'collect wo', 200)))\n",
        "# test not in original\n",
        "print('\\nTrigger characters: \"aabbcr than\"\\nResult: \"{}\"'.format(\n",
        "      generate_seq2(model, char_dic, sequence_length, 'abbcr than', 200)))"
      ]
    },
    {
      "cell_type": "markdown",
      "metadata": {
        "id": "EMRUp0Ybl79D"
      },
      "source": [
        "Trigger characters: \"want to bu \"\n",
        "Result:\n",
        "\"want to build a ship, don't drum up people together to collect wood and don't assign them tasks and work, but rather teach them to long for the endless immensity of the sea.ddon't assign them tasks and work, bu\"\n",
        "\n",
        "Trigger characters: \"collect wo\"\n",
        "Result:\n",
        "\"collect wood and don't assign them tasks and work, but rather teach them to long for the endless immensity of the sea.ddon't assign them tasks and work, but rather teach them to long for the endless immensity o\"\n",
        "\n",
        "Trigger characters: \"aabbcr than\"\n",
        "Result: \"abbcr than tasks and work, but rather teach them to long for the endless immensity of the sea.ddon't assign them tasks and work, but rather teach them to long for the endless immensity of the sea.ddon't assign \""
      ]
    },
    {
      "cell_type": "markdown",
      "metadata": {
        "id": "TmahoOCItKN-"
      },
      "source": [
        "- **epoch 200**\n",
        "\n",
        "Trigger characters: \"want to bu \"\n",
        "Result:\n",
        "\"want to build a ship, don't drum up people together to collect wood and don't assign them tasks and work, but rather teach them to long for the endless immensity of the sea.ddon't assign them tasks and work, bu\"\n",
        "\n",
        "Trigger characters: \"collect wo\"\n",
        "Result:\n",
        "\"collect wood and don't assign them tasks and work, but rather teach them to long for the endless immensity of the sea.ddon't assign them tasks and work, but rather teach them to long for the endless immensity o\"\n",
        "\n",
        "Trigger characters: \"aabbcr than\"\n",
        "Result: \"abbcr than tasks and work, but rather teach them to long for the endless immensity of the sea.ddon't assign them tasks and work, but rather teach them to long for the endless immensity of the sea.ddon't assign \"\n"
      ]
    }
  ],
  "metadata": {
    "accelerator": "GPU",
    "colab": {
      "machine_shape": "hm",
      "provenance": [],
      "gpuType": "T4",
      "toc_visible": true,
      "include_colab_link": true
    },
    "kernelspec": {
      "display_name": "Python 3",
      "name": "python3"
    },
    "language_info": {
      "name": "python"
    },
    "widgets": {
      "application/vnd.jupyter.widget-state+json": {
        "d69eba2d83ac43e9938b2583aba2b8a6": {
          "model_module": "@jupyter-widgets/controls",
          "model_name": "HBoxModel",
          "model_module_version": "1.5.0",
          "state": {
            "_dom_classes": [],
            "_model_module": "@jupyter-widgets/controls",
            "_model_module_version": "1.5.0",
            "_model_name": "HBoxModel",
            "_view_count": null,
            "_view_module": "@jupyter-widgets/controls",
            "_view_module_version": "1.5.0",
            "_view_name": "HBoxView",
            "box_style": "",
            "children": [
              "IPY_MODEL_5ef7f2c40ca840c793b329bff9aa2265",
              "IPY_MODEL_db577d95698348868344a0d6f3ccbead",
              "IPY_MODEL_60056c2fcdc64e4b821a900b827e3802"
            ],
            "layout": "IPY_MODEL_ade927a15fee4c0db56656e81ce627d5"
          }
        },
        "5ef7f2c40ca840c793b329bff9aa2265": {
          "model_module": "@jupyter-widgets/controls",
          "model_name": "HTMLModel",
          "model_module_version": "1.5.0",
          "state": {
            "_dom_classes": [],
            "_model_module": "@jupyter-widgets/controls",
            "_model_module_version": "1.5.0",
            "_model_name": "HTMLModel",
            "_view_count": null,
            "_view_module": "@jupyter-widgets/controls",
            "_view_module_version": "1.5.0",
            "_view_name": "HTMLView",
            "description": "",
            "description_tooltip": null,
            "layout": "IPY_MODEL_23e128853f3d455c9e575ae818337c56",
            "placeholder": "​",
            "style": "IPY_MODEL_04beac2c18924df99ec48dd35ca6b271",
            "value": "Epoch 199: 100%"
          }
        },
        "db577d95698348868344a0d6f3ccbead": {
          "model_module": "@jupyter-widgets/controls",
          "model_name": "FloatProgressModel",
          "model_module_version": "1.5.0",
          "state": {
            "_dom_classes": [],
            "_model_module": "@jupyter-widgets/controls",
            "_model_module_version": "1.5.0",
            "_model_name": "FloatProgressModel",
            "_view_count": null,
            "_view_module": "@jupyter-widgets/controls",
            "_view_module_version": "1.5.0",
            "_view_name": "ProgressView",
            "bar_style": "success",
            "description": "",
            "description_tooltip": null,
            "layout": "IPY_MODEL_c22ccaa186094194a0f44e6b95161fd6",
            "max": 85,
            "min": 0,
            "orientation": "horizontal",
            "style": "IPY_MODEL_b6bce1d19d6e49aca5cc5a0e0d5c050c",
            "value": 85
          }
        },
        "60056c2fcdc64e4b821a900b827e3802": {
          "model_module": "@jupyter-widgets/controls",
          "model_name": "HTMLModel",
          "model_module_version": "1.5.0",
          "state": {
            "_dom_classes": [],
            "_model_module": "@jupyter-widgets/controls",
            "_model_module_version": "1.5.0",
            "_model_name": "HTMLModel",
            "_view_count": null,
            "_view_module": "@jupyter-widgets/controls",
            "_view_module_version": "1.5.0",
            "_view_name": "HTMLView",
            "description": "",
            "description_tooltip": null,
            "layout": "IPY_MODEL_6d5f0e21cc8a41fdaf0501518b4a1528",
            "placeholder": "​",
            "style": "IPY_MODEL_b41d86d1476f4db7bb8ed0c2ede35292",
            "value": " 85/85 [00:00&lt;00:00, 249.03it/s, v_num=1]"
          }
        },
        "ade927a15fee4c0db56656e81ce627d5": {
          "model_module": "@jupyter-widgets/base",
          "model_name": "LayoutModel",
          "model_module_version": "1.2.0",
          "state": {
            "_model_module": "@jupyter-widgets/base",
            "_model_module_version": "1.2.0",
            "_model_name": "LayoutModel",
            "_view_count": null,
            "_view_module": "@jupyter-widgets/base",
            "_view_module_version": "1.2.0",
            "_view_name": "LayoutView",
            "align_content": null,
            "align_items": null,
            "align_self": null,
            "border": null,
            "bottom": null,
            "display": "inline-flex",
            "flex": null,
            "flex_flow": "row wrap",
            "grid_area": null,
            "grid_auto_columns": null,
            "grid_auto_flow": null,
            "grid_auto_rows": null,
            "grid_column": null,
            "grid_gap": null,
            "grid_row": null,
            "grid_template_areas": null,
            "grid_template_columns": null,
            "grid_template_rows": null,
            "height": null,
            "justify_content": null,
            "justify_items": null,
            "left": null,
            "margin": null,
            "max_height": null,
            "max_width": null,
            "min_height": null,
            "min_width": null,
            "object_fit": null,
            "object_position": null,
            "order": null,
            "overflow": null,
            "overflow_x": null,
            "overflow_y": null,
            "padding": null,
            "right": null,
            "top": null,
            "visibility": null,
            "width": "100%"
          }
        },
        "23e128853f3d455c9e575ae818337c56": {
          "model_module": "@jupyter-widgets/base",
          "model_name": "LayoutModel",
          "model_module_version": "1.2.0",
          "state": {
            "_model_module": "@jupyter-widgets/base",
            "_model_module_version": "1.2.0",
            "_model_name": "LayoutModel",
            "_view_count": null,
            "_view_module": "@jupyter-widgets/base",
            "_view_module_version": "1.2.0",
            "_view_name": "LayoutView",
            "align_content": null,
            "align_items": null,
            "align_self": null,
            "border": null,
            "bottom": null,
            "display": null,
            "flex": null,
            "flex_flow": null,
            "grid_area": null,
            "grid_auto_columns": null,
            "grid_auto_flow": null,
            "grid_auto_rows": null,
            "grid_column": null,
            "grid_gap": null,
            "grid_row": null,
            "grid_template_areas": null,
            "grid_template_columns": null,
            "grid_template_rows": null,
            "height": null,
            "justify_content": null,
            "justify_items": null,
            "left": null,
            "margin": null,
            "max_height": null,
            "max_width": null,
            "min_height": null,
            "min_width": null,
            "object_fit": null,
            "object_position": null,
            "order": null,
            "overflow": null,
            "overflow_x": null,
            "overflow_y": null,
            "padding": null,
            "right": null,
            "top": null,
            "visibility": null,
            "width": null
          }
        },
        "04beac2c18924df99ec48dd35ca6b271": {
          "model_module": "@jupyter-widgets/controls",
          "model_name": "DescriptionStyleModel",
          "model_module_version": "1.5.0",
          "state": {
            "_model_module": "@jupyter-widgets/controls",
            "_model_module_version": "1.5.0",
            "_model_name": "DescriptionStyleModel",
            "_view_count": null,
            "_view_module": "@jupyter-widgets/base",
            "_view_module_version": "1.2.0",
            "_view_name": "StyleView",
            "description_width": ""
          }
        },
        "c22ccaa186094194a0f44e6b95161fd6": {
          "model_module": "@jupyter-widgets/base",
          "model_name": "LayoutModel",
          "model_module_version": "1.2.0",
          "state": {
            "_model_module": "@jupyter-widgets/base",
            "_model_module_version": "1.2.0",
            "_model_name": "LayoutModel",
            "_view_count": null,
            "_view_module": "@jupyter-widgets/base",
            "_view_module_version": "1.2.0",
            "_view_name": "LayoutView",
            "align_content": null,
            "align_items": null,
            "align_self": null,
            "border": null,
            "bottom": null,
            "display": null,
            "flex": "2",
            "flex_flow": null,
            "grid_area": null,
            "grid_auto_columns": null,
            "grid_auto_flow": null,
            "grid_auto_rows": null,
            "grid_column": null,
            "grid_gap": null,
            "grid_row": null,
            "grid_template_areas": null,
            "grid_template_columns": null,
            "grid_template_rows": null,
            "height": null,
            "justify_content": null,
            "justify_items": null,
            "left": null,
            "margin": null,
            "max_height": null,
            "max_width": null,
            "min_height": null,
            "min_width": null,
            "object_fit": null,
            "object_position": null,
            "order": null,
            "overflow": null,
            "overflow_x": null,
            "overflow_y": null,
            "padding": null,
            "right": null,
            "top": null,
            "visibility": null,
            "width": null
          }
        },
        "b6bce1d19d6e49aca5cc5a0e0d5c050c": {
          "model_module": "@jupyter-widgets/controls",
          "model_name": "ProgressStyleModel",
          "model_module_version": "1.5.0",
          "state": {
            "_model_module": "@jupyter-widgets/controls",
            "_model_module_version": "1.5.0",
            "_model_name": "ProgressStyleModel",
            "_view_count": null,
            "_view_module": "@jupyter-widgets/base",
            "_view_module_version": "1.2.0",
            "_view_name": "StyleView",
            "bar_color": null,
            "description_width": ""
          }
        },
        "6d5f0e21cc8a41fdaf0501518b4a1528": {
          "model_module": "@jupyter-widgets/base",
          "model_name": "LayoutModel",
          "model_module_version": "1.2.0",
          "state": {
            "_model_module": "@jupyter-widgets/base",
            "_model_module_version": "1.2.0",
            "_model_name": "LayoutModel",
            "_view_count": null,
            "_view_module": "@jupyter-widgets/base",
            "_view_module_version": "1.2.0",
            "_view_name": "LayoutView",
            "align_content": null,
            "align_items": null,
            "align_self": null,
            "border": null,
            "bottom": null,
            "display": null,
            "flex": null,
            "flex_flow": null,
            "grid_area": null,
            "grid_auto_columns": null,
            "grid_auto_flow": null,
            "grid_auto_rows": null,
            "grid_column": null,
            "grid_gap": null,
            "grid_row": null,
            "grid_template_areas": null,
            "grid_template_columns": null,
            "grid_template_rows": null,
            "height": null,
            "justify_content": null,
            "justify_items": null,
            "left": null,
            "margin": null,
            "max_height": null,
            "max_width": null,
            "min_height": null,
            "min_width": null,
            "object_fit": null,
            "object_position": null,
            "order": null,
            "overflow": null,
            "overflow_x": null,
            "overflow_y": null,
            "padding": null,
            "right": null,
            "top": null,
            "visibility": null,
            "width": null
          }
        },
        "b41d86d1476f4db7bb8ed0c2ede35292": {
          "model_module": "@jupyter-widgets/controls",
          "model_name": "DescriptionStyleModel",
          "model_module_version": "1.5.0",
          "state": {
            "_model_module": "@jupyter-widgets/controls",
            "_model_module_version": "1.5.0",
            "_model_name": "DescriptionStyleModel",
            "_view_count": null,
            "_view_module": "@jupyter-widgets/base",
            "_view_module_version": "1.2.0",
            "_view_name": "StyleView",
            "description_width": ""
          }
        },
        "fb0fcc2d32f54b30aa92abc8378f78d9": {
          "model_module": "@jupyter-widgets/controls",
          "model_name": "HBoxModel",
          "model_module_version": "1.5.0",
          "state": {
            "_dom_classes": [],
            "_model_module": "@jupyter-widgets/controls",
            "_model_module_version": "1.5.0",
            "_model_name": "HBoxModel",
            "_view_count": null,
            "_view_module": "@jupyter-widgets/controls",
            "_view_module_version": "1.5.0",
            "_view_name": "HBoxView",
            "box_style": "",
            "children": [
              "IPY_MODEL_e03f38e947d9496da8dcd9bdfefe20b0",
              "IPY_MODEL_817a4499ed964a3790c824035e637d92",
              "IPY_MODEL_f1fc22d4076f413c9ffe484b116153e6"
            ],
            "layout": "IPY_MODEL_3239988e8e244c04a44b6e9031aa88b2"
          }
        },
        "e03f38e947d9496da8dcd9bdfefe20b0": {
          "model_module": "@jupyter-widgets/controls",
          "model_name": "HTMLModel",
          "model_module_version": "1.5.0",
          "state": {
            "_dom_classes": [],
            "_model_module": "@jupyter-widgets/controls",
            "_model_module_version": "1.5.0",
            "_model_name": "HTMLModel",
            "_view_count": null,
            "_view_module": "@jupyter-widgets/controls",
            "_view_module_version": "1.5.0",
            "_view_name": "HTMLView",
            "description": "",
            "description_tooltip": null,
            "layout": "IPY_MODEL_5dcd5b37105c4bf99e4567764635280e",
            "placeholder": "​",
            "style": "IPY_MODEL_a14d7fb916264c018bfe473cf2e63d1e",
            "value": "Epoch 199: 100%"
          }
        },
        "817a4499ed964a3790c824035e637d92": {
          "model_module": "@jupyter-widgets/controls",
          "model_name": "FloatProgressModel",
          "model_module_version": "1.5.0",
          "state": {
            "_dom_classes": [],
            "_model_module": "@jupyter-widgets/controls",
            "_model_module_version": "1.5.0",
            "_model_name": "FloatProgressModel",
            "_view_count": null,
            "_view_module": "@jupyter-widgets/controls",
            "_view_module_version": "1.5.0",
            "_view_name": "ProgressView",
            "bar_style": "success",
            "description": "",
            "description_tooltip": null,
            "layout": "IPY_MODEL_3d47f441221744f392cd8e09e71e3511",
            "max": 170,
            "min": 0,
            "orientation": "horizontal",
            "style": "IPY_MODEL_5a05eb36fe8541ffba48b5f404f8ed44",
            "value": 170
          }
        },
        "f1fc22d4076f413c9ffe484b116153e6": {
          "model_module": "@jupyter-widgets/controls",
          "model_name": "HTMLModel",
          "model_module_version": "1.5.0",
          "state": {
            "_dom_classes": [],
            "_model_module": "@jupyter-widgets/controls",
            "_model_module_version": "1.5.0",
            "_model_name": "HTMLModel",
            "_view_count": null,
            "_view_module": "@jupyter-widgets/controls",
            "_view_module_version": "1.5.0",
            "_view_name": "HTMLView",
            "description": "",
            "description_tooltip": null,
            "layout": "IPY_MODEL_f84b096c1ae546c8afded95b38e06b2b",
            "placeholder": "​",
            "style": "IPY_MODEL_93c8eeda450340779a14aa957d5c0806",
            "value": " 170/170 [00:01&lt;00:00, 101.44it/s, v_num=2]"
          }
        },
        "3239988e8e244c04a44b6e9031aa88b2": {
          "model_module": "@jupyter-widgets/base",
          "model_name": "LayoutModel",
          "model_module_version": "1.2.0",
          "state": {
            "_model_module": "@jupyter-widgets/base",
            "_model_module_version": "1.2.0",
            "_model_name": "LayoutModel",
            "_view_count": null,
            "_view_module": "@jupyter-widgets/base",
            "_view_module_version": "1.2.0",
            "_view_name": "LayoutView",
            "align_content": null,
            "align_items": null,
            "align_self": null,
            "border": null,
            "bottom": null,
            "display": "inline-flex",
            "flex": null,
            "flex_flow": "row wrap",
            "grid_area": null,
            "grid_auto_columns": null,
            "grid_auto_flow": null,
            "grid_auto_rows": null,
            "grid_column": null,
            "grid_gap": null,
            "grid_row": null,
            "grid_template_areas": null,
            "grid_template_columns": null,
            "grid_template_rows": null,
            "height": null,
            "justify_content": null,
            "justify_items": null,
            "left": null,
            "margin": null,
            "max_height": null,
            "max_width": null,
            "min_height": null,
            "min_width": null,
            "object_fit": null,
            "object_position": null,
            "order": null,
            "overflow": null,
            "overflow_x": null,
            "overflow_y": null,
            "padding": null,
            "right": null,
            "top": null,
            "visibility": null,
            "width": "100%"
          }
        },
        "5dcd5b37105c4bf99e4567764635280e": {
          "model_module": "@jupyter-widgets/base",
          "model_name": "LayoutModel",
          "model_module_version": "1.2.0",
          "state": {
            "_model_module": "@jupyter-widgets/base",
            "_model_module_version": "1.2.0",
            "_model_name": "LayoutModel",
            "_view_count": null,
            "_view_module": "@jupyter-widgets/base",
            "_view_module_version": "1.2.0",
            "_view_name": "LayoutView",
            "align_content": null,
            "align_items": null,
            "align_self": null,
            "border": null,
            "bottom": null,
            "display": null,
            "flex": null,
            "flex_flow": null,
            "grid_area": null,
            "grid_auto_columns": null,
            "grid_auto_flow": null,
            "grid_auto_rows": null,
            "grid_column": null,
            "grid_gap": null,
            "grid_row": null,
            "grid_template_areas": null,
            "grid_template_columns": null,
            "grid_template_rows": null,
            "height": null,
            "justify_content": null,
            "justify_items": null,
            "left": null,
            "margin": null,
            "max_height": null,
            "max_width": null,
            "min_height": null,
            "min_width": null,
            "object_fit": null,
            "object_position": null,
            "order": null,
            "overflow": null,
            "overflow_x": null,
            "overflow_y": null,
            "padding": null,
            "right": null,
            "top": null,
            "visibility": null,
            "width": null
          }
        },
        "a14d7fb916264c018bfe473cf2e63d1e": {
          "model_module": "@jupyter-widgets/controls",
          "model_name": "DescriptionStyleModel",
          "model_module_version": "1.5.0",
          "state": {
            "_model_module": "@jupyter-widgets/controls",
            "_model_module_version": "1.5.0",
            "_model_name": "DescriptionStyleModel",
            "_view_count": null,
            "_view_module": "@jupyter-widgets/base",
            "_view_module_version": "1.2.0",
            "_view_name": "StyleView",
            "description_width": ""
          }
        },
        "3d47f441221744f392cd8e09e71e3511": {
          "model_module": "@jupyter-widgets/base",
          "model_name": "LayoutModel",
          "model_module_version": "1.2.0",
          "state": {
            "_model_module": "@jupyter-widgets/base",
            "_model_module_version": "1.2.0",
            "_model_name": "LayoutModel",
            "_view_count": null,
            "_view_module": "@jupyter-widgets/base",
            "_view_module_version": "1.2.0",
            "_view_name": "LayoutView",
            "align_content": null,
            "align_items": null,
            "align_self": null,
            "border": null,
            "bottom": null,
            "display": null,
            "flex": "2",
            "flex_flow": null,
            "grid_area": null,
            "grid_auto_columns": null,
            "grid_auto_flow": null,
            "grid_auto_rows": null,
            "grid_column": null,
            "grid_gap": null,
            "grid_row": null,
            "grid_template_areas": null,
            "grid_template_columns": null,
            "grid_template_rows": null,
            "height": null,
            "justify_content": null,
            "justify_items": null,
            "left": null,
            "margin": null,
            "max_height": null,
            "max_width": null,
            "min_height": null,
            "min_width": null,
            "object_fit": null,
            "object_position": null,
            "order": null,
            "overflow": null,
            "overflow_x": null,
            "overflow_y": null,
            "padding": null,
            "right": null,
            "top": null,
            "visibility": null,
            "width": null
          }
        },
        "5a05eb36fe8541ffba48b5f404f8ed44": {
          "model_module": "@jupyter-widgets/controls",
          "model_name": "ProgressStyleModel",
          "model_module_version": "1.5.0",
          "state": {
            "_model_module": "@jupyter-widgets/controls",
            "_model_module_version": "1.5.0",
            "_model_name": "ProgressStyleModel",
            "_view_count": null,
            "_view_module": "@jupyter-widgets/base",
            "_view_module_version": "1.2.0",
            "_view_name": "StyleView",
            "bar_color": null,
            "description_width": ""
          }
        },
        "f84b096c1ae546c8afded95b38e06b2b": {
          "model_module": "@jupyter-widgets/base",
          "model_name": "LayoutModel",
          "model_module_version": "1.2.0",
          "state": {
            "_model_module": "@jupyter-widgets/base",
            "_model_module_version": "1.2.0",
            "_model_name": "LayoutModel",
            "_view_count": null,
            "_view_module": "@jupyter-widgets/base",
            "_view_module_version": "1.2.0",
            "_view_name": "LayoutView",
            "align_content": null,
            "align_items": null,
            "align_self": null,
            "border": null,
            "bottom": null,
            "display": null,
            "flex": null,
            "flex_flow": null,
            "grid_area": null,
            "grid_auto_columns": null,
            "grid_auto_flow": null,
            "grid_auto_rows": null,
            "grid_column": null,
            "grid_gap": null,
            "grid_row": null,
            "grid_template_areas": null,
            "grid_template_columns": null,
            "grid_template_rows": null,
            "height": null,
            "justify_content": null,
            "justify_items": null,
            "left": null,
            "margin": null,
            "max_height": null,
            "max_width": null,
            "min_height": null,
            "min_width": null,
            "object_fit": null,
            "object_position": null,
            "order": null,
            "overflow": null,
            "overflow_x": null,
            "overflow_y": null,
            "padding": null,
            "right": null,
            "top": null,
            "visibility": null,
            "width": null
          }
        },
        "93c8eeda450340779a14aa957d5c0806": {
          "model_module": "@jupyter-widgets/controls",
          "model_name": "DescriptionStyleModel",
          "model_module_version": "1.5.0",
          "state": {
            "_model_module": "@jupyter-widgets/controls",
            "_model_module_version": "1.5.0",
            "_model_name": "DescriptionStyleModel",
            "_view_count": null,
            "_view_module": "@jupyter-widgets/base",
            "_view_module_version": "1.2.0",
            "_view_name": "StyleView",
            "description_width": ""
          }
        }
      }
    }
  },
  "nbformat": 4,
  "nbformat_minor": 0
}