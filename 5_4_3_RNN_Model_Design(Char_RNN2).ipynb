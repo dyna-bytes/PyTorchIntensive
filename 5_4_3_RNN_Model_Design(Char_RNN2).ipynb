{
  "cells": [
    {
      "cell_type": "markdown",
      "metadata": {
        "id": "view-in-github",
        "colab_type": "text"
      },
      "source": [
        "<a href=\"https://colab.research.google.com/github/dyna-bytes/PyTorchIntensive/blob/main/5_4_3_RNN_Model_Design(Char_RNN2).ipynb\" target=\"_parent\"><img src=\"https://colab.research.google.com/assets/colab-badge.svg\" alt=\"Open In Colab\"/></a>"
      ]
    },
    {
      "cell_type": "code",
      "execution_count": null,
      "metadata": {
        "id": "xQIeOVNXR0Cg"
      },
      "outputs": [],
      "source": [
        "# 변수의 shape, type, value 확인\n",
        "def p(var,_str='') :\n",
        "    if _str=='\\n' or _str=='cr' :\n",
        "        _str = '\\n'\n",
        "    else :\n",
        "        print(f'[{_str}]:')\n",
        "        _str = ''\n",
        "    if type(var)!=type([]):\n",
        "        try:\n",
        "            print(f'Shape:{var.shape}')\n",
        "        except :\n",
        "            pass\n",
        "    print(f'Type: {type(var)}')\n",
        "    print(f'Values: {var}'+_str)\n",
        "\n",
        "def pst(_x,_name=\"\"):\n",
        "    print(f'[{_name}] Shape{_x.shape}, {type(_x)}')\n",
        "def ps(_x,_name=\"\"):\n",
        "    print(f'[{_name}] Shape{_x.shape}')"
      ]
    },
    {
      "cell_type": "code",
      "execution_count": null,
      "metadata": {
        "id": "zltacc1LSBT9"
      },
      "outputs": [],
      "source": [
        "%%capture\n",
        "!pip install pytorch_lightning torchinfo torchmetrics pandas torchviz"
      ]
    },
    {
      "cell_type": "markdown",
      "metadata": {
        "id": "B3oFZBrIZ8ar"
      },
      "source": [
        "## RNN Model Design (Char-RNN)"
      ]
    },
    {
      "cell_type": "markdown",
      "metadata": {
        "id": "ZQKizrb-Y1er"
      },
      "source": [
        "#### **Import Module**"
      ]
    },
    {
      "cell_type": "code",
      "execution_count": null,
      "metadata": {
        "colab": {
          "base_uri": "https://localhost:8080/"
        },
        "id": "xs8MKR6oYOWE",
        "outputId": "e483d976-2e60-4043-e33a-3d887dbaea4b"
      },
      "outputs": [
        {
          "output_type": "execute_result",
          "data": {
            "text/plain": [
              "('2.0.1+cu118', '2.0.3')"
            ]
          },
          "metadata": {},
          "execution_count": 3
        }
      ],
      "source": [
        "\n",
        "\n",
        "import numpy as np\n",
        "import matplotlib.pyplot as plt\n",
        "import torch\n",
        "from torch import nn\n",
        "from torch.nn import functional as F\n",
        "from torch.utils.data import DataLoader, random_split\n",
        "import pytorch_lightning as pl\n",
        "from pytorch_lightning import Trainer\n",
        "from pytorch_lightning.callbacks import ModelCheckpoint\n",
        "from torchmetrics import functional as FM\n",
        "from torchinfo import summary\n",
        "from torch.utils.data import Dataset, DataLoader\n",
        "from tensorboard.backend.event_processing.event_accumulator import EventAccumulator\n",
        "plt.rcParams['figure.figsize'] = [5, 3.5]\n",
        "\n",
        "device = 'cuda:0'\n",
        "torch.__version__, pl.__version__"
      ]
    },
    {
      "cell_type": "markdown",
      "metadata": {
        "id": "bopseuhzYOWI"
      },
      "source": [
        "#### **DataSet**"
      ]
    },
    {
      "cell_type": "markdown",
      "metadata": {
        "id": "vBEut7IrYOWI"
      },
      "source": [
        "##### 학습할 문장 만들기"
      ]
    },
    {
      "cell_type": "code",
      "execution_count": null,
      "metadata": {
        "colab": {
          "base_uri": "https://localhost:8080/"
        },
        "id": "cC8AS287Hz-9",
        "outputId": "a299e8f6-aa12-47c8-e7a4-1b69e0a6ec59"
      },
      "outputs": [
        {
          "output_type": "stream",
          "name": "stdout",
          "text": [
            "FOLLOWING IS OUR TRAINING SEQUENCE:\n",
            "if you want to build a ship, don't drum up people together to collect wood and don't assign them tasks and work, but rather teach them to long for the endless immensity of the sea.\n",
            "Length of 'test sentence' is 180\n"
          ]
        }
      ],
      "source": [
        "# 학습할 문장\n",
        "sentence = (\"if you want to build a ship, don't drum up people together to \"\n",
        "            \"collect wood and don't assign them tasks and work, but rather \"\n",
        "            \"teach them to long for the endless immensity of the sea.\")\n",
        "print (\"FOLLOWING IS OUR TRAINING SEQUENCE:\")\n",
        "print (sentence)\n",
        "print (\"Length of 'test sentence' is %s\" %len(sentence))"
      ]
    },
    {
      "cell_type": "markdown",
      "metadata": {
        "id": "xDf-ptDWYOWM"
      },
      "source": [
        "##### 입력 문자열과 타겟 문자 준비"
      ]
    },
    {
      "cell_type": "code",
      "execution_count": null,
      "metadata": {
        "colab": {
          "base_uri": "https://localhost:8080/"
        },
        "id": "R7d2RtBMDI6a",
        "outputId": "8709615f-b81a-4cbf-f5fb-ac665e096ec1"
      },
      "outputs": [
        {
          "output_type": "stream",
          "name": "stdout",
          "text": [
            "CHARACTERS: \n",
            "25\n",
            "['k', 'a', 'l', 'h', 'f', 's', 'i', 'b', 'o', ',', 'n', '.', 'r', 'm', \"'\", 'u', 'c', 'e', 't', ' ', 'g', 'p', 'd', 'w', 'y']\n",
            "DICTIONARY: \n",
            "25\n",
            "{'k': 0, 'a': 1, 'l': 2, 'h': 3, 'f': 4, 's': 5, 'i': 6, 'b': 7, 'o': 8, ',': 9, 'n': 10, '.': 11, 'r': 12, 'm': 13, \"'\": 14, 'u': 15, 'c': 16, 'e': 17, 't': 18, ' ': 19, 'g': 20, 'p': 21, 'd': 22, 'w': 23, 'y': 24}\n"
          ]
        }
      ],
      "source": [
        "# make charater dictionary\n",
        "char_set = list(set(sentence)) # char set 생성\n",
        "char_dic = {w: i for i, w in enumerate(char_set)}\n",
        "print (\"CHARACTERS: \")\n",
        "print (len(char_set))\n",
        "print (char_set)\n",
        "print (\"DICTIONARY: \")\n",
        "print (len(char_dic))\n",
        "print (char_dic)"
      ]
    },
    {
      "cell_type": "code",
      "execution_count": null,
      "metadata": {
        "colab": {
          "base_uri": "https://localhost:8080/"
        },
        "id": "KHae1jJRYOWP",
        "outputId": "649301d0-2b40-4030-e539-56b77b009784"
      },
      "outputs": [
        {
          "output_type": "stream",
          "name": "stdout",
          "text": [
            "data_dim : 25\n",
            "num_classes : 25\n"
          ]
        }
      ],
      "source": [
        "data_dim    = len(char_set) # train data X:input\n",
        "num_classes = len(char_set) # trian data Y:target\n",
        "sequence_length = 10        # any arbitrary number\n",
        "features = 1                # X,Y index\n",
        "print ('data_dim : %d' %data_dim)\n",
        "print ('num_classes : %d' %num_classes)"
      ]
    },
    {
      "cell_type": "code",
      "execution_count": null,
      "metadata": {
        "colab": {
          "base_uri": "https://localhost:8080/"
        },
        "id": "jNzpUnKwYOWR",
        "outputId": "3df91d22-4f6e-4328-f3d1-a4cd7a8b69f0"
      },
      "outputs": [
        {
          "output_type": "stream",
          "name": "stdout",
          "text": [
            "[  0/180] [if you wan]=>[f you want]\n",
            "          [6, 4, 19, 24, 8, 15, 19, 23, 1, 10]=>[4, 19, 24, 8, 15, 19, 23, 1, 10, 18]\n",
            "[  1/180] [f you want]=>[ you want ]\n",
            "          [4, 19, 24, 8, 15, 19, 23, 1, 10, 18]=>[19, 24, 8, 15, 19, 23, 1, 10, 18, 19]\n",
            "[  2/180] [ you want ]=>[you want t]\n",
            "          [19, 24, 8, 15, 19, 23, 1, 10, 18, 19]=>[24, 8, 15, 19, 23, 1, 10, 18, 19, 18]\n",
            "[  3/180] [you want t]=>[ou want to]\n",
            "          [24, 8, 15, 19, 23, 1, 10, 18, 19, 18]=>[8, 15, 19, 23, 1, 10, 18, 19, 18, 8]\n",
            "[  4/180] [ou want to]=>[u want to ]\n",
            "          [8, 15, 19, 23, 1, 10, 18, 19, 18, 8]=>[15, 19, 23, 1, 10, 18, 19, 18, 8, 19]\n"
          ]
        }
      ],
      "source": [
        "dataX = []  # input sequence list\n",
        "dataY = []  # target sequence list\n",
        "\n",
        "# we will make 170 sequences\n",
        "for i in range(0, len(sentence) - sequence_length):\n",
        "    # 10 characters = 1 training sequence\n",
        "    x_str = sentence[i : i+sequence_length]\n",
        "    y_str = sentence[i+1 : i+sequence_length+1]\n",
        "    # convert x, y str to index(int)\n",
        "    x_idx = [char_dic[c] for c in x_str]\n",
        "    y_idx = [char_dic[c] for c in y_str]\n",
        "    # append to dataset list\n",
        "    dataX.append(x_idx)\n",
        "    dataY.append(y_idx)\n",
        "\n",
        "    # monitoring\n",
        "    if i<5:\n",
        "        print (\"[%3d/%3d] [%s]=>[%s]\" % (i, len(sentence), x_str, y_str))\n",
        "        print (\"%s%s=>%s\" % (' '*10, x_idx, y_idx))"
      ]
    },
    {
      "cell_type": "markdown",
      "metadata": {
        "id": "59y_7OfhvMpY"
      },
      "source": [
        "##### 입력문자 index의 list를 ndarrary로 변환"
      ]
    },
    {
      "cell_type": "code",
      "execution_count": null,
      "metadata": {
        "colab": {
          "base_uri": "https://localhost:8080/"
        },
        "id": "w8vT8VgJR0Ct",
        "outputId": "9a1ae683-2a12-43b7-d33a-bc4a52f4713c"
      },
      "outputs": [
        {
          "output_type": "stream",
          "name": "stdout",
          "text": [
            "(170, 10, 1)\n",
            "(170, 10, 1)\n",
            "(170, 1)\n"
          ]
        }
      ],
      "source": [
        "X = np.array(dataX)   # ndarray(170,10)<-[170,10]\n",
        "X = np.reshape(X,(X.shape[0],X.shape[1],features))\n",
        "print (X.shape)       # (170,10,1)\n",
        "# Target tensor 생성 # ndarray(170,10,1)<-[170,10]\n",
        "Y = np.array(dataY)   # (170,10)<-[170,10]\n",
        "Y = Y= np.reshape(Y,(Y.shape[0],Y.shape[1],features))\n",
        "print (Y.shape)       # (170,10,1)\n",
        "Y1 = np.array(dataY)[:,-1]  # 마지막 문자만, (170,)<-[170,10]\n",
        "Y1= np.reshape(Y1,(Y1.shape[0],features)) # (170,1)\n",
        "print (Y1.shape)      # (170,1)"
      ]
    },
    {
      "cell_type": "code",
      "execution_count": null,
      "metadata": {
        "id": "8tJlK4RLR0Cu"
      },
      "outputs": [],
      "source": [
        "class CustomDataset(Dataset):\n",
        "    def __init__(self, x, y):\n",
        "        super().__init__()\n",
        "        self.x = x\n",
        "        self.y = y\n",
        "\n",
        "    def __len__(self):\n",
        "        return len(self.x)\n",
        "\n",
        "    def __getitem__(self, idx):\n",
        "        return torch.FloatTensor(self.x[idx]).to(device), torch.LongTensor(self.y[idx]).to(device)"
      ]
    },
    {
      "cell_type": "code",
      "source": [
        "# trainDataset = CustomDataset(X, Y1)\n",
        "# trainDataLoader = DataLoader(trainDataset, shuffle=True, drop_last=False, batch_size=1)\n",
        "# trainDataset_many = CustomDataset(X, Y)\n",
        "# trainDataLoader_many = DataLoader(trainDataset_many,\n",
        "#                                   shuffle=True, drop_last=False, batch_size=1)\n",
        "\n",
        "trainDataset_many2 = CustomDataset(X, Y)\n",
        "trainDataLoader_many2 = DataLoader(trainDataset_many2,\n",
        "                                   shuffle=False, drop_last=False, batch_size=1)"
      ],
      "metadata": {
        "id": "mQr5qRmpw_dZ"
      },
      "execution_count": null,
      "outputs": []
    },
    {
      "cell_type": "markdown",
      "metadata": {
        "id": "4V2aoNYtuI_q"
      },
      "source": [
        "# **Model-3** : many to many + stateful"
      ]
    },
    {
      "cell_type": "markdown",
      "metadata": {
        "id": "vMjsJZC7uI_z"
      },
      "source": [
        "## Define"
      ]
    },
    {
      "cell_type": "code",
      "execution_count": null,
      "metadata": {
        "id": "XBAI6mBiCa0G"
      },
      "outputs": [],
      "source": [
        "hidden_dim = units = 150\n",
        "batch_size = 1\n",
        "direction = 1 # if bidirectional LSTM, 2"
      ]
    },
    {
      "cell_type": "code",
      "execution_count": null,
      "metadata": {
        "colab": {
          "base_uri": "https://localhost:8080/"
        },
        "id": "HTkOPSKWR0C3",
        "outputId": "13bc426d-ef14-4538-ed84-18538d8d8f3c"
      },
      "outputs": [
        {
          "output_type": "execute_result",
          "data": {
            "text/plain": [
              "==========================================================================================\n",
              "Layer (type:depth-idx)                   Output Shape              Param #\n",
              "==========================================================================================\n",
              "ManyToManyStatefulLSTM                   [1, 10, 25]               --\n",
              "├─LSTM: 1-1                              [1, 10, 150]              91,800\n",
              "├─Linear: 1-2                            [1, 10, 25]               3,775\n",
              "==========================================================================================\n",
              "Total params: 95,575\n",
              "Trainable params: 95,575\n",
              "Non-trainable params: 0\n",
              "Total mult-adds (M): 0.92\n",
              "==========================================================================================\n",
              "Input size (MB): 0.00\n",
              "Forward/backward pass size (MB): 0.01\n",
              "Params size (MB): 0.38\n",
              "Estimated Total Size (MB): 0.40\n",
              "=========================================================================================="
            ]
          },
          "metadata": {},
          "execution_count": 12
        }
      ],
      "source": [
        "class ManyToManyStatefulLSTM(pl.LightningModule):\n",
        "    def __init__(self, features, units, num_classes, batch_size, batch_first=True):\n",
        "        super(ManyToManyStatefulLSTM, self).__init__()\n",
        "        self.lstm = nn.LSTM(features, units, batch_first=batch_first)\n",
        "        self.dense = nn.Linear(units, num_classes)\n",
        "        self.hn = torch.zeros(direction, batch_size, units).to(device)#(1,1,75)\n",
        "        self.cn = torch.zeros(direction, batch_size, units).to(device)\n",
        "\n",
        "    def forward(self, x):\n",
        "        x = x.to(device)\n",
        "        #out:(1,10,75), x:(1,10,1), hn/cn:(1,1,75)\n",
        "        out, (self.hn, self.cn) = self.lstm(x, (self.hn.detach(), self.cn.detach()))\n",
        "        out = self.dense(out)\n",
        "        return out #(1,10,25)\n",
        "\n",
        "    def training_step(self, batch, batch_idx):\n",
        "        x, y = batch\n",
        "        x, y = x.to(device), y.to(device)\n",
        "        # epoch 시작할 때 hidden state와 cell state 초기화\n",
        "        if batch_idx == 0:\n",
        "            self.hn = torch.zeros_like(self.hn)\n",
        "            self.cn = torch.zeros_like(self.cn)\n",
        "        y_hat = self.to(device)(x) #(1,10,25)<-(1,10,1)\n",
        "        y = y.squeeze(dim=-1)      #(1,10)<-(1,10,1)\n",
        "        loss, acc = 0, 0\n",
        "        for i in range(x.shape[1]): # seq.에 대한 평균 구하기\n",
        "            loss += F.cross_entropy(y_hat[:, i, :], y[:, i])\n",
        "            acc += FM.accuracy(y_hat[:, i, :], y[:, i],task='multiclass', num_classes=25 )\n",
        "\n",
        "        loss /= x.shape[1]\n",
        "        acc /= x.shape[1]\n",
        "        metrics={'loss':loss, 'acc':acc}\n",
        "        self.log_dict(metrics,on_step=False,on_epoch=True)\n",
        "        return loss\n",
        "\n",
        "    def reset_state(self):\n",
        "        self.hn = torch.zeros_like(self.hn)\n",
        "        self.cn = torch.zeros_like(self.cn)\n",
        "\n",
        "    def configure_optimizers(self):\n",
        "        return torch.optim.Adam(self.parameters())\n",
        "\n",
        "model = ManyToManyStatefulLSTM(features, units, num_classes, batch_size).to(device)\n",
        "summary(model, input_size=(batch_size, sequence_length, features))"
      ]
    },
    {
      "cell_type": "markdown",
      "metadata": {
        "id": "_-jQB_uDuJAB"
      },
      "source": [
        "## Fit"
      ]
    },
    {
      "cell_type": "code",
      "source": [
        "%%time\n",
        "checkpoint_callback = pl.callbacks.ModelCheckpoint(\n",
        "    monitor='loss',\n",
        "    dirpath='./aicamp/',\n",
        "    filename='{epoch:02d}-{loss:.4f}',\n",
        "    save_top_k=2)\n",
        "trainer = pl.Trainer(max_epochs=200, callbacks=[checkpoint_callback])\n",
        "trainer.fit(model, trainDataLoader_many2)"
      ],
      "metadata": {
        "colab": {
          "base_uri": "https://localhost:8080/",
          "height": 451,
          "referenced_widgets": [
            "629a5b18a5ea4e74a7230a6ea5fb5d73",
            "08faa361d4564d1fae41159305c90edf",
            "f206ba56da1b42fc9e91088d5662e15f",
            "f61f6fd613294196bb0447da9fd4c969",
            "47c6920a45994a569c16d88fee2d8f52",
            "1cabc3bb60724e9d9d288581e6275953",
            "40bbb1ef19ca43bfa786703ca2cd2098",
            "8db5da8719e74a05b655fd448878eb8a",
            "4db9fe37354b4bbda5d56a54f8c6d7b8",
            "55fe9d2e188e41c4a8eef14f223624ce",
            "180a5cf252b54c11b068fedd37928cec"
          ]
        },
        "id": "GHgI3TGgoNwI",
        "outputId": "4ad2ef8d-2eec-400b-ac37-e367fa30e2e8"
      },
      "execution_count": null,
      "outputs": [
        {
          "output_type": "stream",
          "name": "stderr",
          "text": [
            "INFO:pytorch_lightning.utilities.rank_zero:GPU available: True (cuda), used: True\n",
            "INFO:pytorch_lightning.utilities.rank_zero:TPU available: False, using: 0 TPU cores\n",
            "INFO:pytorch_lightning.utilities.rank_zero:IPU available: False, using: 0 IPUs\n",
            "INFO:pytorch_lightning.utilities.rank_zero:HPU available: False, using: 0 HPUs\n",
            "WARNING:pytorch_lightning.loggers.tensorboard:Missing logger folder: /content/lightning_logs\n",
            "INFO:pytorch_lightning.accelerators.cuda:LOCAL_RANK: 0 - CUDA_VISIBLE_DEVICES: [0]\n",
            "INFO:pytorch_lightning.callbacks.model_summary:\n",
            "  | Name  | Type   | Params\n",
            "---------------------------------\n",
            "0 | lstm  | LSTM   | 91.8 K\n",
            "1 | dense | Linear | 3.8 K \n",
            "---------------------------------\n",
            "95.6 K    Trainable params\n",
            "0         Non-trainable params\n",
            "95.6 K    Total params\n",
            "0.382     Total estimated model params size (MB)\n",
            "/usr/local/lib/python3.10/dist-packages/pytorch_lightning/trainer/connectors/data_connector.py:432: PossibleUserWarning: The dataloader, train_dataloader, does not have many workers which may be a bottleneck. Consider increasing the value of the `num_workers` argument` (try 4 which is the number of cpus on this machine) in the `DataLoader` init to improve performance.\n",
            "  rank_zero_warn(\n"
          ]
        },
        {
          "output_type": "display_data",
          "data": {
            "text/plain": [
              "Training: 0it [00:00, ?it/s]"
            ],
            "application/vnd.jupyter.widget-view+json": {
              "version_major": 2,
              "version_minor": 0,
              "model_id": "629a5b18a5ea4e74a7230a6ea5fb5d73"
            }
          },
          "metadata": {}
        },
        {
          "output_type": "stream",
          "name": "stdout",
          "text": [
            "CPU times: user 3min 23s, sys: 2.24 s, total: 3min 25s\n",
            "Wall time: 3min 27s\n"
          ]
        },
        {
          "output_type": "stream",
          "name": "stderr",
          "text": [
            "/usr/local/lib/python3.10/dist-packages/pytorch_lightning/trainer/call.py:52: UserWarning: Detected KeyboardInterrupt, attempting graceful shutdown...\n",
            "  rank_zero_warn(\"Detected KeyboardInterrupt, attempting graceful shutdown...\")\n"
          ]
        }
      ]
    },
    {
      "cell_type": "markdown",
      "metadata": {
        "id": "Ysrf2FbPR0C4"
      },
      "source": [
        "Epoch 199: 100%\n",
        "170/170 [00:01<00:00, 91.35it/s, v_num=1]\n",
        "INFO:pytorch_lightning.utilities.rank_zero:`Trainer.fit` stopped: `max_epochs=200` reached.\n",
        "CPU times: user 6min 10s, sys: 3.33 s, total: 6min 13s\n",
        "Wall time: 6min 33s"
      ]
    },
    {
      "cell_type": "code",
      "source": [
        "# %load_ext tensorboard\n",
        "# %tensorboard --logdir ./lightning_logs"
      ],
      "metadata": {
        "id": "9r5-5hRbqRe9"
      },
      "execution_count": null,
      "outputs": []
    },
    {
      "cell_type": "code",
      "execution_count": null,
      "metadata": {
        "id": "aFYZlVksR0C4"
      },
      "outputs": [],
      "source": [
        "log = {}\n",
        "# model train_logdir 확인\n",
        "v_num = model.logger.version\n",
        "log_dir = f'lightning_logs/version_{v_num}'\n",
        "\n",
        "event_accumulator = EventAccumulator(log_dir)\n",
        "event_accumulator.Reload()\n",
        "\n",
        "loss = [x.value for x in event_accumulator.Scalars('loss')]\n",
        "acc = [x.value for x in event_accumulator.Scalars('acc')]\n",
        "print(f'Max Acc:{max(acc)}')\n",
        "print(f'Min Loss:{max(loss)}')\n",
        "\n",
        "log['ManyToManyStatefulLSTM'] = [acc, loss]\n",
        "\n",
        "plt.plot(log['ManyToManyStatefulLSTM'][0], linestyle='--', label=\"train_acc\")\n",
        "plt.plot(log['ManyToManyStatefulLSTM'][1], linestyle='--', label=\"train_loss\")\n",
        "\n",
        "# plt.ylim(0.1, 1)\n",
        "plt.semilogy()\n",
        "plt.legend()\n",
        "plt.grid()\n",
        "plt.show()"
      ]
    },
    {
      "cell_type": "markdown",
      "source": [
        "![image.png](data:image/png;base64,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)"
      ],
      "metadata": {
        "id": "9YgKD4VoZitX"
      }
    },
    {
      "cell_type": "markdown",
      "source": [
        "**Load Best model**"
      ],
      "metadata": {
        "id": "shkvzWhK79Hk"
      }
    },
    {
      "cell_type": "code",
      "source": [
        "#!rm -rf './aicamp/'\n",
        "!ls './aicamp'\n",
        "checkpoint_callback.best_model_path"
      ],
      "metadata": {
        "colab": {
          "base_uri": "https://localhost:8080/",
          "height": 53
        },
        "id": "lkLRqBNMp3Bv",
        "outputId": "2d9b8497-279d-4690-c93d-2d4e85eec831"
      },
      "execution_count": null,
      "outputs": [
        {
          "output_type": "stream",
          "name": "stdout",
          "text": [
            "'epoch=113-loss=0.0428.ckpt'  'epoch=154-loss=0.0427.ckpt'\n"
          ]
        },
        {
          "output_type": "execute_result",
          "data": {
            "text/plain": [
              "'/content/aicamp/epoch=154-loss=0.0427.ckpt'"
            ],
            "application/vnd.google.colaboratory.intrinsic+json": {
              "type": "string"
            }
          },
          "metadata": {},
          "execution_count": 21
        }
      ]
    },
    {
      "cell_type": "code",
      "source": [
        "# best_model_path\n",
        "checkpoint_path = checkpoint_callback.best_model_path\n",
        "# 모델 읽어오기\n",
        "model = model.load_from_checkpoint(checkpoint_path, features=features,\n",
        "                units=units, num_classes=num_classes, batch_size=batch_size )\n",
        "model.to(device)"
      ],
      "metadata": {
        "colab": {
          "base_uri": "https://localhost:8080/"
        },
        "id": "qTuGqcqc76Q5",
        "outputId": "08991dfa-be1d-4f8c-a262-0112b35022b5"
      },
      "execution_count": null,
      "outputs": [
        {
          "output_type": "execute_result",
          "data": {
            "text/plain": [
              "ManyToManyStatefulLSTM(\n",
              "  (lstm): LSTM(1, 150, batch_first=True)\n",
              "  (dense): Linear(in_features=150, out_features=25, bias=True)\n",
              ")"
            ]
          },
          "metadata": {},
          "execution_count": 22
        }
      ]
    },
    {
      "cell_type": "markdown",
      "source": [
        "**Load Pre-trained model**"
      ],
      "metadata": {
        "id": "2vHGxkAK7pyt"
      }
    },
    {
      "cell_type": "code",
      "source": [
        "# # file name 수정!!\n",
        "# path = \"/content/aicamp/char-rnn-model3-epoch=190-loss=0.0363.ckpt\"\n",
        "# # 모델 읽어오기\n",
        "# model = model.load_from_checkpoint(path, features=features,\n",
        "#                 units=units, num_classes=num_classes, batch_size=batch_size )\n",
        "# model.to(device)"
      ],
      "metadata": {
        "id": "uT5e3WMKxbqA"
      },
      "execution_count": null,
      "outputs": []
    },
    {
      "cell_type": "markdown",
      "metadata": {
        "id": "WtQNirAxuJAH"
      },
      "source": [
        "## **Generate Text:** analysis"
      ]
    },
    {
      "cell_type": "markdown",
      "metadata": {
        "id": "L61-uySAuJAO"
      },
      "source": [
        "##### Generate a sequence of characters"
      ]
    },
    {
      "cell_type": "markdown",
      "metadata": {
        "id": "AjGWjFUiuJAP"
      },
      "source": [
        "학습문장: If you want to build a ship, don't drum up people together to collect wood and don't assign them tasks and work, but rather teach them to long for the endless immensity of the sea."
      ]
    },
    {
      "cell_type": "code",
      "execution_count": null,
      "metadata": {
        "id": "8UReeRTkbFMP"
      },
      "outputs": [],
      "source": [
        "# 문자열 생성하기\n",
        "def generate_seq2(model, char_dic, seq_length, seed_text, n_chars):\n",
        "    model.reset_state()\n",
        "    in_text = seed_text\t\t\t\t\t\t\t\t\t# seed 문자열 + 생성 문자\n",
        "    # 생성할 문자열의 수 = n_chars\n",
        "    for i in range(n_chars):\n",
        "        # 문자 encode : 문자 -> int\n",
        "        encoded = [char_dic[char] for char in in_text]\n",
        "        # 문자열 크기 조정 : max보다 크면 앞부분 제거\n",
        "        encoded = encoded[-sequence_length:]\n",
        "        encoded = np.array(encoded)\n",
        "        encoded = np.reshape(encoded,(1,encoded.shape[0],1)) #(1,10,1) <- (1,10)\n",
        "\n",
        "        # 다음문자 추론\n",
        "        yhat = model(torch.Tensor(encoded))  ## yhat.shape=(1,10,25):확률 시퀀스\n",
        "        yhat = np.argmax(yhat.cpu().detach().numpy(), axis=2) # 확률 중에서 가장 큰 값의 위치 (1,10,1)<(1,10,25)\n",
        "        yhat = np.squeeze(yhat)        # (10,) <- (1,10,1)\n",
        "        # 문자 디코딩 : integer -> character\n",
        "        for char, index in char_dic.items():\n",
        "            if index == yhat[9]:         # 시퀀스에서 마지막 값을 사용\n",
        "                break\n",
        "        in_text += char    # 문자열에 추가\n",
        "    return in_text"
      ]
    },
    {
      "cell_type": "code",
      "execution_count": null,
      "metadata": {
        "colab": {
          "base_uri": "https://localhost:8080/"
        },
        "id": "nVpLTMzvuJAQ",
        "outputId": "ffc669b7-c3ca-4a23-d047-195ea7c430d0"
      },
      "outputs": [
        {
          "output_type": "stream",
          "name": "stdout",
          "text": [
            "Trigger characters: \"want to bu \"\n",
            "Result: \n",
            "\"want to build a ship, don't drum up people together to collect wood and don't assign them tasks and work, but rather teach them to long for the endless immensity of the sea. the sea. the sea. the sea. the sea. \"\n",
            "\n",
            "Trigger characters: \"collect wo\"\n",
            "Result: \n",
            "\"collect woe' and don't assign them tasks and work, but rather teach them to long for the endless immensity of the sea. the sea. the sea. the sea. the sea. the sea. the sea. the sea. the sea. the sea. the sea. t\"\n",
            "\n",
            "Trigger characters: \"aabbcr than\"\n",
            "Result: \"abbcr thanless immensity of the sea. the sea. the sea. the sea. the sea. the sea. the sea. the sea. the sea. the sea. the sea. the sea. the sea. the sea. the sea. the sea. the sea. the sea. the sea. the sea. th\"\n"
          ]
        }
      ],
      "source": [
        "# test start of rhyme\n",
        "print('Trigger characters: \"want to bu \"\\nResult: \\n\"{}\"'.format(\n",
        "      generate_seq2(model, char_dic, sequence_length, 'want to bu', 200)))\n",
        "# test mid-line\n",
        "print('\\nTrigger characters: \"collect wo\"\\nResult: \\n\"{}\"'.format(\n",
        "      generate_seq2(model, char_dic, sequence_length, 'collect wo', 200)))\n",
        "# test not in original\n",
        "print('\\nTrigger characters: \"aabbcr than\"\\nResult: \"{}\"'.format(\n",
        "      generate_seq2(model, char_dic, sequence_length, 'abbcr than', 200)))"
      ]
    },
    {
      "cell_type": "markdown",
      "source": [
        "Trigger characters: \"want to bu \"\n",
        "Result:\n",
        "\"want to build a ship, don't drum up people together to collect wood and don't assign them tasks and work, but rather teach them to long for the endless immensity of the sea.to collect wood and don't assign them\"\n",
        "\n",
        "Trigger characters: \"collect wo\"\n",
        "Result:\n",
        "\"collect wothem to long for the endless immensity of the sea.to collect wood and don't assign them tasks and work, but rather teach them to long for the endless immensity of the sea.to collect wood and don't ass\"\n",
        "\n",
        "Trigger characters: \"aabbcr than\"\n",
        "Result: \"abbcr thantdo ship, don't drum up people together to collect wood and don't assign them tasks and work, but rather teach them to long for the endless immensity of the sea.to collect wood and don't assign them t\""
      ],
      "metadata": {
        "id": "62rg5wX59zy4"
      }
    },
    {
      "cell_type": "code",
      "execution_count": null,
      "metadata": {
        "id": "5uX_JtMNnaWp"
      },
      "outputs": [],
      "source": [
        "!stop"
      ]
    },
    {
      "cell_type": "markdown",
      "metadata": {
        "id": "GQnNLwgCgTF-"
      },
      "source": [
        "# **Model-4** : many to many + stateful, batch_size=2"
      ]
    },
    {
      "cell_type": "code",
      "execution_count": null,
      "metadata": {
        "id": "0vMOyXRarmoY",
        "colab": {
          "base_uri": "https://localhost:8080/"
        },
        "outputId": "4265f70d-9725-4155-8825-e0e1e9ad6728"
      },
      "outputs": [
        {
          "output_type": "stream",
          "name": "stdout",
          "text": [
            "FOLLOWING IS OUR TRAINING SEQUENCE:\n",
            "if you want to build a ship, don't drum up people together to collect wood and don't assign them tasks and work, but rather teach them to long for the endless immensity of the sea. Our developer guides are deep-dives into specific topics such as layer sublassing, fine-tuning, or model saving. They're one of the best ways to become a Keras expert. Most of our \n",
            "Length of 'test sentence' is 360\n"
          ]
        }
      ],
      "source": [
        "# 첫번째 문장 180자\n",
        "sentence1 = (\"if you want to build a ship, don't drum up people together to \"\n",
        "            \"collect wood and don't assign them tasks and work, but rather \"\n",
        "            \"teach them to long for the endless immensity of the sea.\"\n",
        ")\n",
        "# 두번째 문장 180자\n",
        "sentence2 = (\"Our developer guides are deep-dives into specific topics such \"\n",
        "            \"as layer sublassing, fine-tuning, or model saving. They're one\"\n",
        "            \" of the best ways to become a Keras expert. Most of our \")\n",
        "print (\"FOLLOWING IS OUR TRAINING SEQUENCE:\")\n",
        "print (sentence1,sentence2)\n",
        "print (\"Length of 'test sentence' is %s\" %len(sentence1+sentence2))"
      ]
    },
    {
      "cell_type": "markdown",
      "metadata": {
        "id": "NCFv8ZMVryvE"
      },
      "source": [
        "##### 입력 문자열과 타겟 문자 준비"
      ]
    },
    {
      "cell_type": "code",
      "execution_count": null,
      "metadata": {
        "id": "y-Xt8FNrryvF",
        "colab": {
          "base_uri": "https://localhost:8080/"
        },
        "outputId": "c79cc6bd-8cd7-4358-b1d0-8a6955954a31"
      },
      "outputs": [
        {
          "output_type": "stream",
          "name": "stdout",
          "text": [
            "CHARACTERS: \n",
            "32\n",
            "['c', 'w', 'K', 'e', 'T', 'g', 'n', 'v', 'l', 'x', 'd', 'y', 'r', 't', ' ', 'k', \"'\", 'O', 'm', 'u', 'i', 'o', '-', 'M', ',', 'a', 'b', 'f', 'p', 's', '.', 'h']\n",
            "DICTIONARY: \n",
            "32\n",
            "{'c': 0, 'w': 1, 'K': 2, 'e': 3, 'T': 4, 'g': 5, 'n': 6, 'v': 7, 'l': 8, 'x': 9, 'd': 10, 'y': 11, 'r': 12, 't': 13, ' ': 14, 'k': 15, \"'\": 16, 'O': 17, 'm': 18, 'u': 19, 'i': 20, 'o': 21, '-': 22, 'M': 23, ',': 24, 'a': 25, 'b': 26, 'f': 27, 'p': 28, 's': 29, '.': 30, 'h': 31}\n"
          ]
        }
      ],
      "source": [
        "# make charater dictionary\n",
        "char_set = list(set(sentence1+sentence2)) ##\n",
        "char_dic = {w: i for i, w in enumerate(char_set)}\n",
        "print (\"CHARACTERS: \")\n",
        "print (len(char_set))\n",
        "print (char_set)\n",
        "print (\"DICTIONARY: \")\n",
        "print (len(char_dic))\n",
        "print (char_dic)"
      ]
    },
    {
      "cell_type": "code",
      "execution_count": null,
      "metadata": {
        "id": "Qq3dli71ryvJ",
        "colab": {
          "base_uri": "https://localhost:8080/"
        },
        "outputId": "1d167fd6-f1d8-4669-fe3c-620114ad77da"
      },
      "outputs": [
        {
          "output_type": "stream",
          "name": "stdout",
          "text": [
            "data_dim : 32\n",
            "num_classes : 32\n"
          ]
        }
      ],
      "source": [
        "data_dim    = len(char_set) # train data X:input\n",
        "num_classes = len(char_set) # trian data Y:target\n",
        "sequence_length = 10        # any arbitrary number\n",
        "features = 1                # X,Y index\n",
        "print ('data_dim : %d' %data_dim)\n",
        "print ('num_classes : %d' %num_classes)"
      ]
    },
    {
      "cell_type": "code",
      "execution_count": null,
      "metadata": {
        "id": "UF94LUCGryvN",
        "colab": {
          "base_uri": "https://localhost:8080/"
        },
        "outputId": "0523534b-f180-4d08-816a-2fa23b16f99f"
      },
      "outputs": [
        {
          "output_type": "stream",
          "name": "stdout",
          "text": [
            "[  0/180] [if you wan]=>[f you want]\n",
            "          [20, 27, 14, 11, 21, 19, 14, 1, 25, 6]=>[27, 14, 11, 21, 19, 14, 1, 25, 6, 13]\n",
            "[  0/180] [Our develo]=>[ur develop]\n",
            "          [17, 19, 12, 14, 10, 3, 7, 3, 8, 21]=>[19, 12, 14, 10, 3, 7, 3, 8, 21, 28]\n",
            "[  1/180] [f you want]=>[ you want ]\n",
            "          [27, 14, 11, 21, 19, 14, 1, 25, 6, 13]=>[14, 11, 21, 19, 14, 1, 25, 6, 13, 14]\n",
            "[  1/180] [ur develop]=>[r develope]\n",
            "          [19, 12, 14, 10, 3, 7, 3, 8, 21, 28]=>[12, 14, 10, 3, 7, 3, 8, 21, 28, 3]\n",
            "[  2/180] [ you want ]=>[you want t]\n",
            "          [14, 11, 21, 19, 14, 1, 25, 6, 13, 14]=>[11, 21, 19, 14, 1, 25, 6, 13, 14, 13]\n",
            "[  2/180] [r develope]=>[ developer]\n",
            "          [12, 14, 10, 3, 7, 3, 8, 21, 28, 3]=>[14, 10, 3, 7, 3, 8, 21, 28, 3, 12]\n"
          ]
        }
      ],
      "source": [
        "dataX = []  # input sequence list\n",
        "dataY = []  # target sequence list\n",
        "\n",
        "## we will make 170 x 2 sequences\n",
        "for i in range(0,len(sentence1) - sequence_length): #\n",
        "    ## 첫번째 문장\n",
        "    # 10 characters = 1 training sequence\n",
        "    x_str1 = sentence1[i : i+sequence_length]\n",
        "    y_str1 = sentence1[i+1 : i+sequence_length+1]\n",
        "    # convert x, y str to index(int)\n",
        "    x_idx1 = [char_dic[c] for c in x_str1]\n",
        "    y_idx1 = [char_dic[c] for c in y_str1]\n",
        "    # append to dataset list\n",
        "    dataX.append(x_idx1)\n",
        "    dataY.append(y_idx1)\n",
        "    ## 두번째 문장\n",
        "    # 10 characters = 1 training sequence\n",
        "    x_str2 = sentence2[i : i+sequence_length]\n",
        "    y_str2 = sentence2[i+1 : i+sequence_length+1]\n",
        "    # convert x, y str to index(int)\n",
        "    x_idx2 = [char_dic[c] for c in x_str2]\n",
        "    y_idx2 = [char_dic[c] for c in y_str2]\n",
        "    # append to dataset list\n",
        "    dataX.append(x_idx2)\n",
        "    dataY.append(y_idx2)\n",
        "\n",
        "    # monitoring\n",
        "    if i<3:\n",
        "        print (\"[%3d/%3d] [%s]=>[%s]\" % (i, len(sentence1), x_str1, y_str1))\n",
        "        print (\"%s%s=>%s\" % (' '*10, x_idx1, y_idx1))\n",
        "        print (\"[%3d/%3d] [%s]=>[%s]\" % (i, len(sentence2), x_str2, y_str2))\n",
        "        print (\"%s%s=>%s\" % (' '*10, x_idx2, y_idx2))"
      ]
    },
    {
      "cell_type": "markdown",
      "metadata": {
        "id": "BYhE49VeryvQ"
      },
      "source": [
        "##### 입력문자 index의 list를 ndarrary로 변환"
      ]
    },
    {
      "cell_type": "code",
      "execution_count": null,
      "metadata": {
        "id": "ZcZOjFptryvR",
        "colab": {
          "base_uri": "https://localhost:8080/"
        },
        "outputId": "66e6c693-288a-4cb6-e652-cdb9afdb793e"
      },
      "outputs": [
        {
          "output_type": "stream",
          "name": "stdout",
          "text": [
            "(340, 10, 1)\n",
            "(340, 10, 1)\n"
          ]
        }
      ],
      "source": [
        "# input tensor 생성 # ndarray(340,10,1)<-[340,10]\n",
        "X = np.array(dataX)\n",
        "X = np.reshape(X,(X.shape[0],X.shape[1],features))\n",
        "print (X.shape)\n",
        "# Target tensor 생성 # ndarray(170,10,1)<-[170,10]\n",
        "y = np.array(dataY)\n",
        "y = np.reshape(y,(y.shape[0],y.shape[1],features))\n",
        "print (y.shape)"
      ]
    },
    {
      "cell_type": "markdown",
      "metadata": {
        "id": "Z0oVtf70gTF_"
      },
      "source": [
        "##### Define"
      ]
    },
    {
      "cell_type": "code",
      "execution_count": null,
      "metadata": {
        "id": "ASZY7adYR0C9",
        "colab": {
          "base_uri": "https://localhost:8080/"
        },
        "outputId": "f44b5338-e6e1-4f54-eb27-bf59486e899a"
      },
      "outputs": [
        {
          "output_type": "execute_result",
          "data": {
            "text/plain": [
              "==========================================================================================\n",
              "Layer (type:depth-idx)                   Output Shape              Param #\n",
              "==========================================================================================\n",
              "ManyToManyStatefulLSTM2                  [2, 10, 32]               --\n",
              "├─LSTM: 1-1                              [2, 10, 300]              363,600\n",
              "├─Linear: 1-2                            [2, 10, 32]               9,632\n",
              "==========================================================================================\n",
              "Total params: 373,232\n",
              "Trainable params: 373,232\n",
              "Non-trainable params: 0\n",
              "Total mult-adds (M): 7.29\n",
              "==========================================================================================\n",
              "Input size (MB): 0.00\n",
              "Forward/backward pass size (MB): 0.05\n",
              "Params size (MB): 1.49\n",
              "Estimated Total Size (MB): 1.55\n",
              "=========================================================================================="
            ]
          },
          "metadata": {},
          "execution_count": 43
        }
      ],
      "source": [
        "# many to many + stateful + batch_size=2\n",
        "hidden_dim = units = 300 # 75\n",
        "batch_size = 2\n",
        "direction = 1 # if bidirectional LSTM, 2\n",
        "\n",
        "class ManyToManyStatefulLSTM2(pl.LightningModule):\n",
        "    def __init__(self, features, units, num_classes, batch_size, batch_first=True):\n",
        "        super(ManyToManyStatefulLSTM2, self).__init__()\n",
        "        self.lstm = nn.LSTM(features, units, batch_first=batch_first)\n",
        "        self.dense = nn.Linear(units, num_classes)\n",
        "        self.hn = torch.zeros(direction, batch_size, units).to(device)#(1,2,75)\n",
        "        self.cn = torch.zeros(direction, batch_size, units).to(device)\n",
        "\n",
        "    def forward(self, x):\n",
        "        x = x.to(device) #(2,10,1)\n",
        "        #out:(2,10,150), x:(2,10,1), hn/cn:(2,1,150)\n",
        "        out, (self.hn, self.cn) = self.lstm(x, (self.hn.detach(), self.cn.detach()))\n",
        "        out = self.dense(out) #(2,10,32)\n",
        "        return out\n",
        "\n",
        "    def training_step(self, batch, batch_idx):\n",
        "        x, y = batch\n",
        "        x, y = x.to(device), y.to(device)\n",
        "        # 배치를 시작할 때 hidden state와 cell state를 초기화 한다.\n",
        "        if batch_idx == 0:\n",
        "            self.hn = torch.zeros_like(self.hn)\n",
        "            self.cn = torch.zeros_like(self.cn)\n",
        "        y_hat = self.to(device)(x) #(2,10,32)\n",
        "        y = y.squeeze(dim=-1) #(2,10)\n",
        "        loss, acc = 0, 0\n",
        "        for i in range(x.shape[1]):\n",
        "            loss += F.cross_entropy(y_hat[:, i, :], y[:, i])\n",
        "            acc += FM.accuracy(y_hat[:, i, :], y[:, i],task='multiclass',num_classes=num_classes )\n",
        "        loss /= x.shape[1]\n",
        "        acc /= x.shape[1]\n",
        "        metrics={'loss':loss, 'acc':acc}\n",
        "        self.log_dict(metrics,on_step=False,on_epoch=True)\n",
        "        return loss\n",
        "\n",
        "    def reset_state(self):\n",
        "        self.hn = torch.zeros_like(self.hn)\n",
        "        self.cn = torch.zeros_like(self.cn)\n",
        "\n",
        "    def configure_optimizers(self):\n",
        "        return torch.optim.Adam(self.parameters())\n",
        "\n",
        "model = ManyToManyStatefulLSTM2(features, hidden_dim, num_classes, batch_size).to(device)\n",
        "summary(model, input_size=(batch_size, sequence_length, features))"
      ]
    },
    {
      "cell_type": "markdown",
      "metadata": {
        "id": "ysjsiwLtgTGE"
      },
      "source": [
        "##### Compile"
      ]
    },
    {
      "cell_type": "markdown",
      "metadata": {
        "id": "te9HHFnqgTGH"
      },
      "source": [
        "##### Fit"
      ]
    },
    {
      "cell_type": "code",
      "execution_count": null,
      "metadata": {
        "id": "cyT4ZEN2R0C-"
      },
      "outputs": [],
      "source": [
        "trainDataset_many3 = CustomDataset(X, y)\n",
        "trainDataLoader_many3 = DataLoader(trainDataset_many3,\n",
        "                                  shuffle=False, drop_last=False, batch_size=2)"
      ]
    },
    {
      "cell_type": "code",
      "source": [
        "# seq : [(2,10,1),(2,10,1)] = [x, y]\n",
        "seq = next(iter(trainDataLoader_many3))\n",
        "seq_x,seq_y = seq # (2,10,1),(2,10,1)\n",
        "ps(seq_x)#seq X:(2,10,1)\n",
        "ps(seq_y)#seq Y:(2,10,1)"
      ],
      "metadata": {
        "colab": {
          "base_uri": "https://localhost:8080/"
        },
        "id": "T1JhNJnfaRmH",
        "outputId": "b4b2ec77-cca7-47e9-efdb-f631c75ab41e"
      },
      "execution_count": null,
      "outputs": [
        {
          "output_type": "stream",
          "name": "stdout",
          "text": [
            "[] Shapetorch.Size([2, 10, 1])\n",
            "[] Shapetorch.Size([2, 10, 1])\n"
          ]
        }
      ]
    },
    {
      "cell_type": "code",
      "source": [
        "%%time\n",
        "model = ManyToManyStatefulLSTM2(features, hidden_dim, num_classes, batch_size).to(device)\n",
        "\n",
        "checkpoint_callback = pl.callbacks.ModelCheckpoint(\n",
        "    monitor='loss',\n",
        "    dirpath='./aicamp/',\n",
        "    filename='{epoch:02d}-{loss:.4f}',\n",
        "    save_top_k=2)\n",
        "trainer = pl.Trainer(max_epochs=400, callbacks=[checkpoint_callback])\n",
        "trainer.fit(model, trainDataLoader_many3)"
      ],
      "metadata": {
        "colab": {
          "base_uri": "https://localhost:8080/",
          "height": 361,
          "referenced_widgets": [
            "8939dacc85c84d76b1c28ebcb46009e8",
            "ebf3e181a4bf41bba078e27f7658be00",
            "16d9630878054e54ac8096629724ab9e",
            "8dc02f2852c845cb863bcd8a0ca1ba29",
            "06cde02f35244b42af592e35fa3d1a34",
            "f6584b48c6b64250a9849b1ec51181bd",
            "868d4562cbf94a41a877b144f9b7a104",
            "7205923799904537908aff28c69103d1",
            "d523a5191f9d4b189c926c96c5be344d",
            "2bbfaa07ad214719b79bfbbf6994a6ae",
            "72139254aeab42eb8e533c4b0873366d"
          ]
        },
        "id": "Jc7439xqqxcB",
        "outputId": "b7249cc2-2cba-4202-80e7-3114b3d8067f"
      },
      "execution_count": null,
      "outputs": [
        {
          "output_type": "stream",
          "name": "stderr",
          "text": [
            "INFO:pytorch_lightning.utilities.rank_zero:GPU available: True (cuda), used: True\n",
            "INFO:pytorch_lightning.utilities.rank_zero:TPU available: False, using: 0 TPU cores\n",
            "INFO:pytorch_lightning.utilities.rank_zero:IPU available: False, using: 0 IPUs\n",
            "INFO:pytorch_lightning.utilities.rank_zero:HPU available: False, using: 0 HPUs\n",
            "INFO:pytorch_lightning.accelerators.cuda:LOCAL_RANK: 0 - CUDA_VISIBLE_DEVICES: [0]\n",
            "INFO:pytorch_lightning.callbacks.model_summary:\n",
            "  | Name  | Type   | Params\n",
            "---------------------------------\n",
            "0 | lstm  | LSTM   | 363 K \n",
            "1 | dense | Linear | 9.6 K \n",
            "---------------------------------\n",
            "373 K     Trainable params\n",
            "0         Non-trainable params\n",
            "373 K     Total params\n",
            "1.493     Total estimated model params size (MB)\n"
          ]
        },
        {
          "output_type": "display_data",
          "data": {
            "text/plain": [
              "Training: 0it [00:00, ?it/s]"
            ],
            "application/vnd.jupyter.widget-view+json": {
              "version_major": 2,
              "version_minor": 0,
              "model_id": "8939dacc85c84d76b1c28ebcb46009e8"
            }
          },
          "metadata": {}
        },
        {
          "output_type": "stream",
          "name": "stderr",
          "text": [
            "INFO:pytorch_lightning.utilities.rank_zero:`Trainer.fit` stopped: `max_epochs=400` reached.\n"
          ]
        },
        {
          "output_type": "stream",
          "name": "stdout",
          "text": [
            "CPU times: user 13min 1s, sys: 6.8 s, total: 13min 8s\n",
            "Wall time: 13min 20s\n"
          ]
        }
      ]
    },
    {
      "cell_type": "code",
      "execution_count": null,
      "metadata": {
        "colab": {
          "base_uri": "https://localhost:8080/",
          "height": 265
        },
        "id": "lYv7yl62GaBk",
        "outputId": "b5f8d113-def6-4ce3-ef9f-0b3be16a6c77"
      },
      "outputs": [
        {
          "output_type": "display_data",
          "data": {
            "text/plain": [
              "<Figure size 432x288 with 1 Axes>"
            ],
            "image/png": "[encoded data removed]"
          },
          "metadata": {
            "needs_background": "light"
          }
        }
      ],
      "source": [
        "log = {}\n",
        "# model train_logdir 확인\n",
        "v_num = model.logger.version\n",
        "log_dir = f'lightning_logs/version_{v_num}'\n",
        "\n",
        "event_accumulator = EventAccumulator(log_dir)\n",
        "event_accumulator.Reload()\n",
        "\n",
        "steps = {x.step for x in event_accumulator.Scalars(\"epoch\")}\n",
        "train_acc = [x.value for x in event_accumulator.Scalars('acc') if x.step in steps]\n",
        "train_loss = [x.value for x in event_accumulator.Scalars('loss') if x.step in steps]\n",
        "\n",
        "log['ManyToManyStatefulLSTM'] = [train_acc, train_loss]\n",
        "\n",
        "plt.plot(log['ManyToManyStatefulLSTM'][0], linestyle='--', label=\"train_acc\")\n",
        "plt.plot(log['ManyToManyStatefulLSTM'][1], linestyle='--', label=\"train_loss\")\n",
        "\n",
        "# plt.ylim(0.1, 1)\n",
        "plt.semilogy()\n",
        "plt.legend()\n",
        "plt.grid()\n",
        "plt.show()"
      ]
    },
    {
      "cell_type": "code",
      "source": [
        "#!rm -rf './aicamp/'\n",
        "!ls './aicamp'\n",
        "checkpoint_callback.best_model_path"
      ],
      "metadata": {
        "colab": {
          "base_uri": "https://localhost:8080/",
          "height": 53
        },
        "outputId": "c4b99717-0fa3-4b9e-d4a3-3fc945513678",
        "id": "tmIcHq2oD0Tk"
      },
      "execution_count": null,
      "outputs": [
        {
          "output_type": "stream",
          "name": "stdout",
          "text": [
            "'epoch=342-loss=0.0058.ckpt'  'epoch=344-loss=0.0055.ckpt'\n"
          ]
        },
        {
          "output_type": "execute_result",
          "data": {
            "text/plain": [
              "'/content/aicamp/epoch=344-loss=0.0055.ckpt'"
            ],
            "application/vnd.google.colaboratory.intrinsic+json": {
              "type": "string"
            }
          },
          "metadata": {},
          "execution_count": 32
        }
      ]
    },
    {
      "cell_type": "code",
      "source": [
        "# best_model_path\n",
        "checkpoint_path = checkpoint_callback.best_model_path\n",
        "# 모델 읽어오기\n",
        "model = model.load_from_checkpoint(checkpoint_path, features=features,\n",
        "                units=hidden_dim, num_classes=num_classes, batch_size=batch_size )\n",
        "model.to(device)"
      ],
      "metadata": {
        "colab": {
          "base_uri": "https://localhost:8080/"
        },
        "outputId": "c98acb8c-9052-40e1-ff25-8186204fc7e6",
        "id": "cmvOMRs9D0T6"
      },
      "execution_count": null,
      "outputs": [
        {
          "output_type": "execute_result",
          "data": {
            "text/plain": [
              "ManyToManyStatefulLSTM2(\n",
              "  (lstm): LSTM(1, 300, batch_first=True)\n",
              "  (dense): Linear(in_features=300, out_features=32, bias=True)\n",
              ")"
            ]
          },
          "metadata": {},
          "execution_count": 33
        }
      ]
    },
    {
      "cell_type": "markdown",
      "source": [
        "**Load Pre-trained model**"
      ],
      "metadata": {
        "id": "ccKW4CHPD0T8"
      }
    },
    {
      "cell_type": "code",
      "source": [
        "# # file name 수정!!\n",
        "# path = \"/content/aicamp/char-rnn-model3-epoch=190-loss=0.0363.ckpt\"\n",
        "# # 모델 읽어오기\n",
        "# model = model.load_from_checkpoint(path, features=features,\n",
        "#                 units=units, num_classes=num_classes, batch_size=batch_size )\n",
        "# model.to(device)"
      ],
      "metadata": {
        "id": "DTZSA4wAD0T8"
      },
      "execution_count": null,
      "outputs": []
    },
    {
      "cell_type": "markdown",
      "metadata": {
        "id": "ep_c1WrlgnWm"
      },
      "source": [
        "#### **Generate Text:** analysis"
      ]
    },
    {
      "cell_type": "markdown",
      "metadata": {
        "id": "i3SML2cmgnWo"
      },
      "source": [
        "##### Define generate_seq function"
      ]
    },
    {
      "cell_type": "markdown",
      "metadata": {
        "id": "CrnKMiBAgnWo"
      },
      "source": [
        "- 10개의 출력 시퀀스를 받으므로 수정"
      ]
    },
    {
      "cell_type": "code",
      "execution_count": null,
      "metadata": {
        "id": "ciCiRe8WgnWs"
      },
      "outputs": [],
      "source": [
        "# 문자열 생성하기\n",
        "def generate_seq3(model, char_dic, seq_length, seed_text, n_chars):\n",
        "    model.reset_state()\n",
        "    in_text1 = seed_text\t\t\t\t\t\t\t\t\t# seed 문자열 + 생성 문자\n",
        "    in_text2 = seed_text\t\t\t\t\t\t\t\t\t# seed 문자열 + 생성 문자\n",
        "    # 생성할 문자열의 수 = n_chars\n",
        "    for i in range(n_chars):\n",
        "        # 문자 encode : 문자 -> int\n",
        "        encoded1 = [char_dic[char] for char in in_text1]  ## 두개의 시퀀스 준비\n",
        "        encoded2 = [char_dic[char] for char in in_text2]  ##\n",
        "        # 문자열 크기 조정 : max보다 크면 앞부분 제거\n",
        "        encoded1 = np.array(encoded1[-sequence_length:])\n",
        "        encoded2 = np.array(encoded2[-sequence_length:])\n",
        "        encoded3 = np.array([encoded1,encoded2])                 ##(2,1,10) < (1,10)*2\n",
        "        encoded3 = np.reshape(encoded3,(2,encoded2.shape[-1],1)) ##(2,10,1) <- (2,1,10)\n",
        "        # 다음문자 추론\n",
        "        yhat = model(torch.FloatTensor(encoded3))  ## yhat.shape=(2,10,32):확률 시퀀스\n",
        "        yhat = yhat.cpu().detach().numpy()\n",
        "        yhat1 = np.argmax(yhat[0], axis=1) ## 첫 추론값을 index로 변환  (10,)<(2,10,32)\n",
        "        yhat2 = np.argmax(yhat[1], axis=1) ## 두번째 추론값을 index로 변환  (10,)<(2,10,32)\n",
        "        # 문자 디코딩 : integer -> character\n",
        "        for char, index in char_dic.items():\n",
        "            if index == yhat1[9]:         # 시퀀스에서 마지막 값을 사용\n",
        "                break\n",
        "        in_text1 += char    # 문자열에 추가\n",
        "        for char, index in char_dic.items():\n",
        "            if index == yhat2[9]:         # 시퀀스에서 마지막 값을 사용\n",
        "                break\n",
        "        in_text2 += char    # 문자열에 추가\n",
        "    return (in_text1,in_text2)"
      ]
    },
    {
      "cell_type": "markdown",
      "metadata": {
        "id": "lJy-mAOrgnWv"
      },
      "source": [
        "##### Generate a sequence of characters"
      ]
    },
    {
      "cell_type": "markdown",
      "metadata": {
        "id": "lkKu0oyqgnWv"
      },
      "source": [
        "학습문장: if you want to build a ship, don't drum up people together to collect wood and don't assign them tasks and work, but rather teach them to long for the endless immensity of the sea."
      ]
    },
    {
      "cell_type": "code",
      "execution_count": null,
      "metadata": {
        "id": "gvUoaZTkR0C_",
        "colab": {
          "base_uri": "https://localhost:8080/"
        },
        "outputId": "67ac1196-2107-453c-ede8-18064f0d3203"
      },
      "outputs": [
        {
          "output_type": "stream",
          "name": "stdout",
          "text": [
            "Trigger characters: \"want to bu \"\n",
            "Result1: \n",
            "\"want to buald a ship, don't drum up people together to collect wood and don't assign them tasks and work, but rather teach them to long for the endless immensity of the sea. the bess ways to become a Keras expe\"\n",
            "Result2: \n",
            "\"want to buald a ship, don't drum up people together to collect wood and don't assign them tasks and work, but rather teach them to long for the endless immensity of the sea. the bess ways to become a Keras expe\n",
            "\"\n",
            "Trigger characters: \"collect wo \"\n",
            "Result1: \n",
            "\"collect wof uoole sodeo build a ship, don't drum up people together to collect wood and don't assign them tasks and work, but rather teach them to long for the endless immensity of the sea. the bess ways to bec\"\n",
            "Result2: \n",
            "\"collect wof uoole sodeo build a ship, don't drum up people together to collect wood and don't assign them tasks and work, but rather teach them to long for the endless immensity of the sea. the bess ways to bec\n",
            "\"\n",
            "Trigger characters: \"abbcr than \"\n",
            "Result1: \n",
            "\"abbcr than for the endless immensity of the sea. them tasks and work, but rather teach them to long for the endless immensity of the sea. the bess ways to become a Keras expert. Most of our of otog uh assch the\"\n",
            "Result2: \n",
            "\"abbcr than for the endless immensity of the sea. them tasks and work, but rather teach them to long for the endless immensity of the sea. the bess ways to become a Keras expert. Most of our of otog uh assch the\"\n"
          ]
        }
      ],
      "source": [
        "# test start of rhyme\n",
        "r1,r2 = generate_seq3(model, char_dic, sequence_length, 'want to bu', 200)\n",
        "print('Trigger characters: \"want to bu \"\\nResult1: \\n\"{}\"\\nResult2: \\n\"{}\\n\"'.format(r1,r2))\n",
        "# test mid-line\n",
        "r1,r2 = generate_seq3(model, char_dic, sequence_length, 'collect wo', 200)\n",
        "print('Trigger characters: \"collect wo \"\\nResult1: \\n\"{}\"\\nResult2: \\n\"{}\\n\"'.format(r1,r2))\n",
        "# test not in original\n",
        "r1,r2 = generate_seq3(model, char_dic, sequence_length, 'abbcr than', 200)\n",
        "print('Trigger characters: \"abbcr than \"\\nResult1: \\n\"{}\"\\nResult2: \\n\"{}\"'.format(r1,r2))"
      ]
    },
    {
      "cell_type": "markdown",
      "source": [
        "Trigger characters: \"want to bu \"\n",
        "Result1:\n",
        "\"want to buald a ship, don't drum up people together to collect wood and don't assign them tasks and work, but rather teach them to long for the endless immensity of the sea. the bess ways to become a Keras expe\"\n",
        "Result2:\n",
        "\"want to buald a ship, don't drum up people together to collect wood and don't assign them tasks and work, but rather teach them to long for the endless immensity of the sea. the bess ways to become a Keras expe\n",
        "\"\n",
        "Trigger characters: \"collect wo \"\n",
        "Result1:\n",
        "\"collect wof uoole sodeo build a ship, don't drum up people together to collect wood and don't assign them tasks and work, but rather teach them to long for the endless immensity of the sea. the bess ways to bec\"\n",
        "Result2:\n",
        "\"collect wof uoole sodeo build a ship, don't drum up people together to collect wood and don't assign them tasks and work, but rather teach them to long for the endless immensity of the sea. the bess ways to bec\n",
        "\"\n",
        "Trigger characters: \"abbcr than \"\n",
        "Result1:\n",
        "\"abbcr than for the endless immensity of the sea. them tasks and work, but rather teach them to long for the endless immensity of the sea. the bess ways to become a Keras expert. Most of our of otog uh assch the\"\n",
        "Result2:\n",
        "\"abbcr than for the endless immensity of the sea. them tasks and work, but rather teach them to long for the endless immensity of the sea. the bess ways to become a Keras expert. Most of our of otog uh assch the\""
      ],
      "metadata": {
        "id": "ZaYA3WoC818p"
      }
    },
    {
      "cell_type": "markdown",
      "metadata": {
        "id": "EYhKTcTbYOX6"
      },
      "source": [
        "#### **실습과제**"
      ]
    },
    {
      "cell_type": "markdown",
      "metadata": {
        "id": "SykxHEM5YOX6"
      },
      "source": [
        "##### 과제 1. model-1,2에서 fit(batch_size=)를 32로 바꾸고 loss 함수의 모습을 확인하자\n",
        "###### -- 변화의 원인을 검토해 보자.\n",
        "##### 과제 2. 문장의 끝부분을 학습하는데 문제가 있다.\n",
        "###### -- 문제점을 찾아 개선 방법을 적용해 보고 결과를 확인하자.\n",
        "##### 과제 3. 학습문장을 Keras Documents에서 2000자 정도 가져다 넣어서 실행해 보자('.'뒤에'\\n'도 넣어주자)\n",
        "###### -- 모델을 개선 하자(hidden_dim, layer추가), batch_size, epoch를 바꿔보자\n",
        "###### -- 문장이 길어졌을때 statful을 사용하는 것이 유의미 한지 확인해 보자"
      ]
    },
    {
      "cell_type": "code",
      "execution_count": null,
      "metadata": {
        "id": "0uCnCjLhik7Z",
        "scrolled": true
      },
      "outputs": [],
      "source": [
        "# 학습할 문장\n",
        "sentence = (\n",
        "\"About Keras\\nKeras is a deep learning API written in Python, \"\n",
        "\"running on top of the machine learning platform TensorFlow. It\"\n",
        "\" was developed with a focus on enabling fast experimentation. \"\n",
        "\"Being able to go from idea to result as fast as possible is key\"\n",
        "\" to doing good research.\\n\\nKeras & TensorFlow 2.0\\nTensorFlow\"\n",
        "\" 2.0 is an end-to-end, open-source machine learning platform. \"\n",
        "\"You can think of it as an infrastructure layer for differentiable\"\n",
        "\" programming. It combines four key abilities:\\n\"\n",
        "\"Efficiently executing low-level tensor operations on CPU, GPU, or TPU.\\n\"\n",
        "\"Computing the gradient of arbitrary differentiable expressions.\\n\"\n",
        "\"Scaling computation to many devices (e.g. the Summit supercomputer\"\n",
        "\" at Oak Ridge National Lab, which spans 27,000 GPUs).\\nExporting \"\n",
        "\"programs (\\\"graphs\\\") to external runtimes such as servers, browsers, \"\n",
        "\"mobile and embedded devices.\\nKeras is the high-level API of \"\n",
        "\"TensorFlow 2.0: an approchable, highly-productive interface for \"\n",
        "\"solving machine learning problems, with a focus on modern deep \"\n",
        "\"learning. It provides essential abstractions and building blocks \"\n",
        "\"for developing and shipping machine learning solutions with high \"\n",
        "\"iteration velocity.\\nKeras empowers engineers and researchers to \"\n",
        "\"take full advantage of the scalability and cross-platform capabilities \"\n",
        "\"of TensorFlow 2.0: you can run Keras on TPU or on large clusters of \"\n",
        "\"GPUs, and you can export your Keras models to run in the browser or \"\n",
        "\"on a mobile device.\\n\\nFirst contact with Keras\\nThe core data\"\n",
        "\"structures of Keras are layers and models. The simplest type of \"\n",
        "\"model is the Sequential model, a linear stack of layers. For more \"\n",
        "\"complex architectures, you should use the Keras functional API, which \"\n",
        "\"allows to build arbitrary graphs of layers, or write models entirely \"\n",
        "\"from scratch via subclasssing.\\nThe Keras ecosystem\\nThe Keras \"\n",
        "\"project isn't limited to the core Keras API for building and \"\n",
        "\"training neural networks. It spans a wide range of related \"\n",
        "\"initiatives that cover every step of the machine learning workflow.\"\n",
        "\"\\n\\nKeras Tuner\\nKeras Tuner Documentation - Keras Tuner GitHub repository\"\n",
        "\"\\nKeras Tuner is an easy-to-use, scalable hyperparameter optimization \"\n",
        "\"framework that solves the pain points of hyperparameter search. Easily \"\n",
        "\"configure your search space with a define-by-run syntax, then leverage \"\n",
        "\"one of the available search algorithms to find the best hyperparameter \"\n",
        "\"values for your models. Keras Tuner comes with Bayesian Optimization, \"\n",
        "\"Hyperband, and Random Search algorithms built-in, and is also designed \"\n",
        "\"to be easy for researchers to extend in order to experiment with new \"\n",
        "\"search algorithms.\\n\\nAutoKeras\\nAutoKeras Documentation - AutoKeras \"\n",
        "\"GitHub repository\\n\\nAutoKeras is an AutoML system based on Keras. \"\n",
        "\"It is developed by DATA Lab at Texas A&M University. The goal of AutoKeras\"\n",
        "\" is to make machine learning accessible for everyone. It provides \"\n",
        "\"high-level end-to-end APIs such as ImageClassifier or TextClassifier \"\n",
        "\"to solve machine learning problems in a few lines, as well as flexible \"\n",
        "\"building blocks to perform architecture search.\"\n",
        ")\n",
        "print (\"FOLLOWING IS OUR TRAINING SEQUENCE:\")\n",
        "print (sentence)\n",
        "print (\"Length of 'test sentence' is %s\" %len(sentence))"
      ]
    },
    {
      "cell_type": "code",
      "execution_count": null,
      "metadata": {
        "id": "Ez2SkZ5Iy4B8"
      },
      "outputs": [],
      "source": []
    }
  ],
  "metadata": {
    "accelerator": "GPU",
    "colab": {
      "provenance": [],
      "machine_shape": "hm",
      "gpuType": "T4",
      "toc_visible": true,
      "include_colab_link": true
    },
    "kernelspec": {
      "display_name": "torch",
      "language": "python",
      "name": "torch"
    },
    "language_info": {
      "codemirror_mode": {
        "name": "ipython",
        "version": 3
      },
      "file_extension": ".py",
      "mimetype": "text/x-python",
      "name": "python",
      "nbconvert_exporter": "python",
      "pygments_lexer": "ipython3",
      "version": "3.6.12"
    },
    "widgets": {
      "application/vnd.jupyter.widget-state+json": {
        "8939dacc85c84d76b1c28ebcb46009e8": {
          "model_module": "@jupyter-widgets/controls",
          "model_name": "HBoxModel",
          "model_module_version": "1.5.0",
          "state": {
            "_dom_classes": [],
            "_model_module": "@jupyter-widgets/controls",
            "_model_module_version": "1.5.0",
            "_model_name": "HBoxModel",
            "_view_count": null,
            "_view_module": "@jupyter-widgets/controls",
            "_view_module_version": "1.5.0",
            "_view_name": "HBoxView",
            "box_style": "",
            "children": [
              "IPY_MODEL_ebf3e181a4bf41bba078e27f7658be00",
              "IPY_MODEL_16d9630878054e54ac8096629724ab9e",
              "IPY_MODEL_8dc02f2852c845cb863bcd8a0ca1ba29"
            ],
            "layout": "IPY_MODEL_06cde02f35244b42af592e35fa3d1a34"
          }
        },
        "ebf3e181a4bf41bba078e27f7658be00": {
          "model_module": "@jupyter-widgets/controls",
          "model_name": "HTMLModel",
          "model_module_version": "1.5.0",
          "state": {
            "_dom_classes": [],
            "_model_module": "@jupyter-widgets/controls",
            "_model_module_version": "1.5.0",
            "_model_name": "HTMLModel",
            "_view_count": null,
            "_view_module": "@jupyter-widgets/controls",
            "_view_module_version": "1.5.0",
            "_view_name": "HTMLView",
            "description": "",
            "description_tooltip": null,
            "layout": "IPY_MODEL_f6584b48c6b64250a9849b1ec51181bd",
            "placeholder": "​",
            "style": "IPY_MODEL_868d4562cbf94a41a877b144f9b7a104",
            "value": "Epoch 399: 100%"
          }
        },
        "16d9630878054e54ac8096629724ab9e": {
          "model_module": "@jupyter-widgets/controls",
          "model_name": "FloatProgressModel",
          "model_module_version": "1.5.0",
          "state": {
            "_dom_classes": [],
            "_model_module": "@jupyter-widgets/controls",
            "_model_module_version": "1.5.0",
            "_model_name": "FloatProgressModel",
            "_view_count": null,
            "_view_module": "@jupyter-widgets/controls",
            "_view_module_version": "1.5.0",
            "_view_name": "ProgressView",
            "bar_style": "success",
            "description": "",
            "description_tooltip": null,
            "layout": "IPY_MODEL_7205923799904537908aff28c69103d1",
            "max": 170,
            "min": 0,
            "orientation": "horizontal",
            "style": "IPY_MODEL_d523a5191f9d4b189c926c96c5be344d",
            "value": 170
          }
        },
        "8dc02f2852c845cb863bcd8a0ca1ba29": {
          "model_module": "@jupyter-widgets/controls",
          "model_name": "HTMLModel",
          "model_module_version": "1.5.0",
          "state": {
            "_dom_classes": [],
            "_model_module": "@jupyter-widgets/controls",
            "_model_module_version": "1.5.0",
            "_model_name": "HTMLModel",
            "_view_count": null,
            "_view_module": "@jupyter-widgets/controls",
            "_view_module_version": "1.5.0",
            "_view_name": "HTMLView",
            "description": "",
            "description_tooltip": null,
            "layout": "IPY_MODEL_2bbfaa07ad214719b79bfbbf6994a6ae",
            "placeholder": "​",
            "style": "IPY_MODEL_72139254aeab42eb8e533c4b0873366d",
            "value": " 170/170 [00:01&lt;00:00, 90.61it/s, v_num=4]"
          }
        },
        "06cde02f35244b42af592e35fa3d1a34": {
          "model_module": "@jupyter-widgets/base",
          "model_name": "LayoutModel",
          "model_module_version": "1.2.0",
          "state": {
            "_model_module": "@jupyter-widgets/base",
            "_model_module_version": "1.2.0",
            "_model_name": "LayoutModel",
            "_view_count": null,
            "_view_module": "@jupyter-widgets/base",
            "_view_module_version": "1.2.0",
            "_view_name": "LayoutView",
            "align_content": null,
            "align_items": null,
            "align_self": null,
            "border": null,
            "bottom": null,
            "display": "inline-flex",
            "flex": null,
            "flex_flow": "row wrap",
            "grid_area": null,
            "grid_auto_columns": null,
            "grid_auto_flow": null,
            "grid_auto_rows": null,
            "grid_column": null,
            "grid_gap": null,
            "grid_row": null,
            "grid_template_areas": null,
            "grid_template_columns": null,
            "grid_template_rows": null,
            "height": null,
            "justify_content": null,
            "justify_items": null,
            "left": null,
            "margin": null,
            "max_height": null,
            "max_width": null,
            "min_height": null,
            "min_width": null,
            "object_fit": null,
            "object_position": null,
            "order": null,
            "overflow": null,
            "overflow_x": null,
            "overflow_y": null,
            "padding": null,
            "right": null,
            "top": null,
            "visibility": null,
            "width": "100%"
          }
        },
        "f6584b48c6b64250a9849b1ec51181bd": {
          "model_module": "@jupyter-widgets/base",
          "model_name": "LayoutModel",
          "model_module_version": "1.2.0",
          "state": {
            "_model_module": "@jupyter-widgets/base",
            "_model_module_version": "1.2.0",
            "_model_name": "LayoutModel",
            "_view_count": null,
            "_view_module": "@jupyter-widgets/base",
            "_view_module_version": "1.2.0",
            "_view_name": "LayoutView",
            "align_content": null,
            "align_items": null,
            "align_self": null,
            "border": null,
            "bottom": null,
            "display": null,
            "flex": null,
            "flex_flow": null,
            "grid_area": null,
            "grid_auto_columns": null,
            "grid_auto_flow": null,
            "grid_auto_rows": null,
            "grid_column": null,
            "grid_gap": null,
            "grid_row": null,
            "grid_template_areas": null,
            "grid_template_columns": null,
            "grid_template_rows": null,
            "height": null,
            "justify_content": null,
            "justify_items": null,
            "left": null,
            "margin": null,
            "max_height": null,
            "max_width": null,
            "min_height": null,
            "min_width": null,
            "object_fit": null,
            "object_position": null,
            "order": null,
            "overflow": null,
            "overflow_x": null,
            "overflow_y": null,
            "padding": null,
            "right": null,
            "top": null,
            "visibility": null,
            "width": null
          }
        },
        "868d4562cbf94a41a877b144f9b7a104": {
          "model_module": "@jupyter-widgets/controls",
          "model_name": "DescriptionStyleModel",
          "model_module_version": "1.5.0",
          "state": {
            "_model_module": "@jupyter-widgets/controls",
            "_model_module_version": "1.5.0",
            "_model_name": "DescriptionStyleModel",
            "_view_count": null,
            "_view_module": "@jupyter-widgets/base",
            "_view_module_version": "1.2.0",
            "_view_name": "StyleView",
            "description_width": ""
          }
        },
        "7205923799904537908aff28c69103d1": {
          "model_module": "@jupyter-widgets/base",
          "model_name": "LayoutModel",
          "model_module_version": "1.2.0",
          "state": {
            "_model_module": "@jupyter-widgets/base",
            "_model_module_version": "1.2.0",
            "_model_name": "LayoutModel",
            "_view_count": null,
            "_view_module": "@jupyter-widgets/base",
            "_view_module_version": "1.2.0",
            "_view_name": "LayoutView",
            "align_content": null,
            "align_items": null,
            "align_self": null,
            "border": null,
            "bottom": null,
            "display": null,
            "flex": "2",
            "flex_flow": null,
            "grid_area": null,
            "grid_auto_columns": null,
            "grid_auto_flow": null,
            "grid_auto_rows": null,
            "grid_column": null,
            "grid_gap": null,
            "grid_row": null,
            "grid_template_areas": null,
            "grid_template_columns": null,
            "grid_template_rows": null,
            "height": null,
            "justify_content": null,
            "justify_items": null,
            "left": null,
            "margin": null,
            "max_height": null,
            "max_width": null,
            "min_height": null,
            "min_width": null,
            "object_fit": null,
            "object_position": null,
            "order": null,
            "overflow": null,
            "overflow_x": null,
            "overflow_y": null,
            "padding": null,
            "right": null,
            "top": null,
            "visibility": null,
            "width": null
          }
        },
        "d523a5191f9d4b189c926c96c5be344d": {
          "model_module": "@jupyter-widgets/controls",
          "model_name": "ProgressStyleModel",
          "model_module_version": "1.5.0",
          "state": {
            "_model_module": "@jupyter-widgets/controls",
            "_model_module_version": "1.5.0",
            "_model_name": "ProgressStyleModel",
            "_view_count": null,
            "_view_module": "@jupyter-widgets/base",
            "_view_module_version": "1.2.0",
            "_view_name": "StyleView",
            "bar_color": null,
            "description_width": ""
          }
        },
        "2bbfaa07ad214719b79bfbbf6994a6ae": {
          "model_module": "@jupyter-widgets/base",
          "model_name": "LayoutModel",
          "model_module_version": "1.2.0",
          "state": {
            "_model_module": "@jupyter-widgets/base",
            "_model_module_version": "1.2.0",
            "_model_name": "LayoutModel",
            "_view_count": null,
            "_view_module": "@jupyter-widgets/base",
            "_view_module_version": "1.2.0",
            "_view_name": "LayoutView",
            "align_content": null,
            "align_items": null,
            "align_self": null,
            "border": null,
            "bottom": null,
            "display": null,
            "flex": null,
            "flex_flow": null,
            "grid_area": null,
            "grid_auto_columns": null,
            "grid_auto_flow": null,
            "grid_auto_rows": null,
            "grid_column": null,
            "grid_gap": null,
            "grid_row": null,
            "grid_template_areas": null,
            "grid_template_columns": null,
            "grid_template_rows": null,
            "height": null,
            "justify_content": null,
            "justify_items": null,
            "left": null,
            "margin": null,
            "max_height": null,
            "max_width": null,
            "min_height": null,
            "min_width": null,
            "object_fit": null,
            "object_position": null,
            "order": null,
            "overflow": null,
            "overflow_x": null,
            "overflow_y": null,
            "padding": null,
            "right": null,
            "top": null,
            "visibility": null,
            "width": null
          }
        },
        "72139254aeab42eb8e533c4b0873366d": {
          "model_module": "@jupyter-widgets/controls",
          "model_name": "DescriptionStyleModel",
          "model_module_version": "1.5.0",
          "state": {
            "_model_module": "@jupyter-widgets/controls",
            "_model_module_version": "1.5.0",
            "_model_name": "DescriptionStyleModel",
            "_view_count": null,
            "_view_module": "@jupyter-widgets/base",
            "_view_module_version": "1.2.0",
            "_view_name": "StyleView",
            "description_width": ""
          }
        },
        "629a5b18a5ea4e74a7230a6ea5fb5d73": {
          "model_module": "@jupyter-widgets/controls",
          "model_name": "HBoxModel",
          "model_module_version": "1.5.0",
          "state": {
            "_dom_classes": [],
            "_model_module": "@jupyter-widgets/controls",
            "_model_module_version": "1.5.0",
            "_model_name": "HBoxModel",
            "_view_count": null,
            "_view_module": "@jupyter-widgets/controls",
            "_view_module_version": "1.5.0",
            "_view_name": "HBoxView",
            "box_style": "",
            "children": [
              "IPY_MODEL_08faa361d4564d1fae41159305c90edf",
              "IPY_MODEL_f206ba56da1b42fc9e91088d5662e15f",
              "IPY_MODEL_f61f6fd613294196bb0447da9fd4c969"
            ],
            "layout": "IPY_MODEL_47c6920a45994a569c16d88fee2d8f52"
          }
        },
        "08faa361d4564d1fae41159305c90edf": {
          "model_module": "@jupyter-widgets/controls",
          "model_name": "HTMLModel",
          "model_module_version": "1.5.0",
          "state": {
            "_dom_classes": [],
            "_model_module": "@jupyter-widgets/controls",
            "_model_module_version": "1.5.0",
            "_model_name": "HTMLModel",
            "_view_count": null,
            "_view_module": "@jupyter-widgets/controls",
            "_view_module_version": "1.5.0",
            "_view_name": "HTMLView",
            "description": "",
            "description_tooltip": null,
            "layout": "IPY_MODEL_1cabc3bb60724e9d9d288581e6275953",
            "placeholder": "​",
            "style": "IPY_MODEL_40bbb1ef19ca43bfa786703ca2cd2098",
            "value": "Epoch 112:  82%"
          }
        },
        "f206ba56da1b42fc9e91088d5662e15f": {
          "model_module": "@jupyter-widgets/controls",
          "model_name": "FloatProgressModel",
          "model_module_version": "1.5.0",
          "state": {
            "_dom_classes": [],
            "_model_module": "@jupyter-widgets/controls",
            "_model_module_version": "1.5.0",
            "_model_name": "FloatProgressModel",
            "_view_count": null,
            "_view_module": "@jupyter-widgets/controls",
            "_view_module_version": "1.5.0",
            "_view_name": "ProgressView",
            "bar_style": "",
            "description": "",
            "description_tooltip": null,
            "layout": "IPY_MODEL_8db5da8719e74a05b655fd448878eb8a",
            "max": 170,
            "min": 0,
            "orientation": "horizontal",
            "style": "IPY_MODEL_4db9fe37354b4bbda5d56a54f8c6d7b8",
            "value": 140
          }
        },
        "f61f6fd613294196bb0447da9fd4c969": {
          "model_module": "@jupyter-widgets/controls",
          "model_name": "HTMLModel",
          "model_module_version": "1.5.0",
          "state": {
            "_dom_classes": [],
            "_model_module": "@jupyter-widgets/controls",
            "_model_module_version": "1.5.0",
            "_model_name": "HTMLModel",
            "_view_count": null,
            "_view_module": "@jupyter-widgets/controls",
            "_view_module_version": "1.5.0",
            "_view_name": "HTMLView",
            "description": "",
            "description_tooltip": null,
            "layout": "IPY_MODEL_55fe9d2e188e41c4a8eef14f223624ce",
            "placeholder": "​",
            "style": "IPY_MODEL_180a5cf252b54c11b068fedd37928cec",
            "value": " 140/170 [00:01&lt;00:00, 99.60it/s, v_num=0]"
          }
        },
        "47c6920a45994a569c16d88fee2d8f52": {
          "model_module": "@jupyter-widgets/base",
          "model_name": "LayoutModel",
          "model_module_version": "1.2.0",
          "state": {
            "_model_module": "@jupyter-widgets/base",
            "_model_module_version": "1.2.0",
            "_model_name": "LayoutModel",
            "_view_count": null,
            "_view_module": "@jupyter-widgets/base",
            "_view_module_version": "1.2.0",
            "_view_name": "LayoutView",
            "align_content": null,
            "align_items": null,
            "align_self": null,
            "border": null,
            "bottom": null,
            "display": "inline-flex",
            "flex": null,
            "flex_flow": "row wrap",
            "grid_area": null,
            "grid_auto_columns": null,
            "grid_auto_flow": null,
            "grid_auto_rows": null,
            "grid_column": null,
            "grid_gap": null,
            "grid_row": null,
            "grid_template_areas": null,
            "grid_template_columns": null,
            "grid_template_rows": null,
            "height": null,
            "justify_content": null,
            "justify_items": null,
            "left": null,
            "margin": null,
            "max_height": null,
            "max_width": null,
            "min_height": null,
            "min_width": null,
            "object_fit": null,
            "object_position": null,
            "order": null,
            "overflow": null,
            "overflow_x": null,
            "overflow_y": null,
            "padding": null,
            "right": null,
            "top": null,
            "visibility": null,
            "width": "100%"
          }
        },
        "1cabc3bb60724e9d9d288581e6275953": {
          "model_module": "@jupyter-widgets/base",
          "model_name": "LayoutModel",
          "model_module_version": "1.2.0",
          "state": {
            "_model_module": "@jupyter-widgets/base",
            "_model_module_version": "1.2.0",
            "_model_name": "LayoutModel",
            "_view_count": null,
            "_view_module": "@jupyter-widgets/base",
            "_view_module_version": "1.2.0",
            "_view_name": "LayoutView",
            "align_content": null,
            "align_items": null,
            "align_self": null,
            "border": null,
            "bottom": null,
            "display": null,
            "flex": null,
            "flex_flow": null,
            "grid_area": null,
            "grid_auto_columns": null,
            "grid_auto_flow": null,
            "grid_auto_rows": null,
            "grid_column": null,
            "grid_gap": null,
            "grid_row": null,
            "grid_template_areas": null,
            "grid_template_columns": null,
            "grid_template_rows": null,
            "height": null,
            "justify_content": null,
            "justify_items": null,
            "left": null,
            "margin": null,
            "max_height": null,
            "max_width": null,
            "min_height": null,
            "min_width": null,
            "object_fit": null,
            "object_position": null,
            "order": null,
            "overflow": null,
            "overflow_x": null,
            "overflow_y": null,
            "padding": null,
            "right": null,
            "top": null,
            "visibility": null,
            "width": null
          }
        },
        "40bbb1ef19ca43bfa786703ca2cd2098": {
          "model_module": "@jupyter-widgets/controls",
          "model_name": "DescriptionStyleModel",
          "model_module_version": "1.5.0",
          "state": {
            "_model_module": "@jupyter-widgets/controls",
            "_model_module_version": "1.5.0",
            "_model_name": "DescriptionStyleModel",
            "_view_count": null,
            "_view_module": "@jupyter-widgets/base",
            "_view_module_version": "1.2.0",
            "_view_name": "StyleView",
            "description_width": ""
          }
        },
        "8db5da8719e74a05b655fd448878eb8a": {
          "model_module": "@jupyter-widgets/base",
          "model_name": "LayoutModel",
          "model_module_version": "1.2.0",
          "state": {
            "_model_module": "@jupyter-widgets/base",
            "_model_module_version": "1.2.0",
            "_model_name": "LayoutModel",
            "_view_count": null,
            "_view_module": "@jupyter-widgets/base",
            "_view_module_version": "1.2.0",
            "_view_name": "LayoutView",
            "align_content": null,
            "align_items": null,
            "align_self": null,
            "border": null,
            "bottom": null,
            "display": null,
            "flex": "2",
            "flex_flow": null,
            "grid_area": null,
            "grid_auto_columns": null,
            "grid_auto_flow": null,
            "grid_auto_rows": null,
            "grid_column": null,
            "grid_gap": null,
            "grid_row": null,
            "grid_template_areas": null,
            "grid_template_columns": null,
            "grid_template_rows": null,
            "height": null,
            "justify_content": null,
            "justify_items": null,
            "left": null,
            "margin": null,
            "max_height": null,
            "max_width": null,
            "min_height": null,
            "min_width": null,
            "object_fit": null,
            "object_position": null,
            "order": null,
            "overflow": null,
            "overflow_x": null,
            "overflow_y": null,
            "padding": null,
            "right": null,
            "top": null,
            "visibility": null,
            "width": null
          }
        },
        "4db9fe37354b4bbda5d56a54f8c6d7b8": {
          "model_module": "@jupyter-widgets/controls",
          "model_name": "ProgressStyleModel",
          "model_module_version": "1.5.0",
          "state": {
            "_model_module": "@jupyter-widgets/controls",
            "_model_module_version": "1.5.0",
            "_model_name": "ProgressStyleModel",
            "_view_count": null,
            "_view_module": "@jupyter-widgets/base",
            "_view_module_version": "1.2.0",
            "_view_name": "StyleView",
            "bar_color": null,
            "description_width": ""
          }
        },
        "55fe9d2e188e41c4a8eef14f223624ce": {
          "model_module": "@jupyter-widgets/base",
          "model_name": "LayoutModel",
          "model_module_version": "1.2.0",
          "state": {
            "_model_module": "@jupyter-widgets/base",
            "_model_module_version": "1.2.0",
            "_model_name": "LayoutModel",
            "_view_count": null,
            "_view_module": "@jupyter-widgets/base",
            "_view_module_version": "1.2.0",
            "_view_name": "LayoutView",
            "align_content": null,
            "align_items": null,
            "align_self": null,
            "border": null,
            "bottom": null,
            "display": null,
            "flex": null,
            "flex_flow": null,
            "grid_area": null,
            "grid_auto_columns": null,
            "grid_auto_flow": null,
            "grid_auto_rows": null,
            "grid_column": null,
            "grid_gap": null,
            "grid_row": null,
            "grid_template_areas": null,
            "grid_template_columns": null,
            "grid_template_rows": null,
            "height": null,
            "justify_content": null,
            "justify_items": null,
            "left": null,
            "margin": null,
            "max_height": null,
            "max_width": null,
            "min_height": null,
            "min_width": null,
            "object_fit": null,
            "object_position": null,
            "order": null,
            "overflow": null,
            "overflow_x": null,
            "overflow_y": null,
            "padding": null,
            "right": null,
            "top": null,
            "visibility": null,
            "width": null
          }
        },
        "180a5cf252b54c11b068fedd37928cec": {
          "model_module": "@jupyter-widgets/controls",
          "model_name": "DescriptionStyleModel",
          "model_module_version": "1.5.0",
          "state": {
            "_model_module": "@jupyter-widgets/controls",
            "_model_module_version": "1.5.0",
            "_model_name": "DescriptionStyleModel",
            "_view_count": null,
            "_view_module": "@jupyter-widgets/base",
            "_view_module_version": "1.2.0",
            "_view_name": "StyleView",
            "description_width": ""
          }
        }
      }
    }
  },
  "nbformat": 4,
  "nbformat_minor": 0
}