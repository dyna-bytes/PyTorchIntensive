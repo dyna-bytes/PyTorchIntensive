{
  "cells": [
    {
      "cell_type": "markdown",
      "metadata": {
        "id": "view-in-github",
        "colab_type": "text"
      },
      "source": [
        "<a href=\"https://colab.research.google.com/github/dyna-bytes/PyTorchIntensive/blob/main/3_4_2_CNN_Feature_Maps.ipynb\" target=\"_parent\"><img src=\"https://colab.research.google.com/assets/colab-badge.svg\" alt=\"Open In Colab\"/></a>"
      ]
    },
    {
      "cell_type": "code",
      "execution_count": null,
      "metadata": {
        "id": "DIWy_zj4TS2C"
      },
      "outputs": [],
      "source": [
        "# 변수의 shape, type, value 확인\n",
        "def p(var,_str='') :\n",
        "    if _str=='\\n' or _str=='cr' :\n",
        "        _str = '\\n'\n",
        "    else :\n",
        "        print(f'[{_str}]:')\n",
        "        _str = ''\n",
        "    if type(var)!=type([]):\n",
        "        try:\n",
        "            print(f'Shape:{var.shape}')\n",
        "        except :\n",
        "            pass\n",
        "    print(f'Type: {type(var)}')\n",
        "    print(f'Values: {var}'+_str)\n",
        "\n",
        "def pst(_x,_name=\"\"):\n",
        "    print(f'[{_name}] Shape{_x.shape}, {type(_x)}')\n",
        "def ps(_x,_name=\"\"):\n",
        "    print(f'[{_name}] Shape{_x.shape}')"
      ]
    },
    {
      "cell_type": "code",
      "source": [
        "%%capture\n",
        "!pip install pytorch_lightning torchinfo torchmetrics torchviz"
      ],
      "metadata": {
        "id": "xKrecBTxTZN0"
      },
      "execution_count": null,
      "outputs": []
    },
    {
      "cell_type": "markdown",
      "metadata": {
        "id": "CfwO3tnWf_nY"
      },
      "source": [
        "## Import Module"
      ]
    },
    {
      "cell_type": "code",
      "execution_count": null,
      "metadata": {
        "colab": {
          "base_uri": "https://localhost:8080/",
          "height": 36
        },
        "id": "0trJmd6DjqBZ",
        "outputId": "67bbf90e-6779-4c13-f55f-53a6f01fea88"
      },
      "outputs": [
        {
          "output_type": "execute_result",
          "data": {
            "text/plain": [
              "'2.0.1+cu118'"
            ],
            "application/vnd.google.colaboratory.intrinsic+json": {
              "type": "string"
            }
          },
          "metadata": {},
          "execution_count": 3
        }
      ],
      "source": [
        "import torch\n",
        "from torch import nn\n",
        "from torch.nn import functional as F\n",
        "from torch.utils.data import DataLoader, random_split\n",
        "import pytorch_lightning as pl\n",
        "from pytorch_lightning import Trainer\n",
        "from pytorch_lightning.callbacks import ModelCheckpoint\n",
        "#from pytorch_lightning.core.lightning import LightningModule\n",
        "from torchmetrics import functional as FM\n",
        "from torchinfo import summary\n",
        "from torch.utils.data import Dataset, DataLoader\n",
        "from pytorch_lightning.loggers import CSVLogger\n",
        "import numpy as np\n",
        "import pandas as pd\n",
        "import os\n",
        "import matplotlib.pyplot as plt\n",
        "plt.rcParams['figure.figsize'] = [5, 3.5]\n",
        "\n",
        "device ='cuda:0'\n",
        "torch.__version__"
      ]
    },
    {
      "cell_type": "markdown",
      "metadata": {
        "id": "0jlWZDs4KJPT"
      },
      "source": [
        "# 실습 : CNN Feature Maps"
      ]
    },
    {
      "cell_type": "markdown",
      "metadata": {
        "id": "jBHG3A8dKJPa"
      },
      "source": [
        "## **DataSet**"
      ]
    },
    {
      "cell_type": "code",
      "execution_count": null,
      "metadata": {
        "id": "LHZic98bKJPb",
        "colab": {
          "base_uri": "https://localhost:8080/"
        },
        "outputId": "b9fffae6-8822-4c2b-f365-42539d5534df"
      },
      "outputs": [
        {
          "output_type": "stream",
          "name": "stdout",
          "text": [
            "Downloading http://yann.lecun.com/exdb/mnist/train-images-idx3-ubyte.gz\n",
            "Downloading http://yann.lecun.com/exdb/mnist/train-images-idx3-ubyte.gz to ./MNIST/MNIST/raw/train-images-idx3-ubyte.gz\n"
          ]
        },
        {
          "output_type": "stream",
          "name": "stderr",
          "text": [
            "100%|██████████| 9912422/9912422 [00:00<00:00, 93718988.15it/s]\n"
          ]
        },
        {
          "output_type": "stream",
          "name": "stdout",
          "text": [
            "Extracting ./MNIST/MNIST/raw/train-images-idx3-ubyte.gz to ./MNIST/MNIST/raw\n",
            "\n",
            "Downloading http://yann.lecun.com/exdb/mnist/train-labels-idx1-ubyte.gz\n",
            "Downloading http://yann.lecun.com/exdb/mnist/train-labels-idx1-ubyte.gz to ./MNIST/MNIST/raw/train-labels-idx1-ubyte.gz\n"
          ]
        },
        {
          "output_type": "stream",
          "name": "stderr",
          "text": [
            "100%|██████████| 28881/28881 [00:00<00:00, 23691706.20it/s]"
          ]
        },
        {
          "output_type": "stream",
          "name": "stdout",
          "text": [
            "Extracting ./MNIST/MNIST/raw/train-labels-idx1-ubyte.gz to ./MNIST/MNIST/raw\n",
            "\n",
            "Downloading http://yann.lecun.com/exdb/mnist/t10k-images-idx3-ubyte.gz\n",
            "Downloading http://yann.lecun.com/exdb/mnist/t10k-images-idx3-ubyte.gz to ./MNIST/MNIST/raw/t10k-images-idx3-ubyte.gz\n"
          ]
        },
        {
          "output_type": "stream",
          "name": "stderr",
          "text": [
            "\n",
            "100%|██████████| 1648877/1648877 [00:00<00:00, 26797575.15it/s]\n"
          ]
        },
        {
          "output_type": "stream",
          "name": "stdout",
          "text": [
            "Extracting ./MNIST/MNIST/raw/t10k-images-idx3-ubyte.gz to ./MNIST/MNIST/raw\n",
            "\n",
            "Downloading http://yann.lecun.com/exdb/mnist/t10k-labels-idx1-ubyte.gz\n",
            "Downloading http://yann.lecun.com/exdb/mnist/t10k-labels-idx1-ubyte.gz to ./MNIST/MNIST/raw/t10k-labels-idx1-ubyte.gz\n"
          ]
        },
        {
          "output_type": "stream",
          "name": "stderr",
          "text": [
            "100%|██████████| 4542/4542 [00:00<00:00, 22386050.26it/s]\n"
          ]
        },
        {
          "output_type": "stream",
          "name": "stdout",
          "text": [
            "Extracting ./MNIST/MNIST/raw/t10k-labels-idx1-ubyte.gz to ./MNIST/MNIST/raw\n",
            "\n"
          ]
        }
      ],
      "source": [
        "from torchvision.datasets import FashionMNIST, MNIST\n",
        "import torchvision.transforms as transforms\n",
        "from torch.utils.data import DataLoader, Subset\n",
        "\n",
        "noise_on = False\n",
        "fashion_mnist = False\n",
        "mnist_transform = transforms.Compose([\n",
        "    transforms.ToTensor(),\n",
        "])\n",
        "\n",
        "epochs=10\n",
        "batch_size=1024\n",
        "\n",
        "download_root = './MNIST'\n",
        "train_dataset = MNIST(download_root, transform=mnist_transform, train=True, download=True)\n",
        "test_dataset = MNIST(download_root, transform=mnist_transform, train=False, download=True)\n",
        "\n",
        "trainDataLoader = DataLoader(train_dataset, batch_size=batch_size, shuffle=True)\n",
        "valDataLoader = DataLoader(test_dataset, batch_size=batch_size, shuffle=False)"
      ]
    },
    {
      "cell_type": "markdown",
      "metadata": {
        "id": "0o-AwFeRKJPf"
      },
      "source": [
        "## **Model**"
      ]
    },
    {
      "cell_type": "markdown",
      "metadata": {
        "id": "U06YXuaOKJPg"
      },
      "source": [
        "#### Model define"
      ]
    },
    {
      "cell_type": "code",
      "source": [
        "loss_function = nn.CrossEntropyLoss()\n",
        "\n",
        "class CNN_BN2(pl.LightningModule):\n",
        "    def __init__(self):\n",
        "        super(CNN_BN2, self).__init__()\n",
        "        self.layers = nn.Sequential(\n",
        "            nn.Conv2d(1, 64, 3, padding=1),\n",
        "            nn.BatchNorm2d(64),\n",
        "            nn.ReLU(),\n",
        "            nn.MaxPool2d(2, 2),\n",
        "            nn.Conv2d(64, 64, 3, padding=1),\n",
        "            nn.BatchNorm2d(64),\n",
        "            nn.ReLU(),\n",
        "            nn.MaxPool2d(2, 2),\n",
        "            nn.Conv2d(64, 64, 3, padding=1),\n",
        "            nn.BatchNorm2d(64),\n",
        "            nn.ReLU(),\n",
        "            nn.MaxPool2d(2, 2),\n",
        "            nn.Flatten(),\n",
        "            nn.Linear(64*3*3, 256),\n",
        "            nn.Linear(256, 10))\n",
        "\n",
        "    def forward(self, x):\n",
        "        out = self.layers(x)\n",
        "        return out\n",
        "\n",
        "    def training_step(self, batch, batch_idx):\n",
        "        x, y = batch\n",
        "        y_pred = self(x)\n",
        "        loss = loss_function(y_pred, y)\n",
        "        acc = FM.accuracy(y_pred, y, task=\"multiclass\",num_classes=10)\n",
        "        metrics={'loss':loss, 'acc':acc}\n",
        "        self.log_dict(metrics)\n",
        "        return loss\n",
        "\n",
        "    def validation_step(self, batch, batch_idx):\n",
        "        x, y = batch\n",
        "        y_pred = self(x)\n",
        "        loss = loss_function(y_pred, y)\n",
        "        acc = FM.accuracy(y_pred, y, task=\"multiclass\",num_classes=10)\n",
        "        metrics = {'val_loss':loss, 'val_acc':acc}\n",
        "        self.log_dict(metrics)\n",
        "\n",
        "    def configure_optimizers(self):\n",
        "        return torch.optim.Adam(self.parameters(), lr=0.001)\n",
        "\n",
        "model_BN2 = CNN_BN2()\n",
        "summary(model_BN2, input_size=(8, 1, 28, 28))"
      ],
      "metadata": {
        "id": "gZueLFeI8bAO",
        "colab": {
          "base_uri": "https://localhost:8080/"
        },
        "outputId": "ddde00cc-1e6b-4dc2-bb15-13b31b37fae1"
      },
      "execution_count": null,
      "outputs": [
        {
          "output_type": "execute_result",
          "data": {
            "text/plain": [
              "==========================================================================================\n",
              "Layer (type:depth-idx)                   Output Shape              Param #\n",
              "==========================================================================================\n",
              "CNN_BN2                                  [8, 10]                   --\n",
              "├─Sequential: 1-1                        [8, 10]                   --\n",
              "│    └─Conv2d: 2-1                       [8, 64, 28, 28]           640\n",
              "│    └─BatchNorm2d: 2-2                  [8, 64, 28, 28]           128\n",
              "│    └─ReLU: 2-3                         [8, 64, 28, 28]           --\n",
              "│    └─MaxPool2d: 2-4                    [8, 64, 14, 14]           --\n",
              "│    └─Conv2d: 2-5                       [8, 64, 14, 14]           36,928\n",
              "│    └─BatchNorm2d: 2-6                  [8, 64, 14, 14]           128\n",
              "│    └─ReLU: 2-7                         [8, 64, 14, 14]           --\n",
              "│    └─MaxPool2d: 2-8                    [8, 64, 7, 7]             --\n",
              "│    └─Conv2d: 2-9                       [8, 64, 7, 7]             36,928\n",
              "│    └─BatchNorm2d: 2-10                 [8, 64, 7, 7]             128\n",
              "│    └─ReLU: 2-11                        [8, 64, 7, 7]             --\n",
              "│    └─MaxPool2d: 2-12                   [8, 64, 3, 3]             --\n",
              "│    └─Flatten: 2-13                     [8, 576]                  --\n",
              "│    └─Linear: 2-14                      [8, 256]                  147,712\n",
              "│    └─Linear: 2-15                      [8, 10]                   2,570\n",
              "==========================================================================================\n",
              "Total params: 225,162\n",
              "Trainable params: 225,162\n",
              "Non-trainable params: 0\n",
              "Total mult-adds (M): 77.60\n",
              "==========================================================================================\n",
              "Input size (MB): 0.03\n",
              "Forward/backward pass size (MB): 8.45\n",
              "Params size (MB): 0.90\n",
              "Estimated Total Size (MB): 9.37\n",
              "=========================================================================================="
            ]
          },
          "metadata": {},
          "execution_count": 5
        }
      ]
    },
    {
      "cell_type": "markdown",
      "metadata": {
        "id": "n9BG8hNUgo0n"
      },
      "source": [
        "#### Fit"
      ]
    },
    {
      "cell_type": "code",
      "execution_count": null,
      "metadata": {
        "id": "a_Y-DCztKJPn",
        "scrolled": true,
        "tags": [],
        "colab": {
          "base_uri": "https://localhost:8080/",
          "height": 386,
          "referenced_widgets": [
            "89eeed12aff7479eae7b9f5aa668f2ae",
            "4596e848a0da48cc953cb7c328e6700e",
            "0bd07e14091545d4afa73a032eb7aca5",
            "adf7c5e758e34e25a9ec02f06717b730",
            "fb0a5e578b6e4f56b65409fad5a41971",
            "bf9047e57e2849dab6793fbefad8cb01",
            "45e650f3e1af4625b70f130cbfb20ba4",
            "55e53973e08b4a559e244490855d5fac",
            "8d58bc461b3b451a84238ebede34f820",
            "359f667c3a334f62bc1849e168e19b27",
            "d32967a97c7f46a5ada39a5f10e2cf78",
            "154026706d144335941858d08322617a",
            "e3f21f6eb83f4c3fa3a994ebc2cbf0ab",
            "9f62da6cb8d745ea9741f4249983b0d2",
            "d5b0616fe88a4274adb9485131629ee5",
            "47292c48057644e08d89d7235865b34e",
            "d00b1a06e5a64b1da407152875cfb664",
            "db0a19b34c884e40a69fccff099dbd06",
            "ea074d83f8d24787b12f5acef62ff630",
            "e592acaaaaea41b9baa93d5a5dc26052",
            "811c83a02f3d42b5aba0c2930ef1e27c",
            "21757e37acba43ce9be2952b8e86d47d",
            "c86134202a4d45cda55eaceca0988f1e",
            "fc855a4076eb41e7a77a3e49b7c09528",
            "c30fd74122c1434e92d4b5feb81719e9",
            "4016db7011dd45a7a8da4cb79c8e39c6",
            "5eb66e84937e4d9088e6850a1f5f1ac6",
            "193ea74a414f4f7fb03547fed3fae03f",
            "6c2dda59982143b8a9fad317a5631f06",
            "909f3a2d0a92419c96e93d48d0c5be70",
            "36caa1ba4ced459487b8ecf695b75c5d",
            "a764a1650c3c45bfb274c6b401641166",
            "d4be3c7ecc714b608c357fa482109e6b",
            "1e573ea37edd4a3485b791c518e60ca3",
            "ce7557bf417f49349efa9dcd4174157b",
            "f16634be06c54036b79906a370b49937",
            "5a717cc8199f4452b37d0e485e4700c4",
            "7a5654a3f7af41fc930ee40e493ac574",
            "dd27d12aece34c6eb965fe65e8f557e4",
            "aa2c108ba92642b1bc06a71822985cd4",
            "f222ab8d98f441bc86029a6b910fcd4a",
            "dbca863d00a24a15bc4beafba95c3b7b",
            "da2f7486cb7841eba8d57b9dd992b27b",
            "3cc7f77886cb4d50aaaed9fba5a7f37c",
            "6106130c231b4c42874027c9b99410b5",
            "11badc6f24664c819c4f0350ad4b6b96",
            "5a74b3230b9648d7a736eeba2a622c16",
            "2b0192bf36db4cb2935a2e893d2eae46",
            "fc93d87de6f24bc0b483fe89c17a6597",
            "cdc6b4c6aa364cfb9acfedb4c5d51062",
            "f6b1c90a64534848900ae17ac7b15cad",
            "d91be905d4984962bc69dc606c68dc2b",
            "a8fa5d5287a24112ae0189cf530fd302",
            "22f2a3aa3f6442b0b4ed4e869b720504",
            "feb8e92349db4b6fb3b0ae2c7360044c",
            "02ac35a0103a4620b053fee7bf82728e",
            "703a3c82d8044fdf88057b327bb8471c",
            "4936548e21b44b0bb9628a0d3b56f022",
            "f724ba7d59c94ae89d72ec4f395672aa",
            "84902a737a9448008cab8b3246f629da",
            "ba0d5657fae34349b0dceb1aa0027170",
            "545392d137ce4dbeb3088234087ac4e7",
            "4641325558044cc78d3427813a88d1d6",
            "d4d3518759bb4ee4a34740b60b61f85a",
            "e5ded7f04dc2416598a023359d009f72",
            "6af0c47585d8422eb022e4137b660bcc",
            "a56998a659e247158c117dc772a20008",
            "72c2a9874e3f48f781f9047db4ae54cc",
            "b82cc271be334e528c9a8710ff9712c1",
            "c765de99429c4d06856eca1fa897b599",
            "5d30b8d95f18433883ed9975f07bfeb8",
            "4c0ea0716e8c42f5ba71c48a07bc5f4a",
            "cd7cf4a670444da4a6b6eb171c06f45e",
            "172f44986e894a28a0ccd38893d12d5f",
            "fd05796d5f5f498c88d0d0802b88d50f",
            "912c93a8f4d54effa29d4d8034b2bb75",
            "f1f9320c4fcb4112a58bc0b764c1aee8"
          ]
        },
        "outputId": "96bd46bd-dc70-4431-f46b-9d7f3c124e53"
      },
      "outputs": [
        {
          "output_type": "stream",
          "name": "stderr",
          "text": [
            "INFO:pytorch_lightning.utilities.rank_zero:GPU available: True (cuda), used: True\n",
            "INFO:pytorch_lightning.utilities.rank_zero:TPU available: False, using: 0 TPU cores\n",
            "INFO:pytorch_lightning.utilities.rank_zero:IPU available: False, using: 0 IPUs\n",
            "INFO:pytorch_lightning.utilities.rank_zero:HPU available: False, using: 0 HPUs\n",
            "WARNING:lightning_fabric.loggers.csv_logs:Missing logger folder: logs/cnn_batchnorm2\n",
            "INFO:pytorch_lightning.accelerators.cuda:LOCAL_RANK: 0 - CUDA_VISIBLE_DEVICES: [0]\n",
            "INFO:pytorch_lightning.callbacks.model_summary:\n",
            "  | Name   | Type       | Params\n",
            "--------------------------------------\n",
            "0 | layers | Sequential | 225 K \n",
            "--------------------------------------\n",
            "225 K     Trainable params\n",
            "0         Non-trainable params\n",
            "225 K     Total params\n",
            "0.901     Total estimated model params size (MB)\n"
          ]
        },
        {
          "output_type": "display_data",
          "data": {
            "text/plain": [
              "Sanity Checking: 0it [00:00, ?it/s]"
            ],
            "application/vnd.jupyter.widget-view+json": {
              "version_major": 2,
              "version_minor": 0,
              "model_id": "89eeed12aff7479eae7b9f5aa668f2ae"
            }
          },
          "metadata": {}
        },
        {
          "output_type": "display_data",
          "data": {
            "text/plain": [
              "Training: 0it [00:00, ?it/s]"
            ],
            "application/vnd.jupyter.widget-view+json": {
              "version_major": 2,
              "version_minor": 0,
              "model_id": "154026706d144335941858d08322617a"
            }
          },
          "metadata": {}
        },
        {
          "output_type": "display_data",
          "data": {
            "text/plain": [
              "Validation: 0it [00:00, ?it/s]"
            ],
            "application/vnd.jupyter.widget-view+json": {
              "version_major": 2,
              "version_minor": 0,
              "model_id": "c86134202a4d45cda55eaceca0988f1e"
            }
          },
          "metadata": {}
        },
        {
          "output_type": "display_data",
          "data": {
            "text/plain": [
              "Validation: 0it [00:00, ?it/s]"
            ],
            "application/vnd.jupyter.widget-view+json": {
              "version_major": 2,
              "version_minor": 0,
              "model_id": "1e573ea37edd4a3485b791c518e60ca3"
            }
          },
          "metadata": {}
        },
        {
          "output_type": "display_data",
          "data": {
            "text/plain": [
              "Validation: 0it [00:00, ?it/s]"
            ],
            "application/vnd.jupyter.widget-view+json": {
              "version_major": 2,
              "version_minor": 0,
              "model_id": "6106130c231b4c42874027c9b99410b5"
            }
          },
          "metadata": {}
        },
        {
          "output_type": "display_data",
          "data": {
            "text/plain": [
              "Validation: 0it [00:00, ?it/s]"
            ],
            "application/vnd.jupyter.widget-view+json": {
              "version_major": 2,
              "version_minor": 0,
              "model_id": "02ac35a0103a4620b053fee7bf82728e"
            }
          },
          "metadata": {}
        },
        {
          "output_type": "display_data",
          "data": {
            "text/plain": [
              "Validation: 0it [00:00, ?it/s]"
            ],
            "application/vnd.jupyter.widget-view+json": {
              "version_major": 2,
              "version_minor": 0,
              "model_id": "a56998a659e247158c117dc772a20008"
            }
          },
          "metadata": {}
        },
        {
          "output_type": "stream",
          "name": "stderr",
          "text": [
            "INFO:pytorch_lightning.utilities.rank_zero:`Trainer.fit` stopped: `max_epochs=5` reached.\n"
          ]
        },
        {
          "output_type": "stream",
          "name": "stdout",
          "text": [
            "CPU times: user 1min 1s, sys: 388 ms, total: 1min 2s\n",
            "Wall time: 1min 11s\n"
          ]
        }
      ],
      "source": [
        "%%time\n",
        "model_BN2 = CNN_BN2()\n",
        "epochs = 5\n",
        "name = \"cnn_batchnorm2\"\n",
        "logger = CSVLogger(\"logs\", name=name)\n",
        "trainer = Trainer(max_epochs=epochs, logger=logger, accelerator='auto')\n",
        "trainer.fit(model_BN2, trainDataLoader, val_dataloaders=valDataLoader)"
      ]
    },
    {
      "cell_type": "markdown",
      "source": [
        "CPU times: user 1min 7s, sys: 372 ms, total: 1min 7s\n",
        "Wall time: 1min 7s"
      ],
      "metadata": {
        "id": "WoUACDBpx6Wk"
      }
    },
    {
      "cell_type": "markdown",
      "metadata": {
        "id": "m4kAr8XNg2nc"
      },
      "source": [
        "## Filter Plotting"
      ]
    },
    {
      "cell_type": "code",
      "source": [
        "model_BN2"
      ],
      "metadata": {
        "id": "TJeKjMK_ypld",
        "colab": {
          "base_uri": "https://localhost:8080/"
        },
        "outputId": "dde85b76-9786-413d-840d-6d8230b5fb85"
      },
      "execution_count": null,
      "outputs": [
        {
          "output_type": "execute_result",
          "data": {
            "text/plain": [
              "CNN_BN2(\n",
              "  (layers): Sequential(\n",
              "    (0): Conv2d(1, 64, kernel_size=(3, 3), stride=(1, 1), padding=(1, 1))\n",
              "    (1): BatchNorm2d(64, eps=1e-05, momentum=0.1, affine=True, track_running_stats=True)\n",
              "    (2): ReLU()\n",
              "    (3): MaxPool2d(kernel_size=2, stride=2, padding=0, dilation=1, ceil_mode=False)\n",
              "    (4): Conv2d(64, 64, kernel_size=(3, 3), stride=(1, 1), padding=(1, 1))\n",
              "    (5): BatchNorm2d(64, eps=1e-05, momentum=0.1, affine=True, track_running_stats=True)\n",
              "    (6): ReLU()\n",
              "    (7): MaxPool2d(kernel_size=2, stride=2, padding=0, dilation=1, ceil_mode=False)\n",
              "    (8): Conv2d(64, 64, kernel_size=(3, 3), stride=(1, 1), padding=(1, 1))\n",
              "    (9): BatchNorm2d(64, eps=1e-05, momentum=0.1, affine=True, track_running_stats=True)\n",
              "    (10): ReLU()\n",
              "    (11): MaxPool2d(kernel_size=2, stride=2, padding=0, dilation=1, ceil_mode=False)\n",
              "    (12): Flatten(start_dim=1, end_dim=-1)\n",
              "    (13): Linear(in_features=576, out_features=256, bias=True)\n",
              "    (14): Linear(in_features=256, out_features=10, bias=True)\n",
              "  )\n",
              ")"
            ]
          },
          "metadata": {},
          "execution_count": 7
        }
      ]
    },
    {
      "cell_type": "code",
      "source": [
        "!pip3 install onnx\n",
        "torch.onnx.export(model_BN2, torch.zeros(8, 1, 28, 28), 'model_BN2.onnx')\n",
        "# torch.onnx.export(model_BN2, torch.zeros(8, 1, 28, 28).to(device), 'model_BN2.onnx')"
      ],
      "metadata": {
        "id": "GHMCplaCcr6i",
        "colab": {
          "base_uri": "https://localhost:8080/"
        },
        "outputId": "11087c6e-c178-4633-8cb6-a212912e16e0"
      },
      "execution_count": null,
      "outputs": [
        {
          "output_type": "stream",
          "name": "stdout",
          "text": [
            "Looking in indexes: https://pypi.org/simple, https://us-python.pkg.dev/colab-wheels/public/simple/\n",
            "Collecting onnx\n",
            "  Downloading onnx-1.14.0-cp310-cp310-manylinux_2_17_x86_64.manylinux2014_x86_64.whl (14.6 MB)\n",
            "\u001b[2K     \u001b[90m━━━━━━━━━━━━━━━━━━━━━━━━━━━━━━━━━━━━━━━━\u001b[0m \u001b[32m14.6/14.6 MB\u001b[0m \u001b[31m72.2 MB/s\u001b[0m eta \u001b[36m0:00:00\u001b[0m\n",
            "\u001b[?25hRequirement already satisfied: numpy in /usr/local/lib/python3.10/dist-packages (from onnx) (1.22.4)\n",
            "Requirement already satisfied: protobuf>=3.20.2 in /usr/local/lib/python3.10/dist-packages (from onnx) (3.20.3)\n",
            "Requirement already satisfied: typing-extensions>=3.6.2.1 in /usr/local/lib/python3.10/dist-packages (from onnx) (4.5.0)\n",
            "Installing collected packages: onnx\n",
            "Successfully installed onnx-1.14.0\n",
            "============= Diagnostic Run torch.onnx.export version 2.0.1+cu118 =============\n",
            "verbose: False, log level: Level.ERROR\n",
            "======================= 0 NONE 0 NOTE 0 WARNING 0 ERROR ========================\n",
            "\n"
          ]
        }
      ]
    },
    {
      "cell_type": "markdown",
      "source": [
        "![image.png](data:image/png;base64,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)"
      ],
      "metadata": {
        "id": "bCmk-Y3Cdb7T"
      }
    },
    {
      "cell_type": "code",
      "source": [
        "ps(model_BN2.layers[0].weight)\n",
        "model_BN2.layers[0].__class__"
      ],
      "metadata": {
        "id": "fuckm9YZJAIj",
        "colab": {
          "base_uri": "https://localhost:8080/"
        },
        "outputId": "af20491f-3fa2-4b9d-f452-57cb8e3ae123"
      },
      "execution_count": null,
      "outputs": [
        {
          "output_type": "stream",
          "name": "stdout",
          "text": [
            "[] Shapetorch.Size([64, 1, 3, 3])\n"
          ]
        },
        {
          "output_type": "execute_result",
          "data": {
            "text/plain": [
              "torch.nn.modules.conv.Conv2d"
            ]
          },
          "metadata": {},
          "execution_count": 12
        }
      ]
    },
    {
      "cell_type": "code",
      "execution_count": null,
      "metadata": {
        "id": "R32eGiDhZ1Sn",
        "colab": {
          "base_uri": "https://localhost:8080/"
        },
        "outputId": "889fe5eb-edff-49e9-96a6-84a64fc1917e"
      },
      "outputs": [
        {
          "output_type": "stream",
          "name": "stdout",
          "text": [
            "[0]th layer:<class 'torch.nn.modules.conv.Conv2d'>  torch.Size([64, 1, 3, 3])\n",
            "[4]th layer:<class 'torch.nn.modules.conv.Conv2d'>  torch.Size([64, 64, 3, 3])\n",
            "[8]th layer:<class 'torch.nn.modules.conv.Conv2d'>  torch.Size([64, 64, 3, 3])\n"
          ]
        }
      ],
      "source": [
        "# summarize filter shapes\n",
        "filter_list = []\n",
        "for i, layer in enumerate(model_BN2.layers):\n",
        "    # check for convolutional layer\n",
        "    if 'Conv' not in str(layer.__class__):\n",
        "        continue #'conv'가 포함되지 않으면 skip\n",
        "    # get filter weights\n",
        "    filters = layer.weight\n",
        "    filter_list.append(filters) #use_bias=False\n",
        "    print(f'[{i}]th layer:{layer.__class__}  {filters.shape}')"
      ]
    },
    {
      "cell_type": "code",
      "execution_count": null,
      "metadata": {
        "id": "iSbh4rNmR8sI"
      },
      "outputs": [],
      "source": [
        "# plot n x n images\n",
        "def square(imgs, n):\n",
        "    img_num = n\n",
        "    plt.figure(figsize=(6,6))\n",
        "    print(f'min[{np.min(imgs):2.2f}],max[{np.max(imgs):2.2f}]')\n",
        "    f_min, f_max = imgs.min(), imgs.max() #(3,3,64,64)\n",
        "    imgs = (imgs - f_min) / (f_max - f_min)\n",
        "    for i in range(n):\n",
        "        for j in range(n):\n",
        "            p_num = i*n + j\n",
        "            ax = plt.subplot(n, n, p_num+1)#(row,col,index)\n",
        "            ax.set_xticks([])\n",
        "            ax.set_yticks([])\n",
        "            # plot filter channel in grayscale\n",
        "            plt.imshow(imgs[p_num, :, :], cmap='gray')\n",
        "    plt.show()"
      ]
    },
    {
      "cell_type": "markdown",
      "metadata": {
        "id": "N07o-0H5TS2Y"
      },
      "source": [
        "* 첫번째 conv layer filter"
      ]
    },
    {
      "cell_type": "code",
      "source": [
        "filters[:,0,:,:].shape # 입력채널을 향한 64 node의 weight"
      ],
      "metadata": {
        "id": "nkNu0sowKG12",
        "colab": {
          "base_uri": "https://localhost:8080/"
        },
        "outputId": "60ebe8ac-0d23-424f-a70e-5dda5d0b48ec"
      },
      "execution_count": null,
      "outputs": [
        {
          "output_type": "execute_result",
          "data": {
            "text/plain": [
              "torch.Size([64, 3, 3])"
            ]
          },
          "metadata": {},
          "execution_count": 15
        }
      ]
    },
    {
      "cell_type": "code",
      "execution_count": null,
      "metadata": {
        "id": "8s-T0aFzcKn-",
        "colab": {
          "base_uri": "https://localhost:8080/",
          "height": 536
        },
        "outputId": "fdf434a4-e288-4dee-8c76-556d13225c1a"
      },
      "outputs": [
        {
          "output_type": "stream",
          "name": "stdout",
          "text": [
            "torch.Size([64, 3, 3])\n",
            "min[-0.37],max[0.35]\n"
          ]
        },
        {
          "output_type": "display_data",
          "data": {
            "text/plain": [
              "<Figure size 600x600 with 64 Axes>"
            ],
            "image/png": "[encoded data removed]"
          },
          "metadata": {}
        }
      ],
      "source": [
        "filters = filter_list[0]\n",
        "# in_0, out_all\n",
        "print(filters[:,0,:,:].shape)   #(out_ch,in_cn,3,3)\n",
        "square(filters[:,0,:,:].cpu().detach().numpy(), 8)"
      ]
    },
    {
      "cell_type": "markdown",
      "metadata": {
        "id": "1mjafg-wTS2Y"
      },
      "source": [
        "* 두번째 conv layer filter"
      ]
    },
    {
      "cell_type": "code",
      "execution_count": null,
      "metadata": {
        "id": "OlIwH-BbTS2Y",
        "colab": {
          "base_uri": "https://localhost:8080/",
          "height": 536
        },
        "outputId": "761b56df-4d45-4322-e28a-214cf08730ec"
      },
      "outputs": [
        {
          "output_type": "stream",
          "name": "stdout",
          "text": [
            "[] Shape(64, 3, 3)\n",
            "min[-0.06],max[0.06]\n"
          ]
        },
        {
          "output_type": "display_data",
          "data": {
            "text/plain": [
              "<Figure size 600x600 with 64 Axes>"
            ],
            "image/png": "[encoded data removed]"
          },
          "metadata": {}
        }
      ],
      "source": [
        "filters = filter_list[1] #(out_ch,in_cn,3,3)\n",
        "# in_0,out_all\n",
        "ps(filters[0,:,:,:].cpu().detach().numpy())\n",
        "square(filters[0,:,:,:].cpu().detach().numpy(), 8)"
      ]
    },
    {
      "cell_type": "markdown",
      "metadata": {
        "id": "v6F_XyuKTS2Y"
      },
      "source": [
        "* 세번째 conv layer filter"
      ]
    },
    {
      "cell_type": "code",
      "execution_count": null,
      "metadata": {
        "id": "p7k-KfbvTS2Y",
        "colab": {
          "base_uri": "https://localhost:8080/",
          "height": 536
        },
        "outputId": "84a30aa3-eaca-4b26-88bf-130190e59c2d"
      },
      "outputs": [
        {
          "output_type": "stream",
          "name": "stdout",
          "text": [
            "torch.Size([64, 3, 3])\n",
            "min[-0.06],max[0.07]\n"
          ]
        },
        {
          "output_type": "display_data",
          "data": {
            "text/plain": [
              "<Figure size 600x600 with 64 Axes>"
            ],
            "image/png": "[encoded data removed]"
          },
          "metadata": {}
        }
      ],
      "source": [
        "filters = filter_list[2]\n",
        "# in_0, out_all\n",
        "print(filters[0,:,:,:].shape) #(out_ch,in_cn,3,3)\n",
        "square(filters[0,:,:,:].cpu().detach().numpy(), 8)"
      ]
    },
    {
      "cell_type": "markdown",
      "metadata": {
        "id": "6PBtqbJGspdw"
      },
      "source": [
        "### Feature map extract model define"
      ]
    },
    {
      "cell_type": "code",
      "source": [
        "#model_BN_FM\n",
        "model_BN2"
      ],
      "metadata": {
        "id": "UhONOC-ThvAr",
        "colab": {
          "base_uri": "https://localhost:8080/"
        },
        "outputId": "6559222a-481c-48df-e2ec-8dfd19dfe44f"
      },
      "execution_count": null,
      "outputs": [
        {
          "output_type": "execute_result",
          "data": {
            "text/plain": [
              "CNN_BN2(\n",
              "  (layers): Sequential(\n",
              "    (0): Conv2d(1, 64, kernel_size=(3, 3), stride=(1, 1), padding=(1, 1))\n",
              "    (1): BatchNorm2d(64, eps=1e-05, momentum=0.1, affine=True, track_running_stats=True)\n",
              "    (2): ReLU()\n",
              "    (3): MaxPool2d(kernel_size=2, stride=2, padding=0, dilation=1, ceil_mode=False)\n",
              "    (4): Conv2d(64, 64, kernel_size=(3, 3), stride=(1, 1), padding=(1, 1))\n",
              "    (5): BatchNorm2d(64, eps=1e-05, momentum=0.1, affine=True, track_running_stats=True)\n",
              "    (6): ReLU()\n",
              "    (7): MaxPool2d(kernel_size=2, stride=2, padding=0, dilation=1, ceil_mode=False)\n",
              "    (8): Conv2d(64, 64, kernel_size=(3, 3), stride=(1, 1), padding=(1, 1))\n",
              "    (9): BatchNorm2d(64, eps=1e-05, momentum=0.1, affine=True, track_running_stats=True)\n",
              "    (10): ReLU()\n",
              "    (11): MaxPool2d(kernel_size=2, stride=2, padding=0, dilation=1, ceil_mode=False)\n",
              "    (12): Flatten(start_dim=1, end_dim=-1)\n",
              "    (13): Linear(in_features=576, out_features=256, bias=True)\n",
              "    (14): Linear(in_features=256, out_features=10, bias=True)\n",
              "  )\n",
              ")"
            ]
          },
          "metadata": {},
          "execution_count": 28
        }
      ]
    },
    {
      "cell_type": "code",
      "source": [
        "# conv layer 위치 확인\n",
        "for i, layer in enumerate(model_BN2.layers):\n",
        "    # check for convolutional layer\n",
        "    if 'Conv' not in str(layer.__class__):\n",
        "        continue #'conv'가 포함되지 않으면 skip\n",
        "    # get filter weights\n",
        "    filters = layer.weight\n",
        "    print(f'[{i}]th layer:{layer.__class__}  {filters.shape}')"
      ],
      "metadata": {
        "id": "XHsjDYKYiBfX",
        "colab": {
          "base_uri": "https://localhost:8080/"
        },
        "outputId": "b36244be-df36-4e2d-e8ce-6b4b214ab431"
      },
      "execution_count": null,
      "outputs": [
        {
          "output_type": "stream",
          "name": "stdout",
          "text": [
            "[0]th layer:<class 'torch.nn.modules.conv.Conv2d'>  torch.Size([64, 1, 3, 3])\n",
            "[4]th layer:<class 'torch.nn.modules.conv.Conv2d'>  torch.Size([64, 64, 3, 3])\n",
            "[8]th layer:<class 'torch.nn.modules.conv.Conv2d'>  torch.Size([64, 64, 3, 3])\n"
          ]
        }
      ]
    },
    {
      "cell_type": "code",
      "execution_count": null,
      "metadata": {
        "id": "Zmr7qZJ0k-Zy",
        "colab": {
          "base_uri": "https://localhost:8080/"
        },
        "outputId": "c0763995-0607-4037-a70a-708389428cb7"
      },
      "outputs": [
        {
          "output_type": "execute_result",
          "data": {
            "text/plain": [
              "==========================================================================================\n",
              "Layer (type:depth-idx)                   Output Shape              Param #\n",
              "==========================================================================================\n",
              "CNN_BN_FM                                [8, 64, 28, 28]           --\n",
              "├─Sequential: 1-1                        --                        150,410\n",
              "│    └─Conv2d: 2-1                       [8, 64, 28, 28]           640\n",
              "│    └─Conv2d: 2-2                       [8, 64, 28, 28]           (recursive)\n",
              "│    └─BatchNorm2d: 2-3                  [8, 64, 28, 28]           128\n",
              "│    └─ReLU: 2-4                         [8, 64, 28, 28]           --\n",
              "│    └─MaxPool2d: 2-5                    [8, 64, 14, 14]           --\n",
              "│    └─Conv2d: 2-6                       [8, 64, 14, 14]           36,928\n",
              "│    └─Conv2d: 2-7                       [8, 64, 28, 28]           (recursive)\n",
              "│    └─BatchNorm2d: 2-8                  [8, 64, 28, 28]           (recursive)\n",
              "│    └─ReLU: 2-9                         [8, 64, 28, 28]           --\n",
              "│    └─MaxPool2d: 2-10                   [8, 64, 14, 14]           --\n",
              "│    └─Conv2d: 2-11                      [8, 64, 14, 14]           (recursive)\n",
              "│    └─BatchNorm2d: 2-12                 [8, 64, 14, 14]           128\n",
              "│    └─ReLU: 2-13                        [8, 64, 14, 14]           --\n",
              "│    └─MaxPool2d: 2-14                   [8, 64, 7, 7]             --\n",
              "│    └─Conv2d: 2-15                      [8, 64, 7, 7]             36,928\n",
              "==========================================================================================\n",
              "Total params: 225,162\n",
              "Trainable params: 225,162\n",
              "Non-trainable params: 0\n",
              "Total mult-adds (M): 142.33\n",
              "==========================================================================================\n",
              "Input size (MB): 0.03\n",
              "Forward/backward pass size (MB): 18.67\n",
              "Params size (MB): 0.30\n",
              "Estimated Total Size (MB): 18.99\n",
              "=========================================================================================="
            ]
          },
          "metadata": {},
          "execution_count": 30
        }
      ],
      "source": [
        "class CNN_BN_FM(CNN_BN2):\n",
        "    def __init__(self):\n",
        "        super(CNN_BN_FM, self).__init__()\n",
        "\n",
        "    def forward(self, x):\n",
        "        out1 = self.layers[0](x)\n",
        "        out2 = self.layers[:5](x)\n",
        "        out3 = self.layers[:9](x)\n",
        "        return out1, out2, out3\n",
        "\n",
        "model_BN_FM = CNN_BN_FM()\n",
        "summary(model_BN_FM, input_size=(8, 1, 28, 28))"
      ]
    },
    {
      "cell_type": "code",
      "source": [
        "#torch.onnx.export(model_BN_FM, torch.zeros(8, 1, 28, 28).to(device), 'model_BN_FM.onnx')"
      ],
      "metadata": {
        "id": "ieIoG-_wLqNx"
      },
      "execution_count": null,
      "outputs": []
    },
    {
      "cell_type": "markdown",
      "source": [
        "![image.png](data:image/png;base64,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)"
      ],
      "metadata": {
        "id": "GTe6pNqqcbm9"
      }
    },
    {
      "cell_type": "markdown",
      "metadata": {
        "id": "9G7BpfQLfk36"
      },
      "source": [
        "- Image ploting function"
      ]
    },
    {
      "cell_type": "markdown",
      "metadata": {
        "id": "AMYFs9Kwfy_Z"
      },
      "source": [
        "- Get feature maps : fm_model.predict( )"
      ]
    },
    {
      "cell_type": "code",
      "source": [
        "test_dataset[0][0].shape # (image,index/label)"
      ],
      "metadata": {
        "id": "rwBYexfRmIFF",
        "colab": {
          "base_uri": "https://localhost:8080/"
        },
        "outputId": "d294f893-2f28-49ea-9c43-9e06ac8b852f"
      },
      "execution_count": null,
      "outputs": [
        {
          "output_type": "execute_result",
          "data": {
            "text/plain": [
              "torch.Size([1, 28, 28])"
            ]
          },
          "metadata": {},
          "execution_count": 33
        }
      ]
    },
    {
      "cell_type": "code",
      "source": [
        "plt.imshow(test_dataset[0][0][0])"
      ],
      "metadata": {
        "id": "CFevegPYlwA5",
        "colab": {
          "base_uri": "https://localhost:8080/",
          "height": 347
        },
        "outputId": "b312335e-5a57-48e5-cb78-66c840e7a418"
      },
      "execution_count": null,
      "outputs": [
        {
          "output_type": "execute_result",
          "data": {
            "text/plain": [
              "<matplotlib.image.AxesImage at 0x7febd0496e90>"
            ]
          },
          "metadata": {},
          "execution_count": 34
        },
        {
          "output_type": "display_data",
          "data": {
            "text/plain": [
              "<Figure size 500x350 with 1 Axes>"
            ],
            "image/png": "[encoded data removed]"
          },
          "metadata": {}
        }
      ]
    },
    {
      "cell_type": "code",
      "execution_count": null,
      "metadata": {
        "id": "obOHDAQxN6Fs"
      },
      "outputs": [],
      "source": [
        "# Returns 3 items tuple(tensor, grad_fn)\n",
        "n=0 # 첫번째 이미지를 넣고 추론하면서, feature를 반환 받음\n",
        "#[(1,28,28,64),(1,14,14,64),(1,7,7,64)]\n",
        "feature_maps = model_BN_FM(\n",
        "    test_dataset[0][0].unsqueeze(dim=0).to(device)) #(1,1,28,28)<-(1,28,28)"
      ]
    },
    {
      "cell_type": "code",
      "source": [
        "pst(feature_maps[0]) # torch.Tensor:(tensor,grad_fn)\n",
        "pst(feature_maps[1])\n",
        "pst(feature_maps[2])"
      ],
      "metadata": {
        "id": "lnrO_iEln3jv",
        "colab": {
          "base_uri": "https://localhost:8080/"
        },
        "outputId": "50f3ab26-db0f-4c34-bb59-a102b0b879c8"
      },
      "execution_count": null,
      "outputs": [
        {
          "output_type": "stream",
          "name": "stdout",
          "text": [
            "[] Shapetorch.Size([1, 64, 28, 28]), <class 'torch.Tensor'>\n",
            "[] Shapetorch.Size([1, 64, 14, 14]), <class 'torch.Tensor'>\n",
            "[] Shapetorch.Size([1, 64, 7, 7]), <class 'torch.Tensor'>\n"
          ]
        }
      ]
    },
    {
      "cell_type": "markdown",
      "metadata": {
        "id": "1CiED2LegVtB"
      },
      "source": [
        "#### Plot the feature maps"
      ]
    },
    {
      "cell_type": "code",
      "execution_count": null,
      "metadata": {
        "id": "82yBeAulX5eN",
        "tags": [],
        "colab": {
          "base_uri": "https://localhost:8080/",
          "height": 1000
        },
        "outputId": "ed978fa9-61d6-4ed3-8230-594f244b01dd"
      },
      "outputs": [
        {
          "output_type": "stream",
          "name": "stdout",
          "text": [
            "min[-1.46],max[1.27]\n"
          ]
        },
        {
          "output_type": "display_data",
          "data": {
            "text/plain": [
              "<Figure size 600x600 with 64 Axes>"
            ],
            "image/png": "[encoded data removed]"
          },
          "metadata": {}
        },
        {
          "output_type": "stream",
          "name": "stdout",
          "text": [
            "min[-3.28],max[3.26]\n"
          ]
        },
        {
          "output_type": "display_data",
          "data": {
            "text/plain": [
              "<Figure size 600x600 with 64 Axes>"
            ],
            "image/png": "[encoded data removed]"
          },
          "metadata": {}
        },
        {
          "output_type": "stream",
          "name": "stdout",
          "text": [
            "min[-2.95],max[2.56]\n"
          ]
        },
        {
          "output_type": "display_data",
          "data": {
            "text/plain": [
              "<Figure size 600x600 with 64 Axes>"
            ],
            "image/png": "[encoded data removed]"
          },
          "metadata": {}
        }
      ],
      "source": [
        "# 3개의 레이어가 출력한 각64개의 feature map\n",
        "for i, fmap in enumerate(feature_maps):\n",
        "    square(fmap.cpu().detach().numpy()[0], 8)"
      ]
    },
    {
      "cell_type": "markdown",
      "metadata": {
        "id": "nM7dqXeRKJQA"
      },
      "source": [
        "## **실습 과제**"
      ]
    },
    {
      "cell_type": "markdown",
      "metadata": {
        "id": "Il2qZ9-_KJQC"
      },
      "source": [
        "#### 과제 feature map을 관찰해 보자\n",
        "##### -- MaxPooling layer 통과 전후의 feature map을 비교해보자\n",
        "##### -- BatchNormalization layer 통과 전후의 feature map을 비교해 보자"
      ]
    }
  ],
  "metadata": {
    "accelerator": "GPU",
    "colab": {
      "provenance": [],
      "machine_shape": "hm",
      "gpuType": "T4",
      "toc_visible": true,
      "include_colab_link": true
    },
    "kernelspec": {
      "display_name": "Python 3",
      "name": "python3"
    },
    "language_info": {
      "name": "python"
    },
    "widgets": {
      "application/vnd.jupyter.widget-state+json": {
        "89eeed12aff7479eae7b9f5aa668f2ae": {
          "model_module": "@jupyter-widgets/controls",
          "model_name": "HBoxModel",
          "model_module_version": "1.5.0",
          "state": {
            "_dom_classes": [],
            "_model_module": "@jupyter-widgets/controls",
            "_model_module_version": "1.5.0",
            "_model_name": "HBoxModel",
            "_view_count": null,
            "_view_module": "@jupyter-widgets/controls",
            "_view_module_version": "1.5.0",
            "_view_name": "HBoxView",
            "box_style": "",
            "children": [
              "IPY_MODEL_4596e848a0da48cc953cb7c328e6700e",
              "IPY_MODEL_0bd07e14091545d4afa73a032eb7aca5",
              "IPY_MODEL_adf7c5e758e34e25a9ec02f06717b730"
            ],
            "layout": "IPY_MODEL_fb0a5e578b6e4f56b65409fad5a41971"
          }
        },
        "4596e848a0da48cc953cb7c328e6700e": {
          "model_module": "@jupyter-widgets/controls",
          "model_name": "HTMLModel",
          "model_module_version": "1.5.0",
          "state": {
            "_dom_classes": [],
            "_model_module": "@jupyter-widgets/controls",
            "_model_module_version": "1.5.0",
            "_model_name": "HTMLModel",
            "_view_count": null,
            "_view_module": "@jupyter-widgets/controls",
            "_view_module_version": "1.5.0",
            "_view_name": "HTMLView",
            "description": "",
            "description_tooltip": null,
            "layout": "IPY_MODEL_bf9047e57e2849dab6793fbefad8cb01",
            "placeholder": "​",
            "style": "IPY_MODEL_45e650f3e1af4625b70f130cbfb20ba4",
            "value": "Sanity Checking DataLoader 0: 100%"
          }
        },
        "0bd07e14091545d4afa73a032eb7aca5": {
          "model_module": "@jupyter-widgets/controls",
          "model_name": "FloatProgressModel",
          "model_module_version": "1.5.0",
          "state": {
            "_dom_classes": [],
            "_model_module": "@jupyter-widgets/controls",
            "_model_module_version": "1.5.0",
            "_model_name": "FloatProgressModel",
            "_view_count": null,
            "_view_module": "@jupyter-widgets/controls",
            "_view_module_version": "1.5.0",
            "_view_name": "ProgressView",
            "bar_style": "",
            "description": "",
            "description_tooltip": null,
            "layout": "IPY_MODEL_55e53973e08b4a559e244490855d5fac",
            "max": 2,
            "min": 0,
            "orientation": "horizontal",
            "style": "IPY_MODEL_8d58bc461b3b451a84238ebede34f820",
            "value": 2
          }
        },
        "adf7c5e758e34e25a9ec02f06717b730": {
          "model_module": "@jupyter-widgets/controls",
          "model_name": "HTMLModel",
          "model_module_version": "1.5.0",
          "state": {
            "_dom_classes": [],
            "_model_module": "@jupyter-widgets/controls",
            "_model_module_version": "1.5.0",
            "_model_name": "HTMLModel",
            "_view_count": null,
            "_view_module": "@jupyter-widgets/controls",
            "_view_module_version": "1.5.0",
            "_view_name": "HTMLView",
            "description": "",
            "description_tooltip": null,
            "layout": "IPY_MODEL_359f667c3a334f62bc1849e168e19b27",
            "placeholder": "​",
            "style": "IPY_MODEL_d32967a97c7f46a5ada39a5f10e2cf78",
            "value": " 2/2 [00:00&lt;00:00,  4.56it/s]"
          }
        },
        "fb0a5e578b6e4f56b65409fad5a41971": {
          "model_module": "@jupyter-widgets/base",
          "model_name": "LayoutModel",
          "model_module_version": "1.2.0",
          "state": {
            "_model_module": "@jupyter-widgets/base",
            "_model_module_version": "1.2.0",
            "_model_name": "LayoutModel",
            "_view_count": null,
            "_view_module": "@jupyter-widgets/base",
            "_view_module_version": "1.2.0",
            "_view_name": "LayoutView",
            "align_content": null,
            "align_items": null,
            "align_self": null,
            "border": null,
            "bottom": null,
            "display": "inline-flex",
            "flex": null,
            "flex_flow": "row wrap",
            "grid_area": null,
            "grid_auto_columns": null,
            "grid_auto_flow": null,
            "grid_auto_rows": null,
            "grid_column": null,
            "grid_gap": null,
            "grid_row": null,
            "grid_template_areas": null,
            "grid_template_columns": null,
            "grid_template_rows": null,
            "height": null,
            "justify_content": null,
            "justify_items": null,
            "left": null,
            "margin": null,
            "max_height": null,
            "max_width": null,
            "min_height": null,
            "min_width": null,
            "object_fit": null,
            "object_position": null,
            "order": null,
            "overflow": null,
            "overflow_x": null,
            "overflow_y": null,
            "padding": null,
            "right": null,
            "top": null,
            "visibility": "hidden",
            "width": "100%"
          }
        },
        "bf9047e57e2849dab6793fbefad8cb01": {
          "model_module": "@jupyter-widgets/base",
          "model_name": "LayoutModel",
          "model_module_version": "1.2.0",
          "state": {
            "_model_module": "@jupyter-widgets/base",
            "_model_module_version": "1.2.0",
            "_model_name": "LayoutModel",
            "_view_count": null,
            "_view_module": "@jupyter-widgets/base",
            "_view_module_version": "1.2.0",
            "_view_name": "LayoutView",
            "align_content": null,
            "align_items": null,
            "align_self": null,
            "border": null,
            "bottom": null,
            "display": null,
            "flex": null,
            "flex_flow": null,
            "grid_area": null,
            "grid_auto_columns": null,
            "grid_auto_flow": null,
            "grid_auto_rows": null,
            "grid_column": null,
            "grid_gap": null,
            "grid_row": null,
            "grid_template_areas": null,
            "grid_template_columns": null,
            "grid_template_rows": null,
            "height": null,
            "justify_content": null,
            "justify_items": null,
            "left": null,
            "margin": null,
            "max_height": null,
            "max_width": null,
            "min_height": null,
            "min_width": null,
            "object_fit": null,
            "object_position": null,
            "order": null,
            "overflow": null,
            "overflow_x": null,
            "overflow_y": null,
            "padding": null,
            "right": null,
            "top": null,
            "visibility": null,
            "width": null
          }
        },
        "45e650f3e1af4625b70f130cbfb20ba4": {
          "model_module": "@jupyter-widgets/controls",
          "model_name": "DescriptionStyleModel",
          "model_module_version": "1.5.0",
          "state": {
            "_model_module": "@jupyter-widgets/controls",
            "_model_module_version": "1.5.0",
            "_model_name": "DescriptionStyleModel",
            "_view_count": null,
            "_view_module": "@jupyter-widgets/base",
            "_view_module_version": "1.2.0",
            "_view_name": "StyleView",
            "description_width": ""
          }
        },
        "55e53973e08b4a559e244490855d5fac": {
          "model_module": "@jupyter-widgets/base",
          "model_name": "LayoutModel",
          "model_module_version": "1.2.0",
          "state": {
            "_model_module": "@jupyter-widgets/base",
            "_model_module_version": "1.2.0",
            "_model_name": "LayoutModel",
            "_view_count": null,
            "_view_module": "@jupyter-widgets/base",
            "_view_module_version": "1.2.0",
            "_view_name": "LayoutView",
            "align_content": null,
            "align_items": null,
            "align_self": null,
            "border": null,
            "bottom": null,
            "display": null,
            "flex": "2",
            "flex_flow": null,
            "grid_area": null,
            "grid_auto_columns": null,
            "grid_auto_flow": null,
            "grid_auto_rows": null,
            "grid_column": null,
            "grid_gap": null,
            "grid_row": null,
            "grid_template_areas": null,
            "grid_template_columns": null,
            "grid_template_rows": null,
            "height": null,
            "justify_content": null,
            "justify_items": null,
            "left": null,
            "margin": null,
            "max_height": null,
            "max_width": null,
            "min_height": null,
            "min_width": null,
            "object_fit": null,
            "object_position": null,
            "order": null,
            "overflow": null,
            "overflow_x": null,
            "overflow_y": null,
            "padding": null,
            "right": null,
            "top": null,
            "visibility": null,
            "width": null
          }
        },
        "8d58bc461b3b451a84238ebede34f820": {
          "model_module": "@jupyter-widgets/controls",
          "model_name": "ProgressStyleModel",
          "model_module_version": "1.5.0",
          "state": {
            "_model_module": "@jupyter-widgets/controls",
            "_model_module_version": "1.5.0",
            "_model_name": "ProgressStyleModel",
            "_view_count": null,
            "_view_module": "@jupyter-widgets/base",
            "_view_module_version": "1.2.0",
            "_view_name": "StyleView",
            "bar_color": null,
            "description_width": ""
          }
        },
        "359f667c3a334f62bc1849e168e19b27": {
          "model_module": "@jupyter-widgets/base",
          "model_name": "LayoutModel",
          "model_module_version": "1.2.0",
          "state": {
            "_model_module": "@jupyter-widgets/base",
            "_model_module_version": "1.2.0",
            "_model_name": "LayoutModel",
            "_view_count": null,
            "_view_module": "@jupyter-widgets/base",
            "_view_module_version": "1.2.0",
            "_view_name": "LayoutView",
            "align_content": null,
            "align_items": null,
            "align_self": null,
            "border": null,
            "bottom": null,
            "display": null,
            "flex": null,
            "flex_flow": null,
            "grid_area": null,
            "grid_auto_columns": null,
            "grid_auto_flow": null,
            "grid_auto_rows": null,
            "grid_column": null,
            "grid_gap": null,
            "grid_row": null,
            "grid_template_areas": null,
            "grid_template_columns": null,
            "grid_template_rows": null,
            "height": null,
            "justify_content": null,
            "justify_items": null,
            "left": null,
            "margin": null,
            "max_height": null,
            "max_width": null,
            "min_height": null,
            "min_width": null,
            "object_fit": null,
            "object_position": null,
            "order": null,
            "overflow": null,
            "overflow_x": null,
            "overflow_y": null,
            "padding": null,
            "right": null,
            "top": null,
            "visibility": null,
            "width": null
          }
        },
        "d32967a97c7f46a5ada39a5f10e2cf78": {
          "model_module": "@jupyter-widgets/controls",
          "model_name": "DescriptionStyleModel",
          "model_module_version": "1.5.0",
          "state": {
            "_model_module": "@jupyter-widgets/controls",
            "_model_module_version": "1.5.0",
            "_model_name": "DescriptionStyleModel",
            "_view_count": null,
            "_view_module": "@jupyter-widgets/base",
            "_view_module_version": "1.2.0",
            "_view_name": "StyleView",
            "description_width": ""
          }
        },
        "154026706d144335941858d08322617a": {
          "model_module": "@jupyter-widgets/controls",
          "model_name": "HBoxModel",
          "model_module_version": "1.5.0",
          "state": {
            "_dom_classes": [],
            "_model_module": "@jupyter-widgets/controls",
            "_model_module_version": "1.5.0",
            "_model_name": "HBoxModel",
            "_view_count": null,
            "_view_module": "@jupyter-widgets/controls",
            "_view_module_version": "1.5.0",
            "_view_name": "HBoxView",
            "box_style": "",
            "children": [
              "IPY_MODEL_e3f21f6eb83f4c3fa3a994ebc2cbf0ab",
              "IPY_MODEL_9f62da6cb8d745ea9741f4249983b0d2",
              "IPY_MODEL_d5b0616fe88a4274adb9485131629ee5"
            ],
            "layout": "IPY_MODEL_47292c48057644e08d89d7235865b34e"
          }
        },
        "e3f21f6eb83f4c3fa3a994ebc2cbf0ab": {
          "model_module": "@jupyter-widgets/controls",
          "model_name": "HTMLModel",
          "model_module_version": "1.5.0",
          "state": {
            "_dom_classes": [],
            "_model_module": "@jupyter-widgets/controls",
            "_model_module_version": "1.5.0",
            "_model_name": "HTMLModel",
            "_view_count": null,
            "_view_module": "@jupyter-widgets/controls",
            "_view_module_version": "1.5.0",
            "_view_name": "HTMLView",
            "description": "",
            "description_tooltip": null,
            "layout": "IPY_MODEL_d00b1a06e5a64b1da407152875cfb664",
            "placeholder": "​",
            "style": "IPY_MODEL_db0a19b34c884e40a69fccff099dbd06",
            "value": "Epoch 4: 100%"
          }
        },
        "9f62da6cb8d745ea9741f4249983b0d2": {
          "model_module": "@jupyter-widgets/controls",
          "model_name": "FloatProgressModel",
          "model_module_version": "1.5.0",
          "state": {
            "_dom_classes": [],
            "_model_module": "@jupyter-widgets/controls",
            "_model_module_version": "1.5.0",
            "_model_name": "FloatProgressModel",
            "_view_count": null,
            "_view_module": "@jupyter-widgets/controls",
            "_view_module_version": "1.5.0",
            "_view_name": "ProgressView",
            "bar_style": "success",
            "description": "",
            "description_tooltip": null,
            "layout": "IPY_MODEL_ea074d83f8d24787b12f5acef62ff630",
            "max": 59,
            "min": 0,
            "orientation": "horizontal",
            "style": "IPY_MODEL_e592acaaaaea41b9baa93d5a5dc26052",
            "value": 59
          }
        },
        "d5b0616fe88a4274adb9485131629ee5": {
          "model_module": "@jupyter-widgets/controls",
          "model_name": "HTMLModel",
          "model_module_version": "1.5.0",
          "state": {
            "_dom_classes": [],
            "_model_module": "@jupyter-widgets/controls",
            "_model_module_version": "1.5.0",
            "_model_name": "HTMLModel",
            "_view_count": null,
            "_view_module": "@jupyter-widgets/controls",
            "_view_module_version": "1.5.0",
            "_view_name": "HTMLView",
            "description": "",
            "description_tooltip": null,
            "layout": "IPY_MODEL_811c83a02f3d42b5aba0c2930ef1e27c",
            "placeholder": "​",
            "style": "IPY_MODEL_21757e37acba43ce9be2952b8e86d47d",
            "value": " 59/59 [00:11&lt;00:00,  5.36it/s, v_num=0]"
          }
        },
        "47292c48057644e08d89d7235865b34e": {
          "model_module": "@jupyter-widgets/base",
          "model_name": "LayoutModel",
          "model_module_version": "1.2.0",
          "state": {
            "_model_module": "@jupyter-widgets/base",
            "_model_module_version": "1.2.0",
            "_model_name": "LayoutModel",
            "_view_count": null,
            "_view_module": "@jupyter-widgets/base",
            "_view_module_version": "1.2.0",
            "_view_name": "LayoutView",
            "align_content": null,
            "align_items": null,
            "align_self": null,
            "border": null,
            "bottom": null,
            "display": "inline-flex",
            "flex": null,
            "flex_flow": "row wrap",
            "grid_area": null,
            "grid_auto_columns": null,
            "grid_auto_flow": null,
            "grid_auto_rows": null,
            "grid_column": null,
            "grid_gap": null,
            "grid_row": null,
            "grid_template_areas": null,
            "grid_template_columns": null,
            "grid_template_rows": null,
            "height": null,
            "justify_content": null,
            "justify_items": null,
            "left": null,
            "margin": null,
            "max_height": null,
            "max_width": null,
            "min_height": null,
            "min_width": null,
            "object_fit": null,
            "object_position": null,
            "order": null,
            "overflow": null,
            "overflow_x": null,
            "overflow_y": null,
            "padding": null,
            "right": null,
            "top": null,
            "visibility": null,
            "width": "100%"
          }
        },
        "d00b1a06e5a64b1da407152875cfb664": {
          "model_module": "@jupyter-widgets/base",
          "model_name": "LayoutModel",
          "model_module_version": "1.2.0",
          "state": {
            "_model_module": "@jupyter-widgets/base",
            "_model_module_version": "1.2.0",
            "_model_name": "LayoutModel",
            "_view_count": null,
            "_view_module": "@jupyter-widgets/base",
            "_view_module_version": "1.2.0",
            "_view_name": "LayoutView",
            "align_content": null,
            "align_items": null,
            "align_self": null,
            "border": null,
            "bottom": null,
            "display": null,
            "flex": null,
            "flex_flow": null,
            "grid_area": null,
            "grid_auto_columns": null,
            "grid_auto_flow": null,
            "grid_auto_rows": null,
            "grid_column": null,
            "grid_gap": null,
            "grid_row": null,
            "grid_template_areas": null,
            "grid_template_columns": null,
            "grid_template_rows": null,
            "height": null,
            "justify_content": null,
            "justify_items": null,
            "left": null,
            "margin": null,
            "max_height": null,
            "max_width": null,
            "min_height": null,
            "min_width": null,
            "object_fit": null,
            "object_position": null,
            "order": null,
            "overflow": null,
            "overflow_x": null,
            "overflow_y": null,
            "padding": null,
            "right": null,
            "top": null,
            "visibility": null,
            "width": null
          }
        },
        "db0a19b34c884e40a69fccff099dbd06": {
          "model_module": "@jupyter-widgets/controls",
          "model_name": "DescriptionStyleModel",
          "model_module_version": "1.5.0",
          "state": {
            "_model_module": "@jupyter-widgets/controls",
            "_model_module_version": "1.5.0",
            "_model_name": "DescriptionStyleModel",
            "_view_count": null,
            "_view_module": "@jupyter-widgets/base",
            "_view_module_version": "1.2.0",
            "_view_name": "StyleView",
            "description_width": ""
          }
        },
        "ea074d83f8d24787b12f5acef62ff630": {
          "model_module": "@jupyter-widgets/base",
          "model_name": "LayoutModel",
          "model_module_version": "1.2.0",
          "state": {
            "_model_module": "@jupyter-widgets/base",
            "_model_module_version": "1.2.0",
            "_model_name": "LayoutModel",
            "_view_count": null,
            "_view_module": "@jupyter-widgets/base",
            "_view_module_version": "1.2.0",
            "_view_name": "LayoutView",
            "align_content": null,
            "align_items": null,
            "align_self": null,
            "border": null,
            "bottom": null,
            "display": null,
            "flex": "2",
            "flex_flow": null,
            "grid_area": null,
            "grid_auto_columns": null,
            "grid_auto_flow": null,
            "grid_auto_rows": null,
            "grid_column": null,
            "grid_gap": null,
            "grid_row": null,
            "grid_template_areas": null,
            "grid_template_columns": null,
            "grid_template_rows": null,
            "height": null,
            "justify_content": null,
            "justify_items": null,
            "left": null,
            "margin": null,
            "max_height": null,
            "max_width": null,
            "min_height": null,
            "min_width": null,
            "object_fit": null,
            "object_position": null,
            "order": null,
            "overflow": null,
            "overflow_x": null,
            "overflow_y": null,
            "padding": null,
            "right": null,
            "top": null,
            "visibility": null,
            "width": null
          }
        },
        "e592acaaaaea41b9baa93d5a5dc26052": {
          "model_module": "@jupyter-widgets/controls",
          "model_name": "ProgressStyleModel",
          "model_module_version": "1.5.0",
          "state": {
            "_model_module": "@jupyter-widgets/controls",
            "_model_module_version": "1.5.0",
            "_model_name": "ProgressStyleModel",
            "_view_count": null,
            "_view_module": "@jupyter-widgets/base",
            "_view_module_version": "1.2.0",
            "_view_name": "StyleView",
            "bar_color": null,
            "description_width": ""
          }
        },
        "811c83a02f3d42b5aba0c2930ef1e27c": {
          "model_module": "@jupyter-widgets/base",
          "model_name": "LayoutModel",
          "model_module_version": "1.2.0",
          "state": {
            "_model_module": "@jupyter-widgets/base",
            "_model_module_version": "1.2.0",
            "_model_name": "LayoutModel",
            "_view_count": null,
            "_view_module": "@jupyter-widgets/base",
            "_view_module_version": "1.2.0",
            "_view_name": "LayoutView",
            "align_content": null,
            "align_items": null,
            "align_self": null,
            "border": null,
            "bottom": null,
            "display": null,
            "flex": null,
            "flex_flow": null,
            "grid_area": null,
            "grid_auto_columns": null,
            "grid_auto_flow": null,
            "grid_auto_rows": null,
            "grid_column": null,
            "grid_gap": null,
            "grid_row": null,
            "grid_template_areas": null,
            "grid_template_columns": null,
            "grid_template_rows": null,
            "height": null,
            "justify_content": null,
            "justify_items": null,
            "left": null,
            "margin": null,
            "max_height": null,
            "max_width": null,
            "min_height": null,
            "min_width": null,
            "object_fit": null,
            "object_position": null,
            "order": null,
            "overflow": null,
            "overflow_x": null,
            "overflow_y": null,
            "padding": null,
            "right": null,
            "top": null,
            "visibility": null,
            "width": null
          }
        },
        "21757e37acba43ce9be2952b8e86d47d": {
          "model_module": "@jupyter-widgets/controls",
          "model_name": "DescriptionStyleModel",
          "model_module_version": "1.5.0",
          "state": {
            "_model_module": "@jupyter-widgets/controls",
            "_model_module_version": "1.5.0",
            "_model_name": "DescriptionStyleModel",
            "_view_count": null,
            "_view_module": "@jupyter-widgets/base",
            "_view_module_version": "1.2.0",
            "_view_name": "StyleView",
            "description_width": ""
          }
        },
        "c86134202a4d45cda55eaceca0988f1e": {
          "model_module": "@jupyter-widgets/controls",
          "model_name": "HBoxModel",
          "model_module_version": "1.5.0",
          "state": {
            "_dom_classes": [],
            "_model_module": "@jupyter-widgets/controls",
            "_model_module_version": "1.5.0",
            "_model_name": "HBoxModel",
            "_view_count": null,
            "_view_module": "@jupyter-widgets/controls",
            "_view_module_version": "1.5.0",
            "_view_name": "HBoxView",
            "box_style": "",
            "children": [
              "IPY_MODEL_fc855a4076eb41e7a77a3e49b7c09528",
              "IPY_MODEL_c30fd74122c1434e92d4b5feb81719e9",
              "IPY_MODEL_4016db7011dd45a7a8da4cb79c8e39c6"
            ],
            "layout": "IPY_MODEL_5eb66e84937e4d9088e6850a1f5f1ac6"
          }
        },
        "fc855a4076eb41e7a77a3e49b7c09528": {
          "model_module": "@jupyter-widgets/controls",
          "model_name": "HTMLModel",
          "model_module_version": "1.5.0",
          "state": {
            "_dom_classes": [],
            "_model_module": "@jupyter-widgets/controls",
            "_model_module_version": "1.5.0",
            "_model_name": "HTMLModel",
            "_view_count": null,
            "_view_module": "@jupyter-widgets/controls",
            "_view_module_version": "1.5.0",
            "_view_name": "HTMLView",
            "description": "",
            "description_tooltip": null,
            "layout": "IPY_MODEL_193ea74a414f4f7fb03547fed3fae03f",
            "placeholder": "​",
            "style": "IPY_MODEL_6c2dda59982143b8a9fad317a5631f06",
            "value": "Validation DataLoader 0: 100%"
          }
        },
        "c30fd74122c1434e92d4b5feb81719e9": {
          "model_module": "@jupyter-widgets/controls",
          "model_name": "FloatProgressModel",
          "model_module_version": "1.5.0",
          "state": {
            "_dom_classes": [],
            "_model_module": "@jupyter-widgets/controls",
            "_model_module_version": "1.5.0",
            "_model_name": "FloatProgressModel",
            "_view_count": null,
            "_view_module": "@jupyter-widgets/controls",
            "_view_module_version": "1.5.0",
            "_view_name": "ProgressView",
            "bar_style": "",
            "description": "",
            "description_tooltip": null,
            "layout": "IPY_MODEL_909f3a2d0a92419c96e93d48d0c5be70",
            "max": 10,
            "min": 0,
            "orientation": "horizontal",
            "style": "IPY_MODEL_36caa1ba4ced459487b8ecf695b75c5d",
            "value": 10
          }
        },
        "4016db7011dd45a7a8da4cb79c8e39c6": {
          "model_module": "@jupyter-widgets/controls",
          "model_name": "HTMLModel",
          "model_module_version": "1.5.0",
          "state": {
            "_dom_classes": [],
            "_model_module": "@jupyter-widgets/controls",
            "_model_module_version": "1.5.0",
            "_model_name": "HTMLModel",
            "_view_count": null,
            "_view_module": "@jupyter-widgets/controls",
            "_view_module_version": "1.5.0",
            "_view_name": "HTMLView",
            "description": "",
            "description_tooltip": null,
            "layout": "IPY_MODEL_a764a1650c3c45bfb274c6b401641166",
            "placeholder": "​",
            "style": "IPY_MODEL_d4be3c7ecc714b608c357fa482109e6b",
            "value": " 10/10 [00:01&lt;00:00,  5.80it/s]"
          }
        },
        "5eb66e84937e4d9088e6850a1f5f1ac6": {
          "model_module": "@jupyter-widgets/base",
          "model_name": "LayoutModel",
          "model_module_version": "1.2.0",
          "state": {
            "_model_module": "@jupyter-widgets/base",
            "_model_module_version": "1.2.0",
            "_model_name": "LayoutModel",
            "_view_count": null,
            "_view_module": "@jupyter-widgets/base",
            "_view_module_version": "1.2.0",
            "_view_name": "LayoutView",
            "align_content": null,
            "align_items": null,
            "align_self": null,
            "border": null,
            "bottom": null,
            "display": "inline-flex",
            "flex": null,
            "flex_flow": "row wrap",
            "grid_area": null,
            "grid_auto_columns": null,
            "grid_auto_flow": null,
            "grid_auto_rows": null,
            "grid_column": null,
            "grid_gap": null,
            "grid_row": null,
            "grid_template_areas": null,
            "grid_template_columns": null,
            "grid_template_rows": null,
            "height": null,
            "justify_content": null,
            "justify_items": null,
            "left": null,
            "margin": null,
            "max_height": null,
            "max_width": null,
            "min_height": null,
            "min_width": null,
            "object_fit": null,
            "object_position": null,
            "order": null,
            "overflow": null,
            "overflow_x": null,
            "overflow_y": null,
            "padding": null,
            "right": null,
            "top": null,
            "visibility": "hidden",
            "width": "100%"
          }
        },
        "193ea74a414f4f7fb03547fed3fae03f": {
          "model_module": "@jupyter-widgets/base",
          "model_name": "LayoutModel",
          "model_module_version": "1.2.0",
          "state": {
            "_model_module": "@jupyter-widgets/base",
            "_model_module_version": "1.2.0",
            "_model_name": "LayoutModel",
            "_view_count": null,
            "_view_module": "@jupyter-widgets/base",
            "_view_module_version": "1.2.0",
            "_view_name": "LayoutView",
            "align_content": null,
            "align_items": null,
            "align_self": null,
            "border": null,
            "bottom": null,
            "display": null,
            "flex": null,
            "flex_flow": null,
            "grid_area": null,
            "grid_auto_columns": null,
            "grid_auto_flow": null,
            "grid_auto_rows": null,
            "grid_column": null,
            "grid_gap": null,
            "grid_row": null,
            "grid_template_areas": null,
            "grid_template_columns": null,
            "grid_template_rows": null,
            "height": null,
            "justify_content": null,
            "justify_items": null,
            "left": null,
            "margin": null,
            "max_height": null,
            "max_width": null,
            "min_height": null,
            "min_width": null,
            "object_fit": null,
            "object_position": null,
            "order": null,
            "overflow": null,
            "overflow_x": null,
            "overflow_y": null,
            "padding": null,
            "right": null,
            "top": null,
            "visibility": null,
            "width": null
          }
        },
        "6c2dda59982143b8a9fad317a5631f06": {
          "model_module": "@jupyter-widgets/controls",
          "model_name": "DescriptionStyleModel",
          "model_module_version": "1.5.0",
          "state": {
            "_model_module": "@jupyter-widgets/controls",
            "_model_module_version": "1.5.0",
            "_model_name": "DescriptionStyleModel",
            "_view_count": null,
            "_view_module": "@jupyter-widgets/base",
            "_view_module_version": "1.2.0",
            "_view_name": "StyleView",
            "description_width": ""
          }
        },
        "909f3a2d0a92419c96e93d48d0c5be70": {
          "model_module": "@jupyter-widgets/base",
          "model_name": "LayoutModel",
          "model_module_version": "1.2.0",
          "state": {
            "_model_module": "@jupyter-widgets/base",
            "_model_module_version": "1.2.0",
            "_model_name": "LayoutModel",
            "_view_count": null,
            "_view_module": "@jupyter-widgets/base",
            "_view_module_version": "1.2.0",
            "_view_name": "LayoutView",
            "align_content": null,
            "align_items": null,
            "align_self": null,
            "border": null,
            "bottom": null,
            "display": null,
            "flex": "2",
            "flex_flow": null,
            "grid_area": null,
            "grid_auto_columns": null,
            "grid_auto_flow": null,
            "grid_auto_rows": null,
            "grid_column": null,
            "grid_gap": null,
            "grid_row": null,
            "grid_template_areas": null,
            "grid_template_columns": null,
            "grid_template_rows": null,
            "height": null,
            "justify_content": null,
            "justify_items": null,
            "left": null,
            "margin": null,
            "max_height": null,
            "max_width": null,
            "min_height": null,
            "min_width": null,
            "object_fit": null,
            "object_position": null,
            "order": null,
            "overflow": null,
            "overflow_x": null,
            "overflow_y": null,
            "padding": null,
            "right": null,
            "top": null,
            "visibility": null,
            "width": null
          }
        },
        "36caa1ba4ced459487b8ecf695b75c5d": {
          "model_module": "@jupyter-widgets/controls",
          "model_name": "ProgressStyleModel",
          "model_module_version": "1.5.0",
          "state": {
            "_model_module": "@jupyter-widgets/controls",
            "_model_module_version": "1.5.0",
            "_model_name": "ProgressStyleModel",
            "_view_count": null,
            "_view_module": "@jupyter-widgets/base",
            "_view_module_version": "1.2.0",
            "_view_name": "StyleView",
            "bar_color": null,
            "description_width": ""
          }
        },
        "a764a1650c3c45bfb274c6b401641166": {
          "model_module": "@jupyter-widgets/base",
          "model_name": "LayoutModel",
          "model_module_version": "1.2.0",
          "state": {
            "_model_module": "@jupyter-widgets/base",
            "_model_module_version": "1.2.0",
            "_model_name": "LayoutModel",
            "_view_count": null,
            "_view_module": "@jupyter-widgets/base",
            "_view_module_version": "1.2.0",
            "_view_name": "LayoutView",
            "align_content": null,
            "align_items": null,
            "align_self": null,
            "border": null,
            "bottom": null,
            "display": null,
            "flex": null,
            "flex_flow": null,
            "grid_area": null,
            "grid_auto_columns": null,
            "grid_auto_flow": null,
            "grid_auto_rows": null,
            "grid_column": null,
            "grid_gap": null,
            "grid_row": null,
            "grid_template_areas": null,
            "grid_template_columns": null,
            "grid_template_rows": null,
            "height": null,
            "justify_content": null,
            "justify_items": null,
            "left": null,
            "margin": null,
            "max_height": null,
            "max_width": null,
            "min_height": null,
            "min_width": null,
            "object_fit": null,
            "object_position": null,
            "order": null,
            "overflow": null,
            "overflow_x": null,
            "overflow_y": null,
            "padding": null,
            "right": null,
            "top": null,
            "visibility": null,
            "width": null
          }
        },
        "d4be3c7ecc714b608c357fa482109e6b": {
          "model_module": "@jupyter-widgets/controls",
          "model_name": "DescriptionStyleModel",
          "model_module_version": "1.5.0",
          "state": {
            "_model_module": "@jupyter-widgets/controls",
            "_model_module_version": "1.5.0",
            "_model_name": "DescriptionStyleModel",
            "_view_count": null,
            "_view_module": "@jupyter-widgets/base",
            "_view_module_version": "1.2.0",
            "_view_name": "StyleView",
            "description_width": ""
          }
        },
        "1e573ea37edd4a3485b791c518e60ca3": {
          "model_module": "@jupyter-widgets/controls",
          "model_name": "HBoxModel",
          "model_module_version": "1.5.0",
          "state": {
            "_dom_classes": [],
            "_model_module": "@jupyter-widgets/controls",
            "_model_module_version": "1.5.0",
            "_model_name": "HBoxModel",
            "_view_count": null,
            "_view_module": "@jupyter-widgets/controls",
            "_view_module_version": "1.5.0",
            "_view_name": "HBoxView",
            "box_style": "",
            "children": [
              "IPY_MODEL_ce7557bf417f49349efa9dcd4174157b",
              "IPY_MODEL_f16634be06c54036b79906a370b49937",
              "IPY_MODEL_5a717cc8199f4452b37d0e485e4700c4"
            ],
            "layout": "IPY_MODEL_7a5654a3f7af41fc930ee40e493ac574"
          }
        },
        "ce7557bf417f49349efa9dcd4174157b": {
          "model_module": "@jupyter-widgets/controls",
          "model_name": "HTMLModel",
          "model_module_version": "1.5.0",
          "state": {
            "_dom_classes": [],
            "_model_module": "@jupyter-widgets/controls",
            "_model_module_version": "1.5.0",
            "_model_name": "HTMLModel",
            "_view_count": null,
            "_view_module": "@jupyter-widgets/controls",
            "_view_module_version": "1.5.0",
            "_view_name": "HTMLView",
            "description": "",
            "description_tooltip": null,
            "layout": "IPY_MODEL_dd27d12aece34c6eb965fe65e8f557e4",
            "placeholder": "​",
            "style": "IPY_MODEL_aa2c108ba92642b1bc06a71822985cd4",
            "value": "Validation DataLoader 0: 100%"
          }
        },
        "f16634be06c54036b79906a370b49937": {
          "model_module": "@jupyter-widgets/controls",
          "model_name": "FloatProgressModel",
          "model_module_version": "1.5.0",
          "state": {
            "_dom_classes": [],
            "_model_module": "@jupyter-widgets/controls",
            "_model_module_version": "1.5.0",
            "_model_name": "FloatProgressModel",
            "_view_count": null,
            "_view_module": "@jupyter-widgets/controls",
            "_view_module_version": "1.5.0",
            "_view_name": "ProgressView",
            "bar_style": "",
            "description": "",
            "description_tooltip": null,
            "layout": "IPY_MODEL_f222ab8d98f441bc86029a6b910fcd4a",
            "max": 10,
            "min": 0,
            "orientation": "horizontal",
            "style": "IPY_MODEL_dbca863d00a24a15bc4beafba95c3b7b",
            "value": 10
          }
        },
        "5a717cc8199f4452b37d0e485e4700c4": {
          "model_module": "@jupyter-widgets/controls",
          "model_name": "HTMLModel",
          "model_module_version": "1.5.0",
          "state": {
            "_dom_classes": [],
            "_model_module": "@jupyter-widgets/controls",
            "_model_module_version": "1.5.0",
            "_model_name": "HTMLModel",
            "_view_count": null,
            "_view_module": "@jupyter-widgets/controls",
            "_view_module_version": "1.5.0",
            "_view_name": "HTMLView",
            "description": "",
            "description_tooltip": null,
            "layout": "IPY_MODEL_da2f7486cb7841eba8d57b9dd992b27b",
            "placeholder": "​",
            "style": "IPY_MODEL_3cc7f77886cb4d50aaaed9fba5a7f37c",
            "value": " 10/10 [00:01&lt;00:00,  8.01it/s]"
          }
        },
        "7a5654a3f7af41fc930ee40e493ac574": {
          "model_module": "@jupyter-widgets/base",
          "model_name": "LayoutModel",
          "model_module_version": "1.2.0",
          "state": {
            "_model_module": "@jupyter-widgets/base",
            "_model_module_version": "1.2.0",
            "_model_name": "LayoutModel",
            "_view_count": null,
            "_view_module": "@jupyter-widgets/base",
            "_view_module_version": "1.2.0",
            "_view_name": "LayoutView",
            "align_content": null,
            "align_items": null,
            "align_self": null,
            "border": null,
            "bottom": null,
            "display": "inline-flex",
            "flex": null,
            "flex_flow": "row wrap",
            "grid_area": null,
            "grid_auto_columns": null,
            "grid_auto_flow": null,
            "grid_auto_rows": null,
            "grid_column": null,
            "grid_gap": null,
            "grid_row": null,
            "grid_template_areas": null,
            "grid_template_columns": null,
            "grid_template_rows": null,
            "height": null,
            "justify_content": null,
            "justify_items": null,
            "left": null,
            "margin": null,
            "max_height": null,
            "max_width": null,
            "min_height": null,
            "min_width": null,
            "object_fit": null,
            "object_position": null,
            "order": null,
            "overflow": null,
            "overflow_x": null,
            "overflow_y": null,
            "padding": null,
            "right": null,
            "top": null,
            "visibility": "hidden",
            "width": "100%"
          }
        },
        "dd27d12aece34c6eb965fe65e8f557e4": {
          "model_module": "@jupyter-widgets/base",
          "model_name": "LayoutModel",
          "model_module_version": "1.2.0",
          "state": {
            "_model_module": "@jupyter-widgets/base",
            "_model_module_version": "1.2.0",
            "_model_name": "LayoutModel",
            "_view_count": null,
            "_view_module": "@jupyter-widgets/base",
            "_view_module_version": "1.2.0",
            "_view_name": "LayoutView",
            "align_content": null,
            "align_items": null,
            "align_self": null,
            "border": null,
            "bottom": null,
            "display": null,
            "flex": null,
            "flex_flow": null,
            "grid_area": null,
            "grid_auto_columns": null,
            "grid_auto_flow": null,
            "grid_auto_rows": null,
            "grid_column": null,
            "grid_gap": null,
            "grid_row": null,
            "grid_template_areas": null,
            "grid_template_columns": null,
            "grid_template_rows": null,
            "height": null,
            "justify_content": null,
            "justify_items": null,
            "left": null,
            "margin": null,
            "max_height": null,
            "max_width": null,
            "min_height": null,
            "min_width": null,
            "object_fit": null,
            "object_position": null,
            "order": null,
            "overflow": null,
            "overflow_x": null,
            "overflow_y": null,
            "padding": null,
            "right": null,
            "top": null,
            "visibility": null,
            "width": null
          }
        },
        "aa2c108ba92642b1bc06a71822985cd4": {
          "model_module": "@jupyter-widgets/controls",
          "model_name": "DescriptionStyleModel",
          "model_module_version": "1.5.0",
          "state": {
            "_model_module": "@jupyter-widgets/controls",
            "_model_module_version": "1.5.0",
            "_model_name": "DescriptionStyleModel",
            "_view_count": null,
            "_view_module": "@jupyter-widgets/base",
            "_view_module_version": "1.2.0",
            "_view_name": "StyleView",
            "description_width": ""
          }
        },
        "f222ab8d98f441bc86029a6b910fcd4a": {
          "model_module": "@jupyter-widgets/base",
          "model_name": "LayoutModel",
          "model_module_version": "1.2.0",
          "state": {
            "_model_module": "@jupyter-widgets/base",
            "_model_module_version": "1.2.0",
            "_model_name": "LayoutModel",
            "_view_count": null,
            "_view_module": "@jupyter-widgets/base",
            "_view_module_version": "1.2.0",
            "_view_name": "LayoutView",
            "align_content": null,
            "align_items": null,
            "align_self": null,
            "border": null,
            "bottom": null,
            "display": null,
            "flex": "2",
            "flex_flow": null,
            "grid_area": null,
            "grid_auto_columns": null,
            "grid_auto_flow": null,
            "grid_auto_rows": null,
            "grid_column": null,
            "grid_gap": null,
            "grid_row": null,
            "grid_template_areas": null,
            "grid_template_columns": null,
            "grid_template_rows": null,
            "height": null,
            "justify_content": null,
            "justify_items": null,
            "left": null,
            "margin": null,
            "max_height": null,
            "max_width": null,
            "min_height": null,
            "min_width": null,
            "object_fit": null,
            "object_position": null,
            "order": null,
            "overflow": null,
            "overflow_x": null,
            "overflow_y": null,
            "padding": null,
            "right": null,
            "top": null,
            "visibility": null,
            "width": null
          }
        },
        "dbca863d00a24a15bc4beafba95c3b7b": {
          "model_module": "@jupyter-widgets/controls",
          "model_name": "ProgressStyleModel",
          "model_module_version": "1.5.0",
          "state": {
            "_model_module": "@jupyter-widgets/controls",
            "_model_module_version": "1.5.0",
            "_model_name": "ProgressStyleModel",
            "_view_count": null,
            "_view_module": "@jupyter-widgets/base",
            "_view_module_version": "1.2.0",
            "_view_name": "StyleView",
            "bar_color": null,
            "description_width": ""
          }
        },
        "da2f7486cb7841eba8d57b9dd992b27b": {
          "model_module": "@jupyter-widgets/base",
          "model_name": "LayoutModel",
          "model_module_version": "1.2.0",
          "state": {
            "_model_module": "@jupyter-widgets/base",
            "_model_module_version": "1.2.0",
            "_model_name": "LayoutModel",
            "_view_count": null,
            "_view_module": "@jupyter-widgets/base",
            "_view_module_version": "1.2.0",
            "_view_name": "LayoutView",
            "align_content": null,
            "align_items": null,
            "align_self": null,
            "border": null,
            "bottom": null,
            "display": null,
            "flex": null,
            "flex_flow": null,
            "grid_area": null,
            "grid_auto_columns": null,
            "grid_auto_flow": null,
            "grid_auto_rows": null,
            "grid_column": null,
            "grid_gap": null,
            "grid_row": null,
            "grid_template_areas": null,
            "grid_template_columns": null,
            "grid_template_rows": null,
            "height": null,
            "justify_content": null,
            "justify_items": null,
            "left": null,
            "margin": null,
            "max_height": null,
            "max_width": null,
            "min_height": null,
            "min_width": null,
            "object_fit": null,
            "object_position": null,
            "order": null,
            "overflow": null,
            "overflow_x": null,
            "overflow_y": null,
            "padding": null,
            "right": null,
            "top": null,
            "visibility": null,
            "width": null
          }
        },
        "3cc7f77886cb4d50aaaed9fba5a7f37c": {
          "model_module": "@jupyter-widgets/controls",
          "model_name": "DescriptionStyleModel",
          "model_module_version": "1.5.0",
          "state": {
            "_model_module": "@jupyter-widgets/controls",
            "_model_module_version": "1.5.0",
            "_model_name": "DescriptionStyleModel",
            "_view_count": null,
            "_view_module": "@jupyter-widgets/base",
            "_view_module_version": "1.2.0",
            "_view_name": "StyleView",
            "description_width": ""
          }
        },
        "6106130c231b4c42874027c9b99410b5": {
          "model_module": "@jupyter-widgets/controls",
          "model_name": "HBoxModel",
          "model_module_version": "1.5.0",
          "state": {
            "_dom_classes": [],
            "_model_module": "@jupyter-widgets/controls",
            "_model_module_version": "1.5.0",
            "_model_name": "HBoxModel",
            "_view_count": null,
            "_view_module": "@jupyter-widgets/controls",
            "_view_module_version": "1.5.0",
            "_view_name": "HBoxView",
            "box_style": "",
            "children": [
              "IPY_MODEL_11badc6f24664c819c4f0350ad4b6b96",
              "IPY_MODEL_5a74b3230b9648d7a736eeba2a622c16",
              "IPY_MODEL_2b0192bf36db4cb2935a2e893d2eae46"
            ],
            "layout": "IPY_MODEL_fc93d87de6f24bc0b483fe89c17a6597"
          }
        },
        "11badc6f24664c819c4f0350ad4b6b96": {
          "model_module": "@jupyter-widgets/controls",
          "model_name": "HTMLModel",
          "model_module_version": "1.5.0",
          "state": {
            "_dom_classes": [],
            "_model_module": "@jupyter-widgets/controls",
            "_model_module_version": "1.5.0",
            "_model_name": "HTMLModel",
            "_view_count": null,
            "_view_module": "@jupyter-widgets/controls",
            "_view_module_version": "1.5.0",
            "_view_name": "HTMLView",
            "description": "",
            "description_tooltip": null,
            "layout": "IPY_MODEL_cdc6b4c6aa364cfb9acfedb4c5d51062",
            "placeholder": "​",
            "style": "IPY_MODEL_f6b1c90a64534848900ae17ac7b15cad",
            "value": "Validation DataLoader 0: 100%"
          }
        },
        "5a74b3230b9648d7a736eeba2a622c16": {
          "model_module": "@jupyter-widgets/controls",
          "model_name": "FloatProgressModel",
          "model_module_version": "1.5.0",
          "state": {
            "_dom_classes": [],
            "_model_module": "@jupyter-widgets/controls",
            "_model_module_version": "1.5.0",
            "_model_name": "FloatProgressModel",
            "_view_count": null,
            "_view_module": "@jupyter-widgets/controls",
            "_view_module_version": "1.5.0",
            "_view_name": "ProgressView",
            "bar_style": "",
            "description": "",
            "description_tooltip": null,
            "layout": "IPY_MODEL_d91be905d4984962bc69dc606c68dc2b",
            "max": 10,
            "min": 0,
            "orientation": "horizontal",
            "style": "IPY_MODEL_a8fa5d5287a24112ae0189cf530fd302",
            "value": 10
          }
        },
        "2b0192bf36db4cb2935a2e893d2eae46": {
          "model_module": "@jupyter-widgets/controls",
          "model_name": "HTMLModel",
          "model_module_version": "1.5.0",
          "state": {
            "_dom_classes": [],
            "_model_module": "@jupyter-widgets/controls",
            "_model_module_version": "1.5.0",
            "_model_name": "HTMLModel",
            "_view_count": null,
            "_view_module": "@jupyter-widgets/controls",
            "_view_module_version": "1.5.0",
            "_view_name": "HTMLView",
            "description": "",
            "description_tooltip": null,
            "layout": "IPY_MODEL_22f2a3aa3f6442b0b4ed4e869b720504",
            "placeholder": "​",
            "style": "IPY_MODEL_feb8e92349db4b6fb3b0ae2c7360044c",
            "value": " 10/10 [00:01&lt;00:00,  7.82it/s]"
          }
        },
        "fc93d87de6f24bc0b483fe89c17a6597": {
          "model_module": "@jupyter-widgets/base",
          "model_name": "LayoutModel",
          "model_module_version": "1.2.0",
          "state": {
            "_model_module": "@jupyter-widgets/base",
            "_model_module_version": "1.2.0",
            "_model_name": "LayoutModel",
            "_view_count": null,
            "_view_module": "@jupyter-widgets/base",
            "_view_module_version": "1.2.0",
            "_view_name": "LayoutView",
            "align_content": null,
            "align_items": null,
            "align_self": null,
            "border": null,
            "bottom": null,
            "display": "inline-flex",
            "flex": null,
            "flex_flow": "row wrap",
            "grid_area": null,
            "grid_auto_columns": null,
            "grid_auto_flow": null,
            "grid_auto_rows": null,
            "grid_column": null,
            "grid_gap": null,
            "grid_row": null,
            "grid_template_areas": null,
            "grid_template_columns": null,
            "grid_template_rows": null,
            "height": null,
            "justify_content": null,
            "justify_items": null,
            "left": null,
            "margin": null,
            "max_height": null,
            "max_width": null,
            "min_height": null,
            "min_width": null,
            "object_fit": null,
            "object_position": null,
            "order": null,
            "overflow": null,
            "overflow_x": null,
            "overflow_y": null,
            "padding": null,
            "right": null,
            "top": null,
            "visibility": "hidden",
            "width": "100%"
          }
        },
        "cdc6b4c6aa364cfb9acfedb4c5d51062": {
          "model_module": "@jupyter-widgets/base",
          "model_name": "LayoutModel",
          "model_module_version": "1.2.0",
          "state": {
            "_model_module": "@jupyter-widgets/base",
            "_model_module_version": "1.2.0",
            "_model_name": "LayoutModel",
            "_view_count": null,
            "_view_module": "@jupyter-widgets/base",
            "_view_module_version": "1.2.0",
            "_view_name": "LayoutView",
            "align_content": null,
            "align_items": null,
            "align_self": null,
            "border": null,
            "bottom": null,
            "display": null,
            "flex": null,
            "flex_flow": null,
            "grid_area": null,
            "grid_auto_columns": null,
            "grid_auto_flow": null,
            "grid_auto_rows": null,
            "grid_column": null,
            "grid_gap": null,
            "grid_row": null,
            "grid_template_areas": null,
            "grid_template_columns": null,
            "grid_template_rows": null,
            "height": null,
            "justify_content": null,
            "justify_items": null,
            "left": null,
            "margin": null,
            "max_height": null,
            "max_width": null,
            "min_height": null,
            "min_width": null,
            "object_fit": null,
            "object_position": null,
            "order": null,
            "overflow": null,
            "overflow_x": null,
            "overflow_y": null,
            "padding": null,
            "right": null,
            "top": null,
            "visibility": null,
            "width": null
          }
        },
        "f6b1c90a64534848900ae17ac7b15cad": {
          "model_module": "@jupyter-widgets/controls",
          "model_name": "DescriptionStyleModel",
          "model_module_version": "1.5.0",
          "state": {
            "_model_module": "@jupyter-widgets/controls",
            "_model_module_version": "1.5.0",
            "_model_name": "DescriptionStyleModel",
            "_view_count": null,
            "_view_module": "@jupyter-widgets/base",
            "_view_module_version": "1.2.0",
            "_view_name": "StyleView",
            "description_width": ""
          }
        },
        "d91be905d4984962bc69dc606c68dc2b": {
          "model_module": "@jupyter-widgets/base",
          "model_name": "LayoutModel",
          "model_module_version": "1.2.0",
          "state": {
            "_model_module": "@jupyter-widgets/base",
            "_model_module_version": "1.2.0",
            "_model_name": "LayoutModel",
            "_view_count": null,
            "_view_module": "@jupyter-widgets/base",
            "_view_module_version": "1.2.0",
            "_view_name": "LayoutView",
            "align_content": null,
            "align_items": null,
            "align_self": null,
            "border": null,
            "bottom": null,
            "display": null,
            "flex": "2",
            "flex_flow": null,
            "grid_area": null,
            "grid_auto_columns": null,
            "grid_auto_flow": null,
            "grid_auto_rows": null,
            "grid_column": null,
            "grid_gap": null,
            "grid_row": null,
            "grid_template_areas": null,
            "grid_template_columns": null,
            "grid_template_rows": null,
            "height": null,
            "justify_content": null,
            "justify_items": null,
            "left": null,
            "margin": null,
            "max_height": null,
            "max_width": null,
            "min_height": null,
            "min_width": null,
            "object_fit": null,
            "object_position": null,
            "order": null,
            "overflow": null,
            "overflow_x": null,
            "overflow_y": null,
            "padding": null,
            "right": null,
            "top": null,
            "visibility": null,
            "width": null
          }
        },
        "a8fa5d5287a24112ae0189cf530fd302": {
          "model_module": "@jupyter-widgets/controls",
          "model_name": "ProgressStyleModel",
          "model_module_version": "1.5.0",
          "state": {
            "_model_module": "@jupyter-widgets/controls",
            "_model_module_version": "1.5.0",
            "_model_name": "ProgressStyleModel",
            "_view_count": null,
            "_view_module": "@jupyter-widgets/base",
            "_view_module_version": "1.2.0",
            "_view_name": "StyleView",
            "bar_color": null,
            "description_width": ""
          }
        },
        "22f2a3aa3f6442b0b4ed4e869b720504": {
          "model_module": "@jupyter-widgets/base",
          "model_name": "LayoutModel",
          "model_module_version": "1.2.0",
          "state": {
            "_model_module": "@jupyter-widgets/base",
            "_model_module_version": "1.2.0",
            "_model_name": "LayoutModel",
            "_view_count": null,
            "_view_module": "@jupyter-widgets/base",
            "_view_module_version": "1.2.0",
            "_view_name": "LayoutView",
            "align_content": null,
            "align_items": null,
            "align_self": null,
            "border": null,
            "bottom": null,
            "display": null,
            "flex": null,
            "flex_flow": null,
            "grid_area": null,
            "grid_auto_columns": null,
            "grid_auto_flow": null,
            "grid_auto_rows": null,
            "grid_column": null,
            "grid_gap": null,
            "grid_row": null,
            "grid_template_areas": null,
            "grid_template_columns": null,
            "grid_template_rows": null,
            "height": null,
            "justify_content": null,
            "justify_items": null,
            "left": null,
            "margin": null,
            "max_height": null,
            "max_width": null,
            "min_height": null,
            "min_width": null,
            "object_fit": null,
            "object_position": null,
            "order": null,
            "overflow": null,
            "overflow_x": null,
            "overflow_y": null,
            "padding": null,
            "right": null,
            "top": null,
            "visibility": null,
            "width": null
          }
        },
        "feb8e92349db4b6fb3b0ae2c7360044c": {
          "model_module": "@jupyter-widgets/controls",
          "model_name": "DescriptionStyleModel",
          "model_module_version": "1.5.0",
          "state": {
            "_model_module": "@jupyter-widgets/controls",
            "_model_module_version": "1.5.0",
            "_model_name": "DescriptionStyleModel",
            "_view_count": null,
            "_view_module": "@jupyter-widgets/base",
            "_view_module_version": "1.2.0",
            "_view_name": "StyleView",
            "description_width": ""
          }
        },
        "02ac35a0103a4620b053fee7bf82728e": {
          "model_module": "@jupyter-widgets/controls",
          "model_name": "HBoxModel",
          "model_module_version": "1.5.0",
          "state": {
            "_dom_classes": [],
            "_model_module": "@jupyter-widgets/controls",
            "_model_module_version": "1.5.0",
            "_model_name": "HBoxModel",
            "_view_count": null,
            "_view_module": "@jupyter-widgets/controls",
            "_view_module_version": "1.5.0",
            "_view_name": "HBoxView",
            "box_style": "",
            "children": [
              "IPY_MODEL_703a3c82d8044fdf88057b327bb8471c",
              "IPY_MODEL_4936548e21b44b0bb9628a0d3b56f022",
              "IPY_MODEL_f724ba7d59c94ae89d72ec4f395672aa"
            ],
            "layout": "IPY_MODEL_84902a737a9448008cab8b3246f629da"
          }
        },
        "703a3c82d8044fdf88057b327bb8471c": {
          "model_module": "@jupyter-widgets/controls",
          "model_name": "HTMLModel",
          "model_module_version": "1.5.0",
          "state": {
            "_dom_classes": [],
            "_model_module": "@jupyter-widgets/controls",
            "_model_module_version": "1.5.0",
            "_model_name": "HTMLModel",
            "_view_count": null,
            "_view_module": "@jupyter-widgets/controls",
            "_view_module_version": "1.5.0",
            "_view_name": "HTMLView",
            "description": "",
            "description_tooltip": null,
            "layout": "IPY_MODEL_ba0d5657fae34349b0dceb1aa0027170",
            "placeholder": "​",
            "style": "IPY_MODEL_545392d137ce4dbeb3088234087ac4e7",
            "value": "Validation DataLoader 0: 100%"
          }
        },
        "4936548e21b44b0bb9628a0d3b56f022": {
          "model_module": "@jupyter-widgets/controls",
          "model_name": "FloatProgressModel",
          "model_module_version": "1.5.0",
          "state": {
            "_dom_classes": [],
            "_model_module": "@jupyter-widgets/controls",
            "_model_module_version": "1.5.0",
            "_model_name": "FloatProgressModel",
            "_view_count": null,
            "_view_module": "@jupyter-widgets/controls",
            "_view_module_version": "1.5.0",
            "_view_name": "ProgressView",
            "bar_style": "",
            "description": "",
            "description_tooltip": null,
            "layout": "IPY_MODEL_4641325558044cc78d3427813a88d1d6",
            "max": 10,
            "min": 0,
            "orientation": "horizontal",
            "style": "IPY_MODEL_d4d3518759bb4ee4a34740b60b61f85a",
            "value": 10
          }
        },
        "f724ba7d59c94ae89d72ec4f395672aa": {
          "model_module": "@jupyter-widgets/controls",
          "model_name": "HTMLModel",
          "model_module_version": "1.5.0",
          "state": {
            "_dom_classes": [],
            "_model_module": "@jupyter-widgets/controls",
            "_model_module_version": "1.5.0",
            "_model_name": "HTMLModel",
            "_view_count": null,
            "_view_module": "@jupyter-widgets/controls",
            "_view_module_version": "1.5.0",
            "_view_name": "HTMLView",
            "description": "",
            "description_tooltip": null,
            "layout": "IPY_MODEL_e5ded7f04dc2416598a023359d009f72",
            "placeholder": "​",
            "style": "IPY_MODEL_6af0c47585d8422eb022e4137b660bcc",
            "value": " 10/10 [00:01&lt;00:00,  5.88it/s]"
          }
        },
        "84902a737a9448008cab8b3246f629da": {
          "model_module": "@jupyter-widgets/base",
          "model_name": "LayoutModel",
          "model_module_version": "1.2.0",
          "state": {
            "_model_module": "@jupyter-widgets/base",
            "_model_module_version": "1.2.0",
            "_model_name": "LayoutModel",
            "_view_count": null,
            "_view_module": "@jupyter-widgets/base",
            "_view_module_version": "1.2.0",
            "_view_name": "LayoutView",
            "align_content": null,
            "align_items": null,
            "align_self": null,
            "border": null,
            "bottom": null,
            "display": "inline-flex",
            "flex": null,
            "flex_flow": "row wrap",
            "grid_area": null,
            "grid_auto_columns": null,
            "grid_auto_flow": null,
            "grid_auto_rows": null,
            "grid_column": null,
            "grid_gap": null,
            "grid_row": null,
            "grid_template_areas": null,
            "grid_template_columns": null,
            "grid_template_rows": null,
            "height": null,
            "justify_content": null,
            "justify_items": null,
            "left": null,
            "margin": null,
            "max_height": null,
            "max_width": null,
            "min_height": null,
            "min_width": null,
            "object_fit": null,
            "object_position": null,
            "order": null,
            "overflow": null,
            "overflow_x": null,
            "overflow_y": null,
            "padding": null,
            "right": null,
            "top": null,
            "visibility": "hidden",
            "width": "100%"
          }
        },
        "ba0d5657fae34349b0dceb1aa0027170": {
          "model_module": "@jupyter-widgets/base",
          "model_name": "LayoutModel",
          "model_module_version": "1.2.0",
          "state": {
            "_model_module": "@jupyter-widgets/base",
            "_model_module_version": "1.2.0",
            "_model_name": "LayoutModel",
            "_view_count": null,
            "_view_module": "@jupyter-widgets/base",
            "_view_module_version": "1.2.0",
            "_view_name": "LayoutView",
            "align_content": null,
            "align_items": null,
            "align_self": null,
            "border": null,
            "bottom": null,
            "display": null,
            "flex": null,
            "flex_flow": null,
            "grid_area": null,
            "grid_auto_columns": null,
            "grid_auto_flow": null,
            "grid_auto_rows": null,
            "grid_column": null,
            "grid_gap": null,
            "grid_row": null,
            "grid_template_areas": null,
            "grid_template_columns": null,
            "grid_template_rows": null,
            "height": null,
            "justify_content": null,
            "justify_items": null,
            "left": null,
            "margin": null,
            "max_height": null,
            "max_width": null,
            "min_height": null,
            "min_width": null,
            "object_fit": null,
            "object_position": null,
            "order": null,
            "overflow": null,
            "overflow_x": null,
            "overflow_y": null,
            "padding": null,
            "right": null,
            "top": null,
            "visibility": null,
            "width": null
          }
        },
        "545392d137ce4dbeb3088234087ac4e7": {
          "model_module": "@jupyter-widgets/controls",
          "model_name": "DescriptionStyleModel",
          "model_module_version": "1.5.0",
          "state": {
            "_model_module": "@jupyter-widgets/controls",
            "_model_module_version": "1.5.0",
            "_model_name": "DescriptionStyleModel",
            "_view_count": null,
            "_view_module": "@jupyter-widgets/base",
            "_view_module_version": "1.2.0",
            "_view_name": "StyleView",
            "description_width": ""
          }
        },
        "4641325558044cc78d3427813a88d1d6": {
          "model_module": "@jupyter-widgets/base",
          "model_name": "LayoutModel",
          "model_module_version": "1.2.0",
          "state": {
            "_model_module": "@jupyter-widgets/base",
            "_model_module_version": "1.2.0",
            "_model_name": "LayoutModel",
            "_view_count": null,
            "_view_module": "@jupyter-widgets/base",
            "_view_module_version": "1.2.0",
            "_view_name": "LayoutView",
            "align_content": null,
            "align_items": null,
            "align_self": null,
            "border": null,
            "bottom": null,
            "display": null,
            "flex": "2",
            "flex_flow": null,
            "grid_area": null,
            "grid_auto_columns": null,
            "grid_auto_flow": null,
            "grid_auto_rows": null,
            "grid_column": null,
            "grid_gap": null,
            "grid_row": null,
            "grid_template_areas": null,
            "grid_template_columns": null,
            "grid_template_rows": null,
            "height": null,
            "justify_content": null,
            "justify_items": null,
            "left": null,
            "margin": null,
            "max_height": null,
            "max_width": null,
            "min_height": null,
            "min_width": null,
            "object_fit": null,
            "object_position": null,
            "order": null,
            "overflow": null,
            "overflow_x": null,
            "overflow_y": null,
            "padding": null,
            "right": null,
            "top": null,
            "visibility": null,
            "width": null
          }
        },
        "d4d3518759bb4ee4a34740b60b61f85a": {
          "model_module": "@jupyter-widgets/controls",
          "model_name": "ProgressStyleModel",
          "model_module_version": "1.5.0",
          "state": {
            "_model_module": "@jupyter-widgets/controls",
            "_model_module_version": "1.5.0",
            "_model_name": "ProgressStyleModel",
            "_view_count": null,
            "_view_module": "@jupyter-widgets/base",
            "_view_module_version": "1.2.0",
            "_view_name": "StyleView",
            "bar_color": null,
            "description_width": ""
          }
        },
        "e5ded7f04dc2416598a023359d009f72": {
          "model_module": "@jupyter-widgets/base",
          "model_name": "LayoutModel",
          "model_module_version": "1.2.0",
          "state": {
            "_model_module": "@jupyter-widgets/base",
            "_model_module_version": "1.2.0",
            "_model_name": "LayoutModel",
            "_view_count": null,
            "_view_module": "@jupyter-widgets/base",
            "_view_module_version": "1.2.0",
            "_view_name": "LayoutView",
            "align_content": null,
            "align_items": null,
            "align_self": null,
            "border": null,
            "bottom": null,
            "display": null,
            "flex": null,
            "flex_flow": null,
            "grid_area": null,
            "grid_auto_columns": null,
            "grid_auto_flow": null,
            "grid_auto_rows": null,
            "grid_column": null,
            "grid_gap": null,
            "grid_row": null,
            "grid_template_areas": null,
            "grid_template_columns": null,
            "grid_template_rows": null,
            "height": null,
            "justify_content": null,
            "justify_items": null,
            "left": null,
            "margin": null,
            "max_height": null,
            "max_width": null,
            "min_height": null,
            "min_width": null,
            "object_fit": null,
            "object_position": null,
            "order": null,
            "overflow": null,
            "overflow_x": null,
            "overflow_y": null,
            "padding": null,
            "right": null,
            "top": null,
            "visibility": null,
            "width": null
          }
        },
        "6af0c47585d8422eb022e4137b660bcc": {
          "model_module": "@jupyter-widgets/controls",
          "model_name": "DescriptionStyleModel",
          "model_module_version": "1.5.0",
          "state": {
            "_model_module": "@jupyter-widgets/controls",
            "_model_module_version": "1.5.0",
            "_model_name": "DescriptionStyleModel",
            "_view_count": null,
            "_view_module": "@jupyter-widgets/base",
            "_view_module_version": "1.2.0",
            "_view_name": "StyleView",
            "description_width": ""
          }
        },
        "a56998a659e247158c117dc772a20008": {
          "model_module": "@jupyter-widgets/controls",
          "model_name": "HBoxModel",
          "model_module_version": "1.5.0",
          "state": {
            "_dom_classes": [],
            "_model_module": "@jupyter-widgets/controls",
            "_model_module_version": "1.5.0",
            "_model_name": "HBoxModel",
            "_view_count": null,
            "_view_module": "@jupyter-widgets/controls",
            "_view_module_version": "1.5.0",
            "_view_name": "HBoxView",
            "box_style": "",
            "children": [
              "IPY_MODEL_72c2a9874e3f48f781f9047db4ae54cc",
              "IPY_MODEL_b82cc271be334e528c9a8710ff9712c1",
              "IPY_MODEL_c765de99429c4d06856eca1fa897b599"
            ],
            "layout": "IPY_MODEL_5d30b8d95f18433883ed9975f07bfeb8"
          }
        },
        "72c2a9874e3f48f781f9047db4ae54cc": {
          "model_module": "@jupyter-widgets/controls",
          "model_name": "HTMLModel",
          "model_module_version": "1.5.0",
          "state": {
            "_dom_classes": [],
            "_model_module": "@jupyter-widgets/controls",
            "_model_module_version": "1.5.0",
            "_model_name": "HTMLModel",
            "_view_count": null,
            "_view_module": "@jupyter-widgets/controls",
            "_view_module_version": "1.5.0",
            "_view_name": "HTMLView",
            "description": "",
            "description_tooltip": null,
            "layout": "IPY_MODEL_4c0ea0716e8c42f5ba71c48a07bc5f4a",
            "placeholder": "​",
            "style": "IPY_MODEL_cd7cf4a670444da4a6b6eb171c06f45e",
            "value": "Validation DataLoader 0: 100%"
          }
        },
        "b82cc271be334e528c9a8710ff9712c1": {
          "model_module": "@jupyter-widgets/controls",
          "model_name": "FloatProgressModel",
          "model_module_version": "1.5.0",
          "state": {
            "_dom_classes": [],
            "_model_module": "@jupyter-widgets/controls",
            "_model_module_version": "1.5.0",
            "_model_name": "FloatProgressModel",
            "_view_count": null,
            "_view_module": "@jupyter-widgets/controls",
            "_view_module_version": "1.5.0",
            "_view_name": "ProgressView",
            "bar_style": "",
            "description": "",
            "description_tooltip": null,
            "layout": "IPY_MODEL_172f44986e894a28a0ccd38893d12d5f",
            "max": 10,
            "min": 0,
            "orientation": "horizontal",
            "style": "IPY_MODEL_fd05796d5f5f498c88d0d0802b88d50f",
            "value": 10
          }
        },
        "c765de99429c4d06856eca1fa897b599": {
          "model_module": "@jupyter-widgets/controls",
          "model_name": "HTMLModel",
          "model_module_version": "1.5.0",
          "state": {
            "_dom_classes": [],
            "_model_module": "@jupyter-widgets/controls",
            "_model_module_version": "1.5.0",
            "_model_name": "HTMLModel",
            "_view_count": null,
            "_view_module": "@jupyter-widgets/controls",
            "_view_module_version": "1.5.0",
            "_view_name": "HTMLView",
            "description": "",
            "description_tooltip": null,
            "layout": "IPY_MODEL_912c93a8f4d54effa29d4d8034b2bb75",
            "placeholder": "​",
            "style": "IPY_MODEL_f1f9320c4fcb4112a58bc0b764c1aee8",
            "value": " 10/10 [00:01&lt;00:00,  5.21it/s]"
          }
        },
        "5d30b8d95f18433883ed9975f07bfeb8": {
          "model_module": "@jupyter-widgets/base",
          "model_name": "LayoutModel",
          "model_module_version": "1.2.0",
          "state": {
            "_model_module": "@jupyter-widgets/base",
            "_model_module_version": "1.2.0",
            "_model_name": "LayoutModel",
            "_view_count": null,
            "_view_module": "@jupyter-widgets/base",
            "_view_module_version": "1.2.0",
            "_view_name": "LayoutView",
            "align_content": null,
            "align_items": null,
            "align_self": null,
            "border": null,
            "bottom": null,
            "display": "inline-flex",
            "flex": null,
            "flex_flow": "row wrap",
            "grid_area": null,
            "grid_auto_columns": null,
            "grid_auto_flow": null,
            "grid_auto_rows": null,
            "grid_column": null,
            "grid_gap": null,
            "grid_row": null,
            "grid_template_areas": null,
            "grid_template_columns": null,
            "grid_template_rows": null,
            "height": null,
            "justify_content": null,
            "justify_items": null,
            "left": null,
            "margin": null,
            "max_height": null,
            "max_width": null,
            "min_height": null,
            "min_width": null,
            "object_fit": null,
            "object_position": null,
            "order": null,
            "overflow": null,
            "overflow_x": null,
            "overflow_y": null,
            "padding": null,
            "right": null,
            "top": null,
            "visibility": "hidden",
            "width": "100%"
          }
        },
        "4c0ea0716e8c42f5ba71c48a07bc5f4a": {
          "model_module": "@jupyter-widgets/base",
          "model_name": "LayoutModel",
          "model_module_version": "1.2.0",
          "state": {
            "_model_module": "@jupyter-widgets/base",
            "_model_module_version": "1.2.0",
            "_model_name": "LayoutModel",
            "_view_count": null,
            "_view_module": "@jupyter-widgets/base",
            "_view_module_version": "1.2.0",
            "_view_name": "LayoutView",
            "align_content": null,
            "align_items": null,
            "align_self": null,
            "border": null,
            "bottom": null,
            "display": null,
            "flex": null,
            "flex_flow": null,
            "grid_area": null,
            "grid_auto_columns": null,
            "grid_auto_flow": null,
            "grid_auto_rows": null,
            "grid_column": null,
            "grid_gap": null,
            "grid_row": null,
            "grid_template_areas": null,
            "grid_template_columns": null,
            "grid_template_rows": null,
            "height": null,
            "justify_content": null,
            "justify_items": null,
            "left": null,
            "margin": null,
            "max_height": null,
            "max_width": null,
            "min_height": null,
            "min_width": null,
            "object_fit": null,
            "object_position": null,
            "order": null,
            "overflow": null,
            "overflow_x": null,
            "overflow_y": null,
            "padding": null,
            "right": null,
            "top": null,
            "visibility": null,
            "width": null
          }
        },
        "cd7cf4a670444da4a6b6eb171c06f45e": {
          "model_module": "@jupyter-widgets/controls",
          "model_name": "DescriptionStyleModel",
          "model_module_version": "1.5.0",
          "state": {
            "_model_module": "@jupyter-widgets/controls",
            "_model_module_version": "1.5.0",
            "_model_name": "DescriptionStyleModel",
            "_view_count": null,
            "_view_module": "@jupyter-widgets/base",
            "_view_module_version": "1.2.0",
            "_view_name": "StyleView",
            "description_width": ""
          }
        },
        "172f44986e894a28a0ccd38893d12d5f": {
          "model_module": "@jupyter-widgets/base",
          "model_name": "LayoutModel",
          "model_module_version": "1.2.0",
          "state": {
            "_model_module": "@jupyter-widgets/base",
            "_model_module_version": "1.2.0",
            "_model_name": "LayoutModel",
            "_view_count": null,
            "_view_module": "@jupyter-widgets/base",
            "_view_module_version": "1.2.0",
            "_view_name": "LayoutView",
            "align_content": null,
            "align_items": null,
            "align_self": null,
            "border": null,
            "bottom": null,
            "display": null,
            "flex": "2",
            "flex_flow": null,
            "grid_area": null,
            "grid_auto_columns": null,
            "grid_auto_flow": null,
            "grid_auto_rows": null,
            "grid_column": null,
            "grid_gap": null,
            "grid_row": null,
            "grid_template_areas": null,
            "grid_template_columns": null,
            "grid_template_rows": null,
            "height": null,
            "justify_content": null,
            "justify_items": null,
            "left": null,
            "margin": null,
            "max_height": null,
            "max_width": null,
            "min_height": null,
            "min_width": null,
            "object_fit": null,
            "object_position": null,
            "order": null,
            "overflow": null,
            "overflow_x": null,
            "overflow_y": null,
            "padding": null,
            "right": null,
            "top": null,
            "visibility": null,
            "width": null
          }
        },
        "fd05796d5f5f498c88d0d0802b88d50f": {
          "model_module": "@jupyter-widgets/controls",
          "model_name": "ProgressStyleModel",
          "model_module_version": "1.5.0",
          "state": {
            "_model_module": "@jupyter-widgets/controls",
            "_model_module_version": "1.5.0",
            "_model_name": "ProgressStyleModel",
            "_view_count": null,
            "_view_module": "@jupyter-widgets/base",
            "_view_module_version": "1.2.0",
            "_view_name": "StyleView",
            "bar_color": null,
            "description_width": ""
          }
        },
        "912c93a8f4d54effa29d4d8034b2bb75": {
          "model_module": "@jupyter-widgets/base",
          "model_name": "LayoutModel",
          "model_module_version": "1.2.0",
          "state": {
            "_model_module": "@jupyter-widgets/base",
            "_model_module_version": "1.2.0",
            "_model_name": "LayoutModel",
            "_view_count": null,
            "_view_module": "@jupyter-widgets/base",
            "_view_module_version": "1.2.0",
            "_view_name": "LayoutView",
            "align_content": null,
            "align_items": null,
            "align_self": null,
            "border": null,
            "bottom": null,
            "display": null,
            "flex": null,
            "flex_flow": null,
            "grid_area": null,
            "grid_auto_columns": null,
            "grid_auto_flow": null,
            "grid_auto_rows": null,
            "grid_column": null,
            "grid_gap": null,
            "grid_row": null,
            "grid_template_areas": null,
            "grid_template_columns": null,
            "grid_template_rows": null,
            "height": null,
            "justify_content": null,
            "justify_items": null,
            "left": null,
            "margin": null,
            "max_height": null,
            "max_width": null,
            "min_height": null,
            "min_width": null,
            "object_fit": null,
            "object_position": null,
            "order": null,
            "overflow": null,
            "overflow_x": null,
            "overflow_y": null,
            "padding": null,
            "right": null,
            "top": null,
            "visibility": null,
            "width": null
          }
        },
        "f1f9320c4fcb4112a58bc0b764c1aee8": {
          "model_module": "@jupyter-widgets/controls",
          "model_name": "DescriptionStyleModel",
          "model_module_version": "1.5.0",
          "state": {
            "_model_module": "@jupyter-widgets/controls",
            "_model_module_version": "1.5.0",
            "_model_name": "DescriptionStyleModel",
            "_view_count": null,
            "_view_module": "@jupyter-widgets/base",
            "_view_module_version": "1.2.0",
            "_view_name": "StyleView",
            "description_width": ""
          }
        }
      }
    }
  },
  "nbformat": 4,
  "nbformat_minor": 0
}